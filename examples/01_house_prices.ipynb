{
 "cells": [
  {
   "cell_type": "markdown",
   "metadata": {},
   "source": [
    "# Init"
   ]
  },
  {
   "cell_type": "code",
   "execution_count": 1,
   "metadata": {},
   "outputs": [],
   "source": [
    "from dstools.dataset import load_house_prices\n",
    "from dstools.preprocess import TransformBinary, TransformColumn, TransformImputer, TransformOthers, OrdinalEncoder\n",
    "from dstools.preprocess import Pipeline\n",
    "\n",
    "import seaborn as sns\n",
    "import numpy as np\n",
    "from scipy import stats\n",
    "import pandas as pd\n",
    "\n",
    "pd.set_option('display.max_columns', 500)"
   ]
  },
  {
   "cell_type": "markdown",
   "metadata": {},
   "source": [
    "The next cell create a pipeline, where is used to accumulate transformations of dataset."
   ]
  },
  {
   "cell_type": "code",
   "execution_count": 2,
   "metadata": {},
   "outputs": [],
   "source": [
    "preproc = []"
   ]
  },
  {
   "cell_type": "markdown",
   "metadata": {},
   "source": [
    "# Load Dataset"
   ]
  },
  {
   "cell_type": "code",
   "execution_count": 3,
   "metadata": {},
   "outputs": [
    {
     "output_type": "execute_result",
     "data": {
      "text/plain": [
       "      MSSubClass MSZoning  LotFrontage  LotArea Street Alley LotShape  \\\n",
       "338           20       RL         91.0    14145   Pave   NaN      Reg   \n",
       "1067          60       RL         80.0     9760   Pave   NaN      Reg   \n",
       "1443          30       RL          NaN     8854   Pave   NaN      Reg   \n",
       "939           70       RL          NaN    24090   Pave   NaN      Reg   \n",
       "923          120       RL         50.0     8012   Pave   NaN      Reg   \n",
       "\n",
       "     LandContour Utilities LotConfig LandSlope Neighborhood Condition1  \\\n",
       "338          Lvl    AllPub    Corner       Gtl       NWAmes       Norm   \n",
       "1067         Lvl    AllPub    Inside       Mod        NAmes       Norm   \n",
       "1443         Lvl    AllPub    Inside       Gtl      BrkSide       Norm   \n",
       "939          Lvl    AllPub    Inside       Gtl      ClearCr       Norm   \n",
       "923          Lvl    AllPub    Inside       Gtl      SawyerW       Norm   \n",
       "\n",
       "     Condition2 BldgType HouseStyle  OverallQual  OverallCond  YearBuilt  \\\n",
       "338        Norm     1Fam     1Story            7            7       1984   \n",
       "1067       Norm     1Fam     2Story            6            6       1964   \n",
       "1443       Norm     1Fam     1.5Unf            6            6       1916   \n",
       "939        Norm     1Fam     2Story            7            7       1940   \n",
       "923        Norm   TwnhsE     1Story            6            5       1993   \n",
       "\n",
       "      YearRemodAdd RoofStyle RoofMatl Exterior1st Exterior2nd MasVnrType  \\\n",
       "338           1998     Gable  CompShg     Wd Sdng     Wd Sdng       None   \n",
       "1067          1964     Gable  CompShg     HdBoard     HdBoard    BrkFace   \n",
       "1443          1950     Gable  CompShg     Wd Sdng     Wd Sdng       None   \n",
       "939           1950     Gable  CompShg     MetalSd     MetalSd       None   \n",
       "923           1994     Gable  CompShg     Plywood     Plywood       None   \n",
       "\n",
       "      MasVnrArea ExterQual ExterCond Foundation BsmtQual BsmtCond  \\\n",
       "338          0.0        Gd        TA     CBlock       Gd       TA   \n",
       "1067       360.0        TA        TA     CBlock       TA       TA   \n",
       "1443         0.0        TA        TA     BrkTil       TA       TA   \n",
       "939          0.0        TA        Gd     CBlock       TA       TA   \n",
       "923          0.0        Gd        TA      PConc       Gd       TA   \n",
       "\n",
       "     BsmtExposure BsmtFinType1  BsmtFinSF1 BsmtFinType2  BsmtFinSF2  \\\n",
       "338            Mn          ALQ         213          Unf           0   \n",
       "1067           Gd          GLQ         674          LwQ         106   \n",
       "1443           No          Unf           0          Unf           0   \n",
       "939            Mn          Unf           0          Unf           0   \n",
       "923            No          LwQ         165          GLQ         841   \n",
       "\n",
       "      BsmtUnfSF  TotalBsmtSF Heating HeatingQC CentralAir Electrical  \\\n",
       "338         995         1208    GasA        Ex          Y      SBrkr   \n",
       "1067          0          780    GasA        TA          Y      SBrkr   \n",
       "1443        952          952    Grav        Fa          N      FuseF   \n",
       "939        1032         1032    GasA        Ex          Y      SBrkr   \n",
       "923         598         1604    GasA        Ex          Y      SBrkr   \n",
       "\n",
       "      1stFlrSF  2ndFlrSF  LowQualFinSF  GrLivArea  BsmtFullBath  BsmtHalfBath  \\\n",
       "338       1621         0             0       1621             1             0   \n",
       "1067       798       813             0       1611             1             0   \n",
       "1443       952         0             0        952             0             0   \n",
       "939       1207      1196             0       2403             0             0   \n",
       "923       1617         0             0       1617             1             0   \n",
       "\n",
       "      FullBath  HalfBath  BedroomAbvGr  KitchenAbvGr KitchenQual  \\\n",
       "338          2         0             3             1          Gd   \n",
       "1067         1         1             4             1          TA   \n",
       "1443         1         0             2             1          Fa   \n",
       "939          2         0             4             1          TA   \n",
       "923          2         0             2             1          Gd   \n",
       "\n",
       "      TotRmsAbvGrd Functional  Fireplaces FireplaceQu GarageType  GarageYrBlt  \\\n",
       "338              8        Typ           0         NaN     Attchd       1984.0   \n",
       "1067             7        Typ           0         NaN     Attchd       1964.0   \n",
       "1443             4        Typ           1          Gd     Detchd       1916.0   \n",
       "939             10        Typ           2          TA     Attchd       1940.0   \n",
       "923              5        Typ           1          Fa     Attchd       1993.0   \n",
       "\n",
       "     GarageFinish  GarageCars  GarageArea GarageQual GarageCond PavedDrive  \\\n",
       "338           RFn           2         440         TA         TA          Y   \n",
       "1067          RFn           2         442         TA         TA          Y   \n",
       "1443          Unf           1         192         Fa         Po          P   \n",
       "939           Unf           1         349         TA         TA          Y   \n",
       "923           RFn           2         533         TA         TA          Y   \n",
       "\n",
       "      WoodDeckSF  OpenPorchSF  EnclosedPorch  3SsnPorch  ScreenPorch  \\\n",
       "338          108           45              0          0            0   \n",
       "1067         328          128              0          0          189   \n",
       "1443           0           98              0          0           40   \n",
       "939           56            0            318          0            0   \n",
       "923            0           69              0          0            0   \n",
       "\n",
       "      PoolArea PoolQC Fence MiscFeature  MiscVal  MoSold  YrSold SaleType  \\\n",
       "338          0    NaN   NaN        Shed      400       5    2006       WD   \n",
       "1067         0    NaN   NaN         NaN        0       6    2008       WD   \n",
       "1443         0    NaN   NaN         NaN        0       5    2009       WD   \n",
       "939          0    NaN   NaN         NaN        0       6    2010      COD   \n",
       "923          0    NaN   NaN         NaN        0       7    2008       WD   \n",
       "\n",
       "     SaleCondition  \n",
       "338         Normal  \n",
       "1067        Normal  \n",
       "1443        Normal  \n",
       "939         Normal  \n",
       "923         Normal  "
      ],
      "text/html": "<div>\n<style scoped>\n    .dataframe tbody tr th:only-of-type {\n        vertical-align: middle;\n    }\n\n    .dataframe tbody tr th {\n        vertical-align: top;\n    }\n\n    .dataframe thead th {\n        text-align: right;\n    }\n</style>\n<table border=\"1\" class=\"dataframe\">\n  <thead>\n    <tr style=\"text-align: right;\">\n      <th></th>\n      <th>MSSubClass</th>\n      <th>MSZoning</th>\n      <th>LotFrontage</th>\n      <th>LotArea</th>\n      <th>Street</th>\n      <th>Alley</th>\n      <th>LotShape</th>\n      <th>LandContour</th>\n      <th>Utilities</th>\n      <th>LotConfig</th>\n      <th>LandSlope</th>\n      <th>Neighborhood</th>\n      <th>Condition1</th>\n      <th>Condition2</th>\n      <th>BldgType</th>\n      <th>HouseStyle</th>\n      <th>OverallQual</th>\n      <th>OverallCond</th>\n      <th>YearBuilt</th>\n      <th>YearRemodAdd</th>\n      <th>RoofStyle</th>\n      <th>RoofMatl</th>\n      <th>Exterior1st</th>\n      <th>Exterior2nd</th>\n      <th>MasVnrType</th>\n      <th>MasVnrArea</th>\n      <th>ExterQual</th>\n      <th>ExterCond</th>\n      <th>Foundation</th>\n      <th>BsmtQual</th>\n      <th>BsmtCond</th>\n      <th>BsmtExposure</th>\n      <th>BsmtFinType1</th>\n      <th>BsmtFinSF1</th>\n      <th>BsmtFinType2</th>\n      <th>BsmtFinSF2</th>\n      <th>BsmtUnfSF</th>\n      <th>TotalBsmtSF</th>\n      <th>Heating</th>\n      <th>HeatingQC</th>\n      <th>CentralAir</th>\n      <th>Electrical</th>\n      <th>1stFlrSF</th>\n      <th>2ndFlrSF</th>\n      <th>LowQualFinSF</th>\n      <th>GrLivArea</th>\n      <th>BsmtFullBath</th>\n      <th>BsmtHalfBath</th>\n      <th>FullBath</th>\n      <th>HalfBath</th>\n      <th>BedroomAbvGr</th>\n      <th>KitchenAbvGr</th>\n      <th>KitchenQual</th>\n      <th>TotRmsAbvGrd</th>\n      <th>Functional</th>\n      <th>Fireplaces</th>\n      <th>FireplaceQu</th>\n      <th>GarageType</th>\n      <th>GarageYrBlt</th>\n      <th>GarageFinish</th>\n      <th>GarageCars</th>\n      <th>GarageArea</th>\n      <th>GarageQual</th>\n      <th>GarageCond</th>\n      <th>PavedDrive</th>\n      <th>WoodDeckSF</th>\n      <th>OpenPorchSF</th>\n      <th>EnclosedPorch</th>\n      <th>3SsnPorch</th>\n      <th>ScreenPorch</th>\n      <th>PoolArea</th>\n      <th>PoolQC</th>\n      <th>Fence</th>\n      <th>MiscFeature</th>\n      <th>MiscVal</th>\n      <th>MoSold</th>\n      <th>YrSold</th>\n      <th>SaleType</th>\n      <th>SaleCondition</th>\n    </tr>\n  </thead>\n  <tbody>\n    <tr>\n      <th>338</th>\n      <td>20</td>\n      <td>RL</td>\n      <td>91.0</td>\n      <td>14145</td>\n      <td>Pave</td>\n      <td>NaN</td>\n      <td>Reg</td>\n      <td>Lvl</td>\n      <td>AllPub</td>\n      <td>Corner</td>\n      <td>Gtl</td>\n      <td>NWAmes</td>\n      <td>Norm</td>\n      <td>Norm</td>\n      <td>1Fam</td>\n      <td>1Story</td>\n      <td>7</td>\n      <td>7</td>\n      <td>1984</td>\n      <td>1998</td>\n      <td>Gable</td>\n      <td>CompShg</td>\n      <td>Wd Sdng</td>\n      <td>Wd Sdng</td>\n      <td>None</td>\n      <td>0.0</td>\n      <td>Gd</td>\n      <td>TA</td>\n      <td>CBlock</td>\n      <td>Gd</td>\n      <td>TA</td>\n      <td>Mn</td>\n      <td>ALQ</td>\n      <td>213</td>\n      <td>Unf</td>\n      <td>0</td>\n      <td>995</td>\n      <td>1208</td>\n      <td>GasA</td>\n      <td>Ex</td>\n      <td>Y</td>\n      <td>SBrkr</td>\n      <td>1621</td>\n      <td>0</td>\n      <td>0</td>\n      <td>1621</td>\n      <td>1</td>\n      <td>0</td>\n      <td>2</td>\n      <td>0</td>\n      <td>3</td>\n      <td>1</td>\n      <td>Gd</td>\n      <td>8</td>\n      <td>Typ</td>\n      <td>0</td>\n      <td>NaN</td>\n      <td>Attchd</td>\n      <td>1984.0</td>\n      <td>RFn</td>\n      <td>2</td>\n      <td>440</td>\n      <td>TA</td>\n      <td>TA</td>\n      <td>Y</td>\n      <td>108</td>\n      <td>45</td>\n      <td>0</td>\n      <td>0</td>\n      <td>0</td>\n      <td>0</td>\n      <td>NaN</td>\n      <td>NaN</td>\n      <td>Shed</td>\n      <td>400</td>\n      <td>5</td>\n      <td>2006</td>\n      <td>WD</td>\n      <td>Normal</td>\n    </tr>\n    <tr>\n      <th>1067</th>\n      <td>60</td>\n      <td>RL</td>\n      <td>80.0</td>\n      <td>9760</td>\n      <td>Pave</td>\n      <td>NaN</td>\n      <td>Reg</td>\n      <td>Lvl</td>\n      <td>AllPub</td>\n      <td>Inside</td>\n      <td>Mod</td>\n      <td>NAmes</td>\n      <td>Norm</td>\n      <td>Norm</td>\n      <td>1Fam</td>\n      <td>2Story</td>\n      <td>6</td>\n      <td>6</td>\n      <td>1964</td>\n      <td>1964</td>\n      <td>Gable</td>\n      <td>CompShg</td>\n      <td>HdBoard</td>\n      <td>HdBoard</td>\n      <td>BrkFace</td>\n      <td>360.0</td>\n      <td>TA</td>\n      <td>TA</td>\n      <td>CBlock</td>\n      <td>TA</td>\n      <td>TA</td>\n      <td>Gd</td>\n      <td>GLQ</td>\n      <td>674</td>\n      <td>LwQ</td>\n      <td>106</td>\n      <td>0</td>\n      <td>780</td>\n      <td>GasA</td>\n      <td>TA</td>\n      <td>Y</td>\n      <td>SBrkr</td>\n      <td>798</td>\n      <td>813</td>\n      <td>0</td>\n      <td>1611</td>\n      <td>1</td>\n      <td>0</td>\n      <td>1</td>\n      <td>1</td>\n      <td>4</td>\n      <td>1</td>\n      <td>TA</td>\n      <td>7</td>\n      <td>Typ</td>\n      <td>0</td>\n      <td>NaN</td>\n      <td>Attchd</td>\n      <td>1964.0</td>\n      <td>RFn</td>\n      <td>2</td>\n      <td>442</td>\n      <td>TA</td>\n      <td>TA</td>\n      <td>Y</td>\n      <td>328</td>\n      <td>128</td>\n      <td>0</td>\n      <td>0</td>\n      <td>189</td>\n      <td>0</td>\n      <td>NaN</td>\n      <td>NaN</td>\n      <td>NaN</td>\n      <td>0</td>\n      <td>6</td>\n      <td>2008</td>\n      <td>WD</td>\n      <td>Normal</td>\n    </tr>\n    <tr>\n      <th>1443</th>\n      <td>30</td>\n      <td>RL</td>\n      <td>NaN</td>\n      <td>8854</td>\n      <td>Pave</td>\n      <td>NaN</td>\n      <td>Reg</td>\n      <td>Lvl</td>\n      <td>AllPub</td>\n      <td>Inside</td>\n      <td>Gtl</td>\n      <td>BrkSide</td>\n      <td>Norm</td>\n      <td>Norm</td>\n      <td>1Fam</td>\n      <td>1.5Unf</td>\n      <td>6</td>\n      <td>6</td>\n      <td>1916</td>\n      <td>1950</td>\n      <td>Gable</td>\n      <td>CompShg</td>\n      <td>Wd Sdng</td>\n      <td>Wd Sdng</td>\n      <td>None</td>\n      <td>0.0</td>\n      <td>TA</td>\n      <td>TA</td>\n      <td>BrkTil</td>\n      <td>TA</td>\n      <td>TA</td>\n      <td>No</td>\n      <td>Unf</td>\n      <td>0</td>\n      <td>Unf</td>\n      <td>0</td>\n      <td>952</td>\n      <td>952</td>\n      <td>Grav</td>\n      <td>Fa</td>\n      <td>N</td>\n      <td>FuseF</td>\n      <td>952</td>\n      <td>0</td>\n      <td>0</td>\n      <td>952</td>\n      <td>0</td>\n      <td>0</td>\n      <td>1</td>\n      <td>0</td>\n      <td>2</td>\n      <td>1</td>\n      <td>Fa</td>\n      <td>4</td>\n      <td>Typ</td>\n      <td>1</td>\n      <td>Gd</td>\n      <td>Detchd</td>\n      <td>1916.0</td>\n      <td>Unf</td>\n      <td>1</td>\n      <td>192</td>\n      <td>Fa</td>\n      <td>Po</td>\n      <td>P</td>\n      <td>0</td>\n      <td>98</td>\n      <td>0</td>\n      <td>0</td>\n      <td>40</td>\n      <td>0</td>\n      <td>NaN</td>\n      <td>NaN</td>\n      <td>NaN</td>\n      <td>0</td>\n      <td>5</td>\n      <td>2009</td>\n      <td>WD</td>\n      <td>Normal</td>\n    </tr>\n    <tr>\n      <th>939</th>\n      <td>70</td>\n      <td>RL</td>\n      <td>NaN</td>\n      <td>24090</td>\n      <td>Pave</td>\n      <td>NaN</td>\n      <td>Reg</td>\n      <td>Lvl</td>\n      <td>AllPub</td>\n      <td>Inside</td>\n      <td>Gtl</td>\n      <td>ClearCr</td>\n      <td>Norm</td>\n      <td>Norm</td>\n      <td>1Fam</td>\n      <td>2Story</td>\n      <td>7</td>\n      <td>7</td>\n      <td>1940</td>\n      <td>1950</td>\n      <td>Gable</td>\n      <td>CompShg</td>\n      <td>MetalSd</td>\n      <td>MetalSd</td>\n      <td>None</td>\n      <td>0.0</td>\n      <td>TA</td>\n      <td>Gd</td>\n      <td>CBlock</td>\n      <td>TA</td>\n      <td>TA</td>\n      <td>Mn</td>\n      <td>Unf</td>\n      <td>0</td>\n      <td>Unf</td>\n      <td>0</td>\n      <td>1032</td>\n      <td>1032</td>\n      <td>GasA</td>\n      <td>Ex</td>\n      <td>Y</td>\n      <td>SBrkr</td>\n      <td>1207</td>\n      <td>1196</td>\n      <td>0</td>\n      <td>2403</td>\n      <td>0</td>\n      <td>0</td>\n      <td>2</td>\n      <td>0</td>\n      <td>4</td>\n      <td>1</td>\n      <td>TA</td>\n      <td>10</td>\n      <td>Typ</td>\n      <td>2</td>\n      <td>TA</td>\n      <td>Attchd</td>\n      <td>1940.0</td>\n      <td>Unf</td>\n      <td>1</td>\n      <td>349</td>\n      <td>TA</td>\n      <td>TA</td>\n      <td>Y</td>\n      <td>56</td>\n      <td>0</td>\n      <td>318</td>\n      <td>0</td>\n      <td>0</td>\n      <td>0</td>\n      <td>NaN</td>\n      <td>NaN</td>\n      <td>NaN</td>\n      <td>0</td>\n      <td>6</td>\n      <td>2010</td>\n      <td>COD</td>\n      <td>Normal</td>\n    </tr>\n    <tr>\n      <th>923</th>\n      <td>120</td>\n      <td>RL</td>\n      <td>50.0</td>\n      <td>8012</td>\n      <td>Pave</td>\n      <td>NaN</td>\n      <td>Reg</td>\n      <td>Lvl</td>\n      <td>AllPub</td>\n      <td>Inside</td>\n      <td>Gtl</td>\n      <td>SawyerW</td>\n      <td>Norm</td>\n      <td>Norm</td>\n      <td>TwnhsE</td>\n      <td>1Story</td>\n      <td>6</td>\n      <td>5</td>\n      <td>1993</td>\n      <td>1994</td>\n      <td>Gable</td>\n      <td>CompShg</td>\n      <td>Plywood</td>\n      <td>Plywood</td>\n      <td>None</td>\n      <td>0.0</td>\n      <td>Gd</td>\n      <td>TA</td>\n      <td>PConc</td>\n      <td>Gd</td>\n      <td>TA</td>\n      <td>No</td>\n      <td>LwQ</td>\n      <td>165</td>\n      <td>GLQ</td>\n      <td>841</td>\n      <td>598</td>\n      <td>1604</td>\n      <td>GasA</td>\n      <td>Ex</td>\n      <td>Y</td>\n      <td>SBrkr</td>\n      <td>1617</td>\n      <td>0</td>\n      <td>0</td>\n      <td>1617</td>\n      <td>1</td>\n      <td>0</td>\n      <td>2</td>\n      <td>0</td>\n      <td>2</td>\n      <td>1</td>\n      <td>Gd</td>\n      <td>5</td>\n      <td>Typ</td>\n      <td>1</td>\n      <td>Fa</td>\n      <td>Attchd</td>\n      <td>1993.0</td>\n      <td>RFn</td>\n      <td>2</td>\n      <td>533</td>\n      <td>TA</td>\n      <td>TA</td>\n      <td>Y</td>\n      <td>0</td>\n      <td>69</td>\n      <td>0</td>\n      <td>0</td>\n      <td>0</td>\n      <td>0</td>\n      <td>NaN</td>\n      <td>NaN</td>\n      <td>NaN</td>\n      <td>0</td>\n      <td>7</td>\n      <td>2008</td>\n      <td>WD</td>\n      <td>Normal</td>\n    </tr>\n  </tbody>\n</table>\n</div>"
     },
     "metadata": {},
     "execution_count": 3
    }
   ],
   "source": [
    "from sklearn.model_selection import train_test_split\n",
    "\n",
    "train_ini, test = load_house_prices()\n",
    "train = train_ini.copy()\n",
    "\n",
    "X_train, X_test, y_train, y_test = train_test_split(\n",
    "    train.drop(columns='SalePrice'),train['SalePrice'],\n",
    "    train_size=0.75, test_size=0.25\n",
    ")\n",
    "\n",
    "X_train.head(5)"
   ]
  },
  {
   "cell_type": "code",
   "execution_count": 4,
   "metadata": {
    "scrolled": true
   },
   "outputs": [
    {
     "output_type": "execute_result",
     "data": {
      "text/plain": [
       "(1095, 79)"
      ]
     },
     "metadata": {},
     "execution_count": 4
    }
   ],
   "source": [
    "X_train.shape"
   ]
  },
  {
   "cell_type": "code",
   "execution_count": 5,
   "metadata": {
    "scrolled": false
   },
   "outputs": [
    {
     "output_type": "execute_result",
     "data": {
      "text/plain": [
       "(365, 79)"
      ]
     },
     "metadata": {},
     "execution_count": 5
    }
   ],
   "source": [
    "X_test.shape"
   ]
  },
  {
   "cell_type": "markdown",
   "metadata": {},
   "source": [
    "# Analysis"
   ]
  },
  {
   "cell_type": "code",
   "execution_count": 6,
   "metadata": {},
   "outputs": [
    {
     "output_type": "execute_result",
     "data": {
      "text/plain": [
       "<matplotlib.axes._subplots.AxesSubplot at 0x7f0fa44e9d60>"
      ]
     },
     "metadata": {},
     "execution_count": 6
    },
    {
     "output_type": "display_data",
     "data": {
      "text/plain": "<Figure size 432x288 with 1 Axes>",
      "image/svg+xml": "<?xml version=\"1.0\" encoding=\"utf-8\" standalone=\"no\"?>\n<!DOCTYPE svg PUBLIC \"-//W3C//DTD SVG 1.1//EN\"\n  \"http://www.w3.org/Graphics/SVG/1.1/DTD/svg11.dtd\">\n<!-- Created with matplotlib (https://matplotlib.org/) -->\n<svg height=\"272.794688pt\" version=\"1.1\" viewBox=\"0 0 364.938913 272.794688\" width=\"364.938913pt\" xmlns=\"http://www.w3.org/2000/svg\" xmlns:xlink=\"http://www.w3.org/1999/xlink\">\n <defs>\n  <style type=\"text/css\">\n*{stroke-linecap:butt;stroke-linejoin:round;}\n  </style>\n </defs>\n <g id=\"figure_1\">\n  <g id=\"patch_1\">\n   <path d=\"M 0 272.794688 \nL 364.938913 272.794688 \nL 364.938913 0 \nL 0 0 \nz\n\" style=\"fill:none;\"/>\n  </g>\n  <g id=\"axes_1\">\n   <g id=\"patch_2\">\n    <path d=\"M 20.5625 235.238438 \nL 355.3625 235.238438 \nL 355.3625 17.798438 \nL 20.5625 17.798438 \nz\n\" style=\"fill:#ffffff;\"/>\n   </g>\n   <g id=\"patch_3\">\n    <path clip-path=\"url(#p6f6922bd63)\" d=\"M 54.014732 235.238438 \nL 60.103267 235.238438 \nL 60.103267 231.281386 \nL 54.014732 231.281386 \nz\n\" style=\"fill:#1f77b4;opacity:0.4;\"/>\n   </g>\n   <g id=\"patch_4\">\n    <path clip-path=\"url(#p6f6922bd63)\" d=\"M 60.103267 235.238438 \nL 66.191802 235.238438 \nL 66.191802 218.091213 \nL 60.103267 218.091213 \nz\n\" style=\"fill:#1f77b4;opacity:0.4;\"/>\n   </g>\n   <g id=\"patch_5\">\n    <path clip-path=\"url(#p6f6922bd63)\" d=\"M 66.191802 235.238438 \nL 72.280337 235.238438 \nL 72.280337 206.220057 \nL 66.191802 206.220057 \nz\n\" style=\"fill:#1f77b4;opacity:0.4;\"/>\n   </g>\n   <g id=\"patch_6\">\n    <path clip-path=\"url(#p6f6922bd63)\" d=\"M 72.280337 235.238438 \nL 78.368872 235.238438 \nL 78.368872 158.735435 \nL 72.280337 158.735435 \nz\n\" style=\"fill:#1f77b4;opacity:0.4;\"/>\n   </g>\n   <g id=\"patch_7\">\n    <path clip-path=\"url(#p6f6922bd63)\" d=\"M 78.368872 235.238438 \nL 84.457407 235.238438 \nL 84.457407 136.312141 \nL 78.368872 136.312141 \nz\n\" style=\"fill:#1f77b4;opacity:0.4;\"/>\n   </g>\n   <g id=\"patch_8\">\n    <path clip-path=\"url(#p6f6922bd63)\" d=\"M 84.457407 235.238438 \nL 90.545942 235.238438 \nL 90.545942 47.937983 \nL 84.457407 47.937983 \nz\n\" style=\"fill:#1f77b4;opacity:0.4;\"/>\n   </g>\n   <g id=\"patch_9\">\n    <path clip-path=\"url(#p6f6922bd63)\" d=\"M 90.545942 235.238438 \nL 96.634477 235.238438 \nL 96.634477 28.152723 \nL 90.545942 28.152723 \nz\n\" style=\"fill:#1f77b4;opacity:0.4;\"/>\n   </g>\n   <g id=\"patch_10\">\n    <path clip-path=\"url(#p6f6922bd63)\" d=\"M 96.634477 235.238438 \nL 102.723012 235.238438 \nL 102.723012 99.379657 \nL 96.634477 99.379657 \nz\n\" style=\"fill:#1f77b4;opacity:0.4;\"/>\n   </g>\n   <g id=\"patch_11\">\n    <path clip-path=\"url(#p6f6922bd63)\" d=\"M 102.723012 235.238438 \nL 108.811546 235.238438 \nL 108.811546 88.827518 \nL 102.723012 88.827518 \nz\n\" style=\"fill:#1f77b4;opacity:0.4;\"/>\n   </g>\n   <g id=\"patch_12\">\n    <path clip-path=\"url(#p6f6922bd63)\" d=\"M 108.811546 235.238438 \nL 114.900081 235.238438 \nL 114.900081 117.845899 \nL 108.811546 117.845899 \nz\n\" style=\"fill:#1f77b4;opacity:0.4;\"/>\n   </g>\n   <g id=\"patch_13\">\n    <path clip-path=\"url(#p6f6922bd63)\" d=\"M 114.900081 235.238438 \nL 120.988616 235.238438 \nL 120.988616 160.054452 \nL 114.900081 160.054452 \nz\n\" style=\"fill:#1f77b4;opacity:0.4;\"/>\n   </g>\n   <g id=\"patch_14\">\n    <path clip-path=\"url(#p6f6922bd63)\" d=\"M 120.988616 235.238438 \nL 127.077151 235.238438 \nL 127.077151 162.692487 \nL 120.988616 162.692487 \nz\n\" style=\"fill:#1f77b4;opacity:0.4;\"/>\n   </g>\n   <g id=\"patch_15\">\n    <path clip-path=\"url(#p6f6922bd63)\" d=\"M 127.077151 235.238438 \nL 133.165686 235.238438 \nL 133.165686 179.839711 \nL 127.077151 179.839711 \nz\n\" style=\"fill:#1f77b4;opacity:0.4;\"/>\n   </g>\n   <g id=\"patch_16\">\n    <path clip-path=\"url(#p6f6922bd63)\" d=\"M 133.165686 235.238438 \nL 139.254221 235.238438 \nL 139.254221 185.115781 \nL 133.165686 185.115781 \nz\n\" style=\"fill:#1f77b4;opacity:0.4;\"/>\n   </g>\n   <g id=\"patch_17\">\n    <path clip-path=\"url(#p6f6922bd63)\" d=\"M 139.254221 235.238438 \nL 145.342756 235.238438 \nL 145.342756 195.667919 \nL 139.254221 195.667919 \nz\n\" style=\"fill:#1f77b4;opacity:0.4;\"/>\n   </g>\n   <g id=\"patch_18\">\n    <path clip-path=\"url(#p6f6922bd63)\" d=\"M 145.342756 235.238438 \nL 151.431291 235.238438 \nL 151.431291 212.815144 \nL 145.342756 212.815144 \nz\n\" style=\"fill:#1f77b4;opacity:0.4;\"/>\n   </g>\n   <g id=\"patch_19\">\n    <path clip-path=\"url(#p6f6922bd63)\" d=\"M 151.431291 235.238438 \nL 157.519826 235.238438 \nL 157.519826 214.134161 \nL 151.431291 214.134161 \nz\n\" style=\"fill:#1f77b4;opacity:0.4;\"/>\n   </g>\n   <g id=\"patch_20\">\n    <path clip-path=\"url(#p6f6922bd63)\" d=\"M 157.519826 235.238438 \nL 163.60836 235.238438 \nL 163.60836 208.858092 \nL 157.519826 208.858092 \nz\n\" style=\"fill:#1f77b4;opacity:0.4;\"/>\n   </g>\n   <g id=\"patch_21\">\n    <path clip-path=\"url(#p6f6922bd63)\" d=\"M 163.60836 235.238438 \nL 169.696895 235.238438 \nL 169.696895 229.962368 \nL 163.60836 229.962368 \nz\n\" style=\"fill:#1f77b4;opacity:0.4;\"/>\n   </g>\n   <g id=\"patch_22\">\n    <path clip-path=\"url(#p6f6922bd63)\" d=\"M 169.696895 235.238438 \nL 175.78543 235.238438 \nL 175.78543 228.643351 \nL 169.696895 228.643351 \nz\n\" style=\"fill:#1f77b4;opacity:0.4;\"/>\n   </g>\n   <g id=\"patch_23\">\n    <path clip-path=\"url(#p6f6922bd63)\" d=\"M 175.78543 235.238438 \nL 181.873965 235.238438 \nL 181.873965 226.005316 \nL 175.78543 226.005316 \nz\n\" style=\"fill:#1f77b4;opacity:0.4;\"/>\n   </g>\n   <g id=\"patch_24\">\n    <path clip-path=\"url(#p6f6922bd63)\" d=\"M 181.873965 235.238438 \nL 187.9625 235.238438 \nL 187.9625 226.005316 \nL 181.873965 226.005316 \nz\n\" style=\"fill:#1f77b4;opacity:0.4;\"/>\n   </g>\n   <g id=\"patch_25\">\n    <path clip-path=\"url(#p6f6922bd63)\" d=\"M 187.9625 235.238438 \nL 194.051035 235.238438 \nL 194.051035 227.324334 \nL 187.9625 227.324334 \nz\n\" style=\"fill:#1f77b4;opacity:0.4;\"/>\n   </g>\n   <g id=\"patch_26\">\n    <path clip-path=\"url(#p6f6922bd63)\" d=\"M 194.051035 235.238438 \nL 200.13957 235.238438 \nL 200.13957 229.962368 \nL 194.051035 229.962368 \nz\n\" style=\"fill:#1f77b4;opacity:0.4;\"/>\n   </g>\n   <g id=\"patch_27\">\n    <path clip-path=\"url(#p6f6922bd63)\" d=\"M 200.13957 235.238438 \nL 206.228105 235.238438 \nL 206.228105 231.281386 \nL 200.13957 231.281386 \nz\n\" style=\"fill:#1f77b4;opacity:0.4;\"/>\n   </g>\n   <g id=\"patch_28\">\n    <path clip-path=\"url(#p6f6922bd63)\" d=\"M 206.228105 235.238438 \nL 212.31664 235.238438 \nL 212.31664 233.91942 \nL 206.228105 233.91942 \nz\n\" style=\"fill:#1f77b4;opacity:0.4;\"/>\n   </g>\n   <g id=\"patch_29\">\n    <path clip-path=\"url(#p6f6922bd63)\" d=\"M 212.31664 235.238438 \nL 218.405174 235.238438 \nL 218.405174 232.600403 \nL 212.31664 232.600403 \nz\n\" style=\"fill:#1f77b4;opacity:0.4;\"/>\n   </g>\n   <g id=\"patch_30\">\n    <path clip-path=\"url(#p6f6922bd63)\" d=\"M 218.405174 235.238438 \nL 224.493709 235.238438 \nL 224.493709 233.91942 \nL 218.405174 233.91942 \nz\n\" style=\"fill:#1f77b4;opacity:0.4;\"/>\n   </g>\n   <g id=\"patch_31\">\n    <path clip-path=\"url(#p6f6922bd63)\" d=\"M 224.493709 235.238438 \nL 230.582244 235.238438 \nL 230.582244 233.91942 \nL 224.493709 233.91942 \nz\n\" style=\"fill:#1f77b4;opacity:0.4;\"/>\n   </g>\n   <g id=\"patch_32\">\n    <path clip-path=\"url(#p6f6922bd63)\" d=\"M 230.582244 235.238438 \nL 236.670779 235.238438 \nL 236.670779 235.238438 \nL 230.582244 235.238438 \nz\n\" style=\"fill:#1f77b4;opacity:0.4;\"/>\n   </g>\n   <g id=\"patch_33\">\n    <path clip-path=\"url(#p6f6922bd63)\" d=\"M 236.670779 235.238438 \nL 242.759314 235.238438 \nL 242.759314 235.238438 \nL 236.670779 235.238438 \nz\n\" style=\"fill:#1f77b4;opacity:0.4;\"/>\n   </g>\n   <g id=\"patch_34\">\n    <path clip-path=\"url(#p6f6922bd63)\" d=\"M 242.759314 235.238438 \nL 248.847849 235.238438 \nL 248.847849 233.91942 \nL 242.759314 233.91942 \nz\n\" style=\"fill:#1f77b4;opacity:0.4;\"/>\n   </g>\n   <g id=\"patch_35\">\n    <path clip-path=\"url(#p6f6922bd63)\" d=\"M 248.847849 235.238438 \nL 254.936384 235.238438 \nL 254.936384 235.238438 \nL 248.847849 235.238438 \nz\n\" style=\"fill:#1f77b4;opacity:0.4;\"/>\n   </g>\n   <g id=\"patch_36\">\n    <path clip-path=\"url(#p6f6922bd63)\" d=\"M 254.936384 235.238438 \nL 261.024919 235.238438 \nL 261.024919 233.91942 \nL 254.936384 233.91942 \nz\n\" style=\"fill:#1f77b4;opacity:0.4;\"/>\n   </g>\n   <g id=\"patch_37\">\n    <path clip-path=\"url(#p6f6922bd63)\" d=\"M 261.024919 235.238438 \nL 267.113454 235.238438 \nL 267.113454 235.238438 \nL 261.024919 235.238438 \nz\n\" style=\"fill:#1f77b4;opacity:0.4;\"/>\n   </g>\n   <g id=\"patch_38\">\n    <path clip-path=\"url(#p6f6922bd63)\" d=\"M 267.113454 235.238438 \nL 273.201988 235.238438 \nL 273.201988 233.91942 \nL 267.113454 233.91942 \nz\n\" style=\"fill:#1f77b4;opacity:0.4;\"/>\n   </g>\n   <g id=\"patch_39\">\n    <path clip-path=\"url(#p6f6922bd63)\" d=\"M 273.201988 235.238438 \nL 279.290523 235.238438 \nL 279.290523 233.91942 \nL 273.201988 233.91942 \nz\n\" style=\"fill:#1f77b4;opacity:0.4;\"/>\n   </g>\n   <g id=\"patch_40\">\n    <path clip-path=\"url(#p6f6922bd63)\" d=\"M 279.290523 235.238438 \nL 285.379058 235.238438 \nL 285.379058 235.238438 \nL 279.290523 235.238438 \nz\n\" style=\"fill:#1f77b4;opacity:0.4;\"/>\n   </g>\n   <g id=\"patch_41\">\n    <path clip-path=\"url(#p6f6922bd63)\" d=\"M 285.379058 235.238438 \nL 291.467593 235.238438 \nL 291.467593 235.238438 \nL 285.379058 235.238438 \nz\n\" style=\"fill:#1f77b4;opacity:0.4;\"/>\n   </g>\n   <g id=\"patch_42\">\n    <path clip-path=\"url(#p6f6922bd63)\" d=\"M 291.467593 235.238438 \nL 297.556128 235.238438 \nL 297.556128 235.238438 \nL 291.467593 235.238438 \nz\n\" style=\"fill:#1f77b4;opacity:0.4;\"/>\n   </g>\n   <g id=\"patch_43\">\n    <path clip-path=\"url(#p6f6922bd63)\" d=\"M 297.556128 235.238438 \nL 303.644663 235.238438 \nL 303.644663 235.238438 \nL 297.556128 235.238438 \nz\n\" style=\"fill:#1f77b4;opacity:0.4;\"/>\n   </g>\n   <g id=\"patch_44\">\n    <path clip-path=\"url(#p6f6922bd63)\" d=\"M 303.644663 235.238438 \nL 309.733198 235.238438 \nL 309.733198 235.238438 \nL 303.644663 235.238438 \nz\n\" style=\"fill:#1f77b4;opacity:0.4;\"/>\n   </g>\n   <g id=\"patch_45\">\n    <path clip-path=\"url(#p6f6922bd63)\" d=\"M 309.733198 235.238438 \nL 315.821733 235.238438 \nL 315.821733 235.238438 \nL 309.733198 235.238438 \nz\n\" style=\"fill:#1f77b4;opacity:0.4;\"/>\n   </g>\n   <g id=\"patch_46\">\n    <path clip-path=\"url(#p6f6922bd63)\" d=\"M 315.821733 235.238438 \nL 321.910268 235.238438 \nL 321.910268 232.600403 \nL 315.821733 232.600403 \nz\n\" style=\"fill:#1f77b4;opacity:0.4;\"/>\n   </g>\n   <g id=\"matplotlib.axis_1\">\n    <g id=\"xtick_1\">\n     <g id=\"line2d_1\">\n      <defs>\n       <path d=\"M 0 0 \nL 0 3.5 \n\" id=\"m9bdf0a16f9\" style=\"stroke:#000000;stroke-width:0.8;\"/>\n      </defs>\n      <g>\n       <use style=\"stroke:#000000;stroke-width:0.8;\" x=\"41.031044\" xlink:href=\"#m9bdf0a16f9\" y=\"235.238438\"/>\n      </g>\n     </g>\n     <g id=\"text_1\">\n      <!-- 0 -->\n      <defs>\n       <path d=\"M 31.78125 66.40625 \nQ 24.171875 66.40625 20.328125 58.90625 \nQ 16.5 51.421875 16.5 36.375 \nQ 16.5 21.390625 20.328125 13.890625 \nQ 24.171875 6.390625 31.78125 6.390625 \nQ 39.453125 6.390625 43.28125 13.890625 \nQ 47.125 21.390625 47.125 36.375 \nQ 47.125 51.421875 43.28125 58.90625 \nQ 39.453125 66.40625 31.78125 66.40625 \nz\nM 31.78125 74.21875 \nQ 44.046875 74.21875 50.515625 64.515625 \nQ 56.984375 54.828125 56.984375 36.375 \nQ 56.984375 17.96875 50.515625 8.265625 \nQ 44.046875 -1.421875 31.78125 -1.421875 \nQ 19.53125 -1.421875 13.0625 8.265625 \nQ 6.59375 17.96875 6.59375 36.375 \nQ 6.59375 54.828125 13.0625 64.515625 \nQ 19.53125 74.21875 31.78125 74.21875 \nz\n\" id=\"DejaVuSans-48\"/>\n      </defs>\n      <g transform=\"translate(37.849794 249.836875)scale(0.1 -0.1)\">\n       <use xlink:href=\"#DejaVuSans-48\"/>\n      </g>\n     </g>\n    </g>\n    <g id=\"xtick_2\">\n     <g id=\"line2d_2\">\n      <g>\n       <use style=\"stroke:#000000;stroke-width:0.8;\" x=\"78.23359\" xlink:href=\"#m9bdf0a16f9\" y=\"235.238438\"/>\n      </g>\n     </g>\n     <g id=\"text_2\">\n      <!-- 100000 -->\n      <defs>\n       <path d=\"M 12.40625 8.296875 \nL 28.515625 8.296875 \nL 28.515625 63.921875 \nL 10.984375 60.40625 \nL 10.984375 69.390625 \nL 28.421875 72.90625 \nL 38.28125 72.90625 \nL 38.28125 8.296875 \nL 54.390625 8.296875 \nL 54.390625 0 \nL 12.40625 0 \nz\n\" id=\"DejaVuSans-49\"/>\n      </defs>\n      <g transform=\"translate(59.14609 249.836875)scale(0.1 -0.1)\">\n       <use xlink:href=\"#DejaVuSans-49\"/>\n       <use x=\"63.623047\" xlink:href=\"#DejaVuSans-48\"/>\n       <use x=\"127.246094\" xlink:href=\"#DejaVuSans-48\"/>\n       <use x=\"190.869141\" xlink:href=\"#DejaVuSans-48\"/>\n       <use x=\"254.492188\" xlink:href=\"#DejaVuSans-48\"/>\n       <use x=\"318.115234\" xlink:href=\"#DejaVuSans-48\"/>\n      </g>\n     </g>\n    </g>\n    <g id=\"xtick_3\">\n     <g id=\"line2d_3\">\n      <g>\n       <use style=\"stroke:#000000;stroke-width:0.8;\" x=\"115.436136\" xlink:href=\"#m9bdf0a16f9\" y=\"235.238438\"/>\n      </g>\n     </g>\n     <g id=\"text_3\">\n      <!-- 200000 -->\n      <defs>\n       <path d=\"M 19.1875 8.296875 \nL 53.609375 8.296875 \nL 53.609375 0 \nL 7.328125 0 \nL 7.328125 8.296875 \nQ 12.9375 14.109375 22.625 23.890625 \nQ 32.328125 33.6875 34.8125 36.53125 \nQ 39.546875 41.84375 41.421875 45.53125 \nQ 43.3125 49.21875 43.3125 52.78125 \nQ 43.3125 58.59375 39.234375 62.25 \nQ 35.15625 65.921875 28.609375 65.921875 \nQ 23.96875 65.921875 18.8125 64.3125 \nQ 13.671875 62.703125 7.8125 59.421875 \nL 7.8125 69.390625 \nQ 13.765625 71.78125 18.9375 73 \nQ 24.125 74.21875 28.421875 74.21875 \nQ 39.75 74.21875 46.484375 68.546875 \nQ 53.21875 62.890625 53.21875 53.421875 \nQ 53.21875 48.921875 51.53125 44.890625 \nQ 49.859375 40.875 45.40625 35.40625 \nQ 44.1875 33.984375 37.640625 27.21875 \nQ 31.109375 20.453125 19.1875 8.296875 \nz\n\" id=\"DejaVuSans-50\"/>\n      </defs>\n      <g transform=\"translate(96.348636 249.836875)scale(0.1 -0.1)\">\n       <use xlink:href=\"#DejaVuSans-50\"/>\n       <use x=\"63.623047\" xlink:href=\"#DejaVuSans-48\"/>\n       <use x=\"127.246094\" xlink:href=\"#DejaVuSans-48\"/>\n       <use x=\"190.869141\" xlink:href=\"#DejaVuSans-48\"/>\n       <use x=\"254.492188\" xlink:href=\"#DejaVuSans-48\"/>\n       <use x=\"318.115234\" xlink:href=\"#DejaVuSans-48\"/>\n      </g>\n     </g>\n    </g>\n    <g id=\"xtick_4\">\n     <g id=\"line2d_4\">\n      <g>\n       <use style=\"stroke:#000000;stroke-width:0.8;\" x=\"152.638682\" xlink:href=\"#m9bdf0a16f9\" y=\"235.238438\"/>\n      </g>\n     </g>\n     <g id=\"text_4\">\n      <!-- 300000 -->\n      <defs>\n       <path d=\"M 40.578125 39.3125 \nQ 47.65625 37.796875 51.625 33 \nQ 55.609375 28.21875 55.609375 21.1875 \nQ 55.609375 10.40625 48.1875 4.484375 \nQ 40.765625 -1.421875 27.09375 -1.421875 \nQ 22.515625 -1.421875 17.65625 -0.515625 \nQ 12.796875 0.390625 7.625 2.203125 \nL 7.625 11.71875 \nQ 11.71875 9.328125 16.59375 8.109375 \nQ 21.484375 6.890625 26.8125 6.890625 \nQ 36.078125 6.890625 40.9375 10.546875 \nQ 45.796875 14.203125 45.796875 21.1875 \nQ 45.796875 27.640625 41.28125 31.265625 \nQ 36.765625 34.90625 28.71875 34.90625 \nL 20.21875 34.90625 \nL 20.21875 43.015625 \nL 29.109375 43.015625 \nQ 36.375 43.015625 40.234375 45.921875 \nQ 44.09375 48.828125 44.09375 54.296875 \nQ 44.09375 59.90625 40.109375 62.90625 \nQ 36.140625 65.921875 28.71875 65.921875 \nQ 24.65625 65.921875 20.015625 65.03125 \nQ 15.375 64.15625 9.8125 62.3125 \nL 9.8125 71.09375 \nQ 15.4375 72.65625 20.34375 73.4375 \nQ 25.25 74.21875 29.59375 74.21875 \nQ 40.828125 74.21875 47.359375 69.109375 \nQ 53.90625 64.015625 53.90625 55.328125 \nQ 53.90625 49.265625 50.4375 45.09375 \nQ 46.96875 40.921875 40.578125 39.3125 \nz\n\" id=\"DejaVuSans-51\"/>\n      </defs>\n      <g transform=\"translate(133.551182 249.836875)scale(0.1 -0.1)\">\n       <use xlink:href=\"#DejaVuSans-51\"/>\n       <use x=\"63.623047\" xlink:href=\"#DejaVuSans-48\"/>\n       <use x=\"127.246094\" xlink:href=\"#DejaVuSans-48\"/>\n       <use x=\"190.869141\" xlink:href=\"#DejaVuSans-48\"/>\n       <use x=\"254.492188\" xlink:href=\"#DejaVuSans-48\"/>\n       <use x=\"318.115234\" xlink:href=\"#DejaVuSans-48\"/>\n      </g>\n     </g>\n    </g>\n    <g id=\"xtick_5\">\n     <g id=\"line2d_5\">\n      <g>\n       <use style=\"stroke:#000000;stroke-width:0.8;\" x=\"189.841229\" xlink:href=\"#m9bdf0a16f9\" y=\"235.238438\"/>\n      </g>\n     </g>\n     <g id=\"text_5\">\n      <!-- 400000 -->\n      <defs>\n       <path d=\"M 37.796875 64.3125 \nL 12.890625 25.390625 \nL 37.796875 25.390625 \nz\nM 35.203125 72.90625 \nL 47.609375 72.90625 \nL 47.609375 25.390625 \nL 58.015625 25.390625 \nL 58.015625 17.1875 \nL 47.609375 17.1875 \nL 47.609375 0 \nL 37.796875 0 \nL 37.796875 17.1875 \nL 4.890625 17.1875 \nL 4.890625 26.703125 \nz\n\" id=\"DejaVuSans-52\"/>\n      </defs>\n      <g transform=\"translate(170.753729 249.836875)scale(0.1 -0.1)\">\n       <use xlink:href=\"#DejaVuSans-52\"/>\n       <use x=\"63.623047\" xlink:href=\"#DejaVuSans-48\"/>\n       <use x=\"127.246094\" xlink:href=\"#DejaVuSans-48\"/>\n       <use x=\"190.869141\" xlink:href=\"#DejaVuSans-48\"/>\n       <use x=\"254.492188\" xlink:href=\"#DejaVuSans-48\"/>\n       <use x=\"318.115234\" xlink:href=\"#DejaVuSans-48\"/>\n      </g>\n     </g>\n    </g>\n    <g id=\"xtick_6\">\n     <g id=\"line2d_6\">\n      <g>\n       <use style=\"stroke:#000000;stroke-width:0.8;\" x=\"227.043775\" xlink:href=\"#m9bdf0a16f9\" y=\"235.238438\"/>\n      </g>\n     </g>\n     <g id=\"text_6\">\n      <!-- 500000 -->\n      <defs>\n       <path d=\"M 10.796875 72.90625 \nL 49.515625 72.90625 \nL 49.515625 64.59375 \nL 19.828125 64.59375 \nL 19.828125 46.734375 \nQ 21.96875 47.46875 24.109375 47.828125 \nQ 26.265625 48.1875 28.421875 48.1875 \nQ 40.625 48.1875 47.75 41.5 \nQ 54.890625 34.8125 54.890625 23.390625 \nQ 54.890625 11.625 47.5625 5.09375 \nQ 40.234375 -1.421875 26.90625 -1.421875 \nQ 22.3125 -1.421875 17.546875 -0.640625 \nQ 12.796875 0.140625 7.71875 1.703125 \nL 7.71875 11.625 \nQ 12.109375 9.234375 16.796875 8.0625 \nQ 21.484375 6.890625 26.703125 6.890625 \nQ 35.15625 6.890625 40.078125 11.328125 \nQ 45.015625 15.765625 45.015625 23.390625 \nQ 45.015625 31 40.078125 35.4375 \nQ 35.15625 39.890625 26.703125 39.890625 \nQ 22.75 39.890625 18.8125 39.015625 \nQ 14.890625 38.140625 10.796875 36.28125 \nz\n\" id=\"DejaVuSans-53\"/>\n      </defs>\n      <g transform=\"translate(207.956275 249.836875)scale(0.1 -0.1)\">\n       <use xlink:href=\"#DejaVuSans-53\"/>\n       <use x=\"63.623047\" xlink:href=\"#DejaVuSans-48\"/>\n       <use x=\"127.246094\" xlink:href=\"#DejaVuSans-48\"/>\n       <use x=\"190.869141\" xlink:href=\"#DejaVuSans-48\"/>\n       <use x=\"254.492188\" xlink:href=\"#DejaVuSans-48\"/>\n       <use x=\"318.115234\" xlink:href=\"#DejaVuSans-48\"/>\n      </g>\n     </g>\n    </g>\n    <g id=\"xtick_7\">\n     <g id=\"line2d_7\">\n      <g>\n       <use style=\"stroke:#000000;stroke-width:0.8;\" x=\"264.246321\" xlink:href=\"#m9bdf0a16f9\" y=\"235.238438\"/>\n      </g>\n     </g>\n     <g id=\"text_7\">\n      <!-- 600000 -->\n      <defs>\n       <path d=\"M 33.015625 40.375 \nQ 26.375 40.375 22.484375 35.828125 \nQ 18.609375 31.296875 18.609375 23.390625 \nQ 18.609375 15.53125 22.484375 10.953125 \nQ 26.375 6.390625 33.015625 6.390625 \nQ 39.65625 6.390625 43.53125 10.953125 \nQ 47.40625 15.53125 47.40625 23.390625 \nQ 47.40625 31.296875 43.53125 35.828125 \nQ 39.65625 40.375 33.015625 40.375 \nz\nM 52.59375 71.296875 \nL 52.59375 62.3125 \nQ 48.875 64.0625 45.09375 64.984375 \nQ 41.3125 65.921875 37.59375 65.921875 \nQ 27.828125 65.921875 22.671875 59.328125 \nQ 17.53125 52.734375 16.796875 39.40625 \nQ 19.671875 43.65625 24.015625 45.921875 \nQ 28.375 48.1875 33.59375 48.1875 \nQ 44.578125 48.1875 50.953125 41.515625 \nQ 57.328125 34.859375 57.328125 23.390625 \nQ 57.328125 12.15625 50.6875 5.359375 \nQ 44.046875 -1.421875 33.015625 -1.421875 \nQ 20.359375 -1.421875 13.671875 8.265625 \nQ 6.984375 17.96875 6.984375 36.375 \nQ 6.984375 53.65625 15.1875 63.9375 \nQ 23.390625 74.21875 37.203125 74.21875 \nQ 40.921875 74.21875 44.703125 73.484375 \nQ 48.484375 72.75 52.59375 71.296875 \nz\n\" id=\"DejaVuSans-54\"/>\n      </defs>\n      <g transform=\"translate(245.158821 249.836875)scale(0.1 -0.1)\">\n       <use xlink:href=\"#DejaVuSans-54\"/>\n       <use x=\"63.623047\" xlink:href=\"#DejaVuSans-48\"/>\n       <use x=\"127.246094\" xlink:href=\"#DejaVuSans-48\"/>\n       <use x=\"190.869141\" xlink:href=\"#DejaVuSans-48\"/>\n       <use x=\"254.492188\" xlink:href=\"#DejaVuSans-48\"/>\n       <use x=\"318.115234\" xlink:href=\"#DejaVuSans-48\"/>\n      </g>\n     </g>\n    </g>\n    <g id=\"xtick_8\">\n     <g id=\"line2d_8\">\n      <g>\n       <use style=\"stroke:#000000;stroke-width:0.8;\" x=\"301.448867\" xlink:href=\"#m9bdf0a16f9\" y=\"235.238438\"/>\n      </g>\n     </g>\n     <g id=\"text_8\">\n      <!-- 700000 -->\n      <defs>\n       <path d=\"M 8.203125 72.90625 \nL 55.078125 72.90625 \nL 55.078125 68.703125 \nL 28.609375 0 \nL 18.3125 0 \nL 43.21875 64.59375 \nL 8.203125 64.59375 \nz\n\" id=\"DejaVuSans-55\"/>\n      </defs>\n      <g transform=\"translate(282.361367 249.836875)scale(0.1 -0.1)\">\n       <use xlink:href=\"#DejaVuSans-55\"/>\n       <use x=\"63.623047\" xlink:href=\"#DejaVuSans-48\"/>\n       <use x=\"127.246094\" xlink:href=\"#DejaVuSans-48\"/>\n       <use x=\"190.869141\" xlink:href=\"#DejaVuSans-48\"/>\n       <use x=\"254.492188\" xlink:href=\"#DejaVuSans-48\"/>\n       <use x=\"318.115234\" xlink:href=\"#DejaVuSans-48\"/>\n      </g>\n     </g>\n    </g>\n    <g id=\"xtick_9\">\n     <g id=\"line2d_9\">\n      <g>\n       <use style=\"stroke:#000000;stroke-width:0.8;\" x=\"338.651413\" xlink:href=\"#m9bdf0a16f9\" y=\"235.238438\"/>\n      </g>\n     </g>\n     <g id=\"text_9\">\n      <!-- 800000 -->\n      <defs>\n       <path d=\"M 31.78125 34.625 \nQ 24.75 34.625 20.71875 30.859375 \nQ 16.703125 27.09375 16.703125 20.515625 \nQ 16.703125 13.921875 20.71875 10.15625 \nQ 24.75 6.390625 31.78125 6.390625 \nQ 38.8125 6.390625 42.859375 10.171875 \nQ 46.921875 13.96875 46.921875 20.515625 \nQ 46.921875 27.09375 42.890625 30.859375 \nQ 38.875 34.625 31.78125 34.625 \nz\nM 21.921875 38.8125 \nQ 15.578125 40.375 12.03125 44.71875 \nQ 8.5 49.078125 8.5 55.328125 \nQ 8.5 64.0625 14.71875 69.140625 \nQ 20.953125 74.21875 31.78125 74.21875 \nQ 42.671875 74.21875 48.875 69.140625 \nQ 55.078125 64.0625 55.078125 55.328125 \nQ 55.078125 49.078125 51.53125 44.71875 \nQ 48 40.375 41.703125 38.8125 \nQ 48.828125 37.15625 52.796875 32.3125 \nQ 56.78125 27.484375 56.78125 20.515625 \nQ 56.78125 9.90625 50.3125 4.234375 \nQ 43.84375 -1.421875 31.78125 -1.421875 \nQ 19.734375 -1.421875 13.25 4.234375 \nQ 6.78125 9.90625 6.78125 20.515625 \nQ 6.78125 27.484375 10.78125 32.3125 \nQ 14.796875 37.15625 21.921875 38.8125 \nz\nM 18.3125 54.390625 \nQ 18.3125 48.734375 21.84375 45.5625 \nQ 25.390625 42.390625 31.78125 42.390625 \nQ 38.140625 42.390625 41.71875 45.5625 \nQ 45.3125 48.734375 45.3125 54.390625 \nQ 45.3125 60.0625 41.71875 63.234375 \nQ 38.140625 66.40625 31.78125 66.40625 \nQ 25.390625 66.40625 21.84375 63.234375 \nQ 18.3125 60.0625 18.3125 54.390625 \nz\n\" id=\"DejaVuSans-56\"/>\n      </defs>\n      <g transform=\"translate(319.563913 249.836875)scale(0.1 -0.1)\">\n       <use xlink:href=\"#DejaVuSans-56\"/>\n       <use x=\"63.623047\" xlink:href=\"#DejaVuSans-48\"/>\n       <use x=\"127.246094\" xlink:href=\"#DejaVuSans-48\"/>\n       <use x=\"190.869141\" xlink:href=\"#DejaVuSans-48\"/>\n       <use x=\"254.492188\" xlink:href=\"#DejaVuSans-48\"/>\n       <use x=\"318.115234\" xlink:href=\"#DejaVuSans-48\"/>\n      </g>\n     </g>\n    </g>\n    <g id=\"text_10\">\n     <!-- SalePrice -->\n     <defs>\n      <path d=\"M 53.515625 70.515625 \nL 53.515625 60.890625 \nQ 47.90625 63.578125 42.921875 64.890625 \nQ 37.9375 66.21875 33.296875 66.21875 \nQ 25.25 66.21875 20.875 63.09375 \nQ 16.5 59.96875 16.5 54.203125 \nQ 16.5 49.359375 19.40625 46.890625 \nQ 22.3125 44.4375 30.421875 42.921875 \nL 36.375 41.703125 \nQ 47.40625 39.59375 52.65625 34.296875 \nQ 57.90625 29 57.90625 20.125 \nQ 57.90625 9.515625 50.796875 4.046875 \nQ 43.703125 -1.421875 29.984375 -1.421875 \nQ 24.8125 -1.421875 18.96875 -0.25 \nQ 13.140625 0.921875 6.890625 3.21875 \nL 6.890625 13.375 \nQ 12.890625 10.015625 18.65625 8.296875 \nQ 24.421875 6.59375 29.984375 6.59375 \nQ 38.421875 6.59375 43.015625 9.90625 \nQ 47.609375 13.234375 47.609375 19.390625 \nQ 47.609375 24.75 44.3125 27.78125 \nQ 41.015625 30.8125 33.5 32.328125 \nL 27.484375 33.5 \nQ 16.453125 35.6875 11.515625 40.375 \nQ 6.59375 45.0625 6.59375 53.421875 \nQ 6.59375 63.09375 13.40625 68.65625 \nQ 20.21875 74.21875 32.171875 74.21875 \nQ 37.3125 74.21875 42.625 73.28125 \nQ 47.953125 72.359375 53.515625 70.515625 \nz\n\" id=\"DejaVuSans-83\"/>\n      <path d=\"M 34.28125 27.484375 \nQ 23.390625 27.484375 19.1875 25 \nQ 14.984375 22.515625 14.984375 16.5 \nQ 14.984375 11.71875 18.140625 8.90625 \nQ 21.296875 6.109375 26.703125 6.109375 \nQ 34.1875 6.109375 38.703125 11.40625 \nQ 43.21875 16.703125 43.21875 25.484375 \nL 43.21875 27.484375 \nz\nM 52.203125 31.203125 \nL 52.203125 0 \nL 43.21875 0 \nL 43.21875 8.296875 \nQ 40.140625 3.328125 35.546875 0.953125 \nQ 30.953125 -1.421875 24.3125 -1.421875 \nQ 15.921875 -1.421875 10.953125 3.296875 \nQ 6 8.015625 6 15.921875 \nQ 6 25.140625 12.171875 29.828125 \nQ 18.359375 34.515625 30.609375 34.515625 \nL 43.21875 34.515625 \nL 43.21875 35.40625 \nQ 43.21875 41.609375 39.140625 45 \nQ 35.0625 48.390625 27.6875 48.390625 \nQ 23 48.390625 18.546875 47.265625 \nQ 14.109375 46.140625 10.015625 43.890625 \nL 10.015625 52.203125 \nQ 14.9375 54.109375 19.578125 55.046875 \nQ 24.21875 56 28.609375 56 \nQ 40.484375 56 46.34375 49.84375 \nQ 52.203125 43.703125 52.203125 31.203125 \nz\n\" id=\"DejaVuSans-97\"/>\n      <path d=\"M 9.421875 75.984375 \nL 18.40625 75.984375 \nL 18.40625 0 \nL 9.421875 0 \nz\n\" id=\"DejaVuSans-108\"/>\n      <path d=\"M 56.203125 29.59375 \nL 56.203125 25.203125 \nL 14.890625 25.203125 \nQ 15.484375 15.921875 20.484375 11.0625 \nQ 25.484375 6.203125 34.421875 6.203125 \nQ 39.59375 6.203125 44.453125 7.46875 \nQ 49.3125 8.734375 54.109375 11.28125 \nL 54.109375 2.78125 \nQ 49.265625 0.734375 44.1875 -0.34375 \nQ 39.109375 -1.421875 33.890625 -1.421875 \nQ 20.796875 -1.421875 13.15625 6.1875 \nQ 5.515625 13.8125 5.515625 26.8125 \nQ 5.515625 40.234375 12.765625 48.109375 \nQ 20.015625 56 32.328125 56 \nQ 43.359375 56 49.78125 48.890625 \nQ 56.203125 41.796875 56.203125 29.59375 \nz\nM 47.21875 32.234375 \nQ 47.125 39.59375 43.09375 43.984375 \nQ 39.0625 48.390625 32.421875 48.390625 \nQ 24.90625 48.390625 20.390625 44.140625 \nQ 15.875 39.890625 15.1875 32.171875 \nz\n\" id=\"DejaVuSans-101\"/>\n      <path d=\"M 19.671875 64.796875 \nL 19.671875 37.40625 \nL 32.078125 37.40625 \nQ 38.96875 37.40625 42.71875 40.96875 \nQ 46.484375 44.53125 46.484375 51.125 \nQ 46.484375 57.671875 42.71875 61.234375 \nQ 38.96875 64.796875 32.078125 64.796875 \nz\nM 9.8125 72.90625 \nL 32.078125 72.90625 \nQ 44.34375 72.90625 50.609375 67.359375 \nQ 56.890625 61.8125 56.890625 51.125 \nQ 56.890625 40.328125 50.609375 34.8125 \nQ 44.34375 29.296875 32.078125 29.296875 \nL 19.671875 29.296875 \nL 19.671875 0 \nL 9.8125 0 \nz\n\" id=\"DejaVuSans-80\"/>\n      <path d=\"M 41.109375 46.296875 \nQ 39.59375 47.171875 37.8125 47.578125 \nQ 36.03125 48 33.890625 48 \nQ 26.265625 48 22.1875 43.046875 \nQ 18.109375 38.09375 18.109375 28.8125 \nL 18.109375 0 \nL 9.078125 0 \nL 9.078125 54.6875 \nL 18.109375 54.6875 \nL 18.109375 46.1875 \nQ 20.953125 51.171875 25.484375 53.578125 \nQ 30.03125 56 36.53125 56 \nQ 37.453125 56 38.578125 55.875 \nQ 39.703125 55.765625 41.0625 55.515625 \nz\n\" id=\"DejaVuSans-114\"/>\n      <path d=\"M 9.421875 54.6875 \nL 18.40625 54.6875 \nL 18.40625 0 \nL 9.421875 0 \nz\nM 9.421875 75.984375 \nL 18.40625 75.984375 \nL 18.40625 64.59375 \nL 9.421875 64.59375 \nz\n\" id=\"DejaVuSans-105\"/>\n      <path d=\"M 48.78125 52.59375 \nL 48.78125 44.1875 \nQ 44.96875 46.296875 41.140625 47.34375 \nQ 37.3125 48.390625 33.40625 48.390625 \nQ 24.65625 48.390625 19.8125 42.84375 \nQ 14.984375 37.3125 14.984375 27.296875 \nQ 14.984375 17.28125 19.8125 11.734375 \nQ 24.65625 6.203125 33.40625 6.203125 \nQ 37.3125 6.203125 41.140625 7.25 \nQ 44.96875 8.296875 48.78125 10.40625 \nL 48.78125 2.09375 \nQ 45.015625 0.34375 40.984375 -0.53125 \nQ 36.96875 -1.421875 32.421875 -1.421875 \nQ 20.0625 -1.421875 12.78125 6.34375 \nQ 5.515625 14.109375 5.515625 27.296875 \nQ 5.515625 40.671875 12.859375 48.328125 \nQ 20.21875 56 33.015625 56 \nQ 37.15625 56 41.109375 55.140625 \nQ 45.0625 54.296875 48.78125 52.59375 \nz\n\" id=\"DejaVuSans-99\"/>\n     </defs>\n     <g transform=\"translate(165.060937 263.515)scale(0.1 -0.1)\">\n      <use xlink:href=\"#DejaVuSans-83\"/>\n      <use x=\"63.476562\" xlink:href=\"#DejaVuSans-97\"/>\n      <use x=\"124.755859\" xlink:href=\"#DejaVuSans-108\"/>\n      <use x=\"152.539062\" xlink:href=\"#DejaVuSans-101\"/>\n      <use x=\"214.0625\" xlink:href=\"#DejaVuSans-80\"/>\n      <use x=\"272.615234\" xlink:href=\"#DejaVuSans-114\"/>\n      <use x=\"313.728516\" xlink:href=\"#DejaVuSans-105\"/>\n      <use x=\"341.511719\" xlink:href=\"#DejaVuSans-99\"/>\n      <use x=\"396.492188\" xlink:href=\"#DejaVuSans-101\"/>\n     </g>\n    </g>\n   </g>\n   <g id=\"matplotlib.axis_2\">\n    <g id=\"ytick_1\">\n     <g id=\"line2d_10\">\n      <defs>\n       <path d=\"M 0 0 \nL -3.5 0 \n\" id=\"m707b1c8998\" style=\"stroke:#000000;stroke-width:0.8;\"/>\n      </defs>\n      <g>\n       <use style=\"stroke:#000000;stroke-width:0.8;\" x=\"20.5625\" xlink:href=\"#m707b1c8998\" y=\"235.238438\"/>\n      </g>\n     </g>\n     <g id=\"text_11\">\n      <!-- 0 -->\n      <g transform=\"translate(7.2 239.037656)scale(0.1 -0.1)\">\n       <use xlink:href=\"#DejaVuSans-48\"/>\n      </g>\n     </g>\n    </g>\n    <g id=\"ytick_2\">\n     <g id=\"line2d_11\">\n      <g>\n       <use style=\"stroke:#000000;stroke-width:0.8;\" x=\"20.5625\" xlink:href=\"#m707b1c8998\" y=\"187.963089\"/>\n      </g>\n     </g>\n     <g id=\"text_12\">\n      <!-- 2 -->\n      <g transform=\"translate(7.2 191.762308)scale(0.1 -0.1)\">\n       <use xlink:href=\"#DejaVuSans-50\"/>\n      </g>\n     </g>\n    </g>\n    <g id=\"ytick_3\">\n     <g id=\"line2d_12\">\n      <g>\n       <use style=\"stroke:#000000;stroke-width:0.8;\" x=\"20.5625\" xlink:href=\"#m707b1c8998\" y=\"140.687741\"/>\n      </g>\n     </g>\n     <g id=\"text_13\">\n      <!-- 4 -->\n      <g transform=\"translate(7.2 144.48696)scale(0.1 -0.1)\">\n       <use xlink:href=\"#DejaVuSans-52\"/>\n      </g>\n     </g>\n    </g>\n    <g id=\"ytick_4\">\n     <g id=\"line2d_13\">\n      <g>\n       <use style=\"stroke:#000000;stroke-width:0.8;\" x=\"20.5625\" xlink:href=\"#m707b1c8998\" y=\"93.412393\"/>\n      </g>\n     </g>\n     <g id=\"text_14\">\n      <!-- 6 -->\n      <g transform=\"translate(7.2 97.211611)scale(0.1 -0.1)\">\n       <use xlink:href=\"#DejaVuSans-54\"/>\n      </g>\n     </g>\n    </g>\n    <g id=\"ytick_5\">\n     <g id=\"line2d_14\">\n      <g>\n       <use style=\"stroke:#000000;stroke-width:0.8;\" x=\"20.5625\" xlink:href=\"#m707b1c8998\" y=\"46.137044\"/>\n      </g>\n     </g>\n     <g id=\"text_15\">\n      <!-- 8 -->\n      <g transform=\"translate(7.2 49.936263)scale(0.1 -0.1)\">\n       <use xlink:href=\"#DejaVuSans-56\"/>\n      </g>\n     </g>\n    </g>\n    <g id=\"text_16\">\n     <!-- 1e−6 -->\n     <defs>\n      <path d=\"M 10.59375 35.5 \nL 73.1875 35.5 \nL 73.1875 27.203125 \nL 10.59375 27.203125 \nz\n\" id=\"DejaVuSans-8722\"/>\n     </defs>\n     <g transform=\"translate(20.5625 14.798437)scale(0.1 -0.1)\">\n      <use xlink:href=\"#DejaVuSans-49\"/>\n      <use x=\"63.623047\" xlink:href=\"#DejaVuSans-101\"/>\n      <use x=\"125.146484\" xlink:href=\"#DejaVuSans-8722\"/>\n      <use x=\"208.935547\" xlink:href=\"#DejaVuSans-54\"/>\n     </g>\n    </g>\n   </g>\n   <g id=\"line2d_15\">\n    <path clip-path=\"url(#p6f6922bd63)\" d=\"M 35.780682 235.223403 \nL 40.57381 235.124983 \nL 42.970374 234.963093 \nL 45.366938 234.646028 \nL 47.763502 234.095832 \nL 50.160066 233.232728 \nL 52.55663 231.976304 \nL 54.953194 230.226318 \nL 57.349758 227.822053 \nL 59.746322 224.49326 \nL 62.142887 219.843143 \nL 64.539451 213.428353 \nL 66.936015 204.950126 \nL 69.332579 194.425495 \nL 71.729143 182.136893 \nL 74.125707 168.348195 \nL 76.522271 153.076534 \nL 78.918835 136.227674 \nL 83.711963 99.592675 \nL 86.108527 82.711359 \nL 88.505091 69.735671 \nL 90.901655 62.664819 \nL 93.298219 62.264206 \nL 95.694783 67.496031 \nL 100.487912 84.348673 \nL 102.884476 91.423 \nL 107.677604 103.262642 \nL 110.074168 111.092451 \nL 112.470732 121.084961 \nL 117.26386 143.030352 \nL 119.660424 152.131283 \nL 122.056988 159.231416 \nL 124.453552 164.805759 \nL 131.643244 179.090414 \nL 136.436373 188.339923 \nL 138.832937 192.562126 \nL 143.626065 200.391689 \nL 146.022629 204.032755 \nL 148.419193 207.238314 \nL 150.815757 209.751381 \nL 153.212321 211.548737 \nL 155.608885 212.961748 \nL 158.005449 214.522455 \nL 160.402013 216.629085 \nL 162.798577 219.287747 \nL 165.195141 222.121281 \nL 167.591705 224.609026 \nL 169.98827 226.355919 \nL 172.384834 227.225405 \nL 174.781398 227.325239 \nL 177.177962 226.928357 \nL 179.574526 226.383924 \nL 181.97109 226.020225 \nL 184.367654 226.047075 \nL 186.764218 226.500043 \nL 189.160782 227.26089 \nL 193.95391 228.968405 \nL 198.747038 230.252292 \nL 210.729859 232.923897 \nL 213.126423 233.197371 \nL 227.505807 234.183041 \nL 234.695499 234.85099 \nL 239.488627 234.946795 \nL 258.66114 234.434647 \nL 265.850832 234.29097 \nL 270.64396 234.213534 \nL 275.437088 234.452398 \nL 282.626781 235.026814 \nL 287.419909 235.193397 \nL 299.402729 235.232968 \nL 306.592421 235.128295 \nL 311.385549 234.836165 \nL 318.575242 234.265346 \nL 320.971806 234.250839 \nL 325.764934 234.567693 \nL 330.558062 234.976983 \nL 335.35119 235.180011 \nL 340.144318 235.227531 \nL 340.144318 235.227531 \n\" style=\"fill:none;stroke:#1f77b4;stroke-linecap:square;stroke-width:1.5;\"/>\n   </g>\n   <g id=\"patch_47\">\n    <path d=\"M 20.5625 235.238438 \nL 20.5625 17.798438 \n\" style=\"fill:none;stroke:#000000;stroke-linecap:square;stroke-linejoin:miter;stroke-width:0.8;\"/>\n   </g>\n   <g id=\"patch_48\">\n    <path d=\"M 355.3625 235.238438 \nL 355.3625 17.798438 \n\" style=\"fill:none;stroke:#000000;stroke-linecap:square;stroke-linejoin:miter;stroke-width:0.8;\"/>\n   </g>\n   <g id=\"patch_49\">\n    <path d=\"M 20.5625 235.238438 \nL 355.3625 235.238438 \n\" style=\"fill:none;stroke:#000000;stroke-linecap:square;stroke-linejoin:miter;stroke-width:0.8;\"/>\n   </g>\n   <g id=\"patch_50\">\n    <path d=\"M 20.5625 17.798438 \nL 355.3625 17.798438 \n\" style=\"fill:none;stroke:#000000;stroke-linecap:square;stroke-linejoin:miter;stroke-width:0.8;\"/>\n   </g>\n  </g>\n </g>\n <defs>\n  <clipPath id=\"p6f6922bd63\">\n   <rect height=\"217.44\" width=\"334.8\" x=\"20.5625\" y=\"17.798438\"/>\n  </clipPath>\n </defs>\n</svg>\n",
      "image/png": "[encoded data removed]"
     },
     "metadata": {
      "needs_background": "light"
     }
    }
   ],
   "source": [
    "sns.distplot(y_train)"
   ]
  },
  {
   "cell_type": "markdown",
   "metadata": {},
   "source": [
    "The target column no have a simetric distribution, normaly, it slow down the perfomance.\n",
    "\n",
    "But this column have only positive values and possibly outliers, this a optmal cenary to use a logaritmic tranform, because this transformation \"push\" the distribution to the right."
   ]
  },
  {
   "cell_type": "code",
   "execution_count": 7,
   "metadata": {},
   "outputs": [],
   "source": [
    "y_train = np.log1p(y_train)"
   ]
  },
  {
   "cell_type": "code",
   "execution_count": 8,
   "metadata": {
    "scrolled": true
   },
   "outputs": [
    {
     "output_type": "execute_result",
     "data": {
      "text/plain": [
       "<matplotlib.axes._subplots.AxesSubplot at 0x7f0f7a559ee0>"
      ]
     },
     "metadata": {},
     "execution_count": 8
    },
    {
     "output_type": "display_data",
     "data": {
      "text/plain": "<Figure size 432x288 with 1 Axes>",
      "image/svg+xml": "<?xml version=\"1.0\" encoding=\"utf-8\" standalone=\"no\"?>\n<!DOCTYPE svg PUBLIC \"-//W3C//DTD SVG 1.1//EN\"\n  \"http://www.w3.org/Graphics/SVG/1.1/DTD/svg11.dtd\">\n<!-- Created with matplotlib (https://matplotlib.org/) -->\n<svg height=\"262.19625pt\" version=\"1.1\" viewBox=\"0 0 382.425077 262.19625\" width=\"382.425077pt\" xmlns=\"http://www.w3.org/2000/svg\" xmlns:xlink=\"http://www.w3.org/1999/xlink\">\n <defs>\n  <style type=\"text/css\">\n*{stroke-linecap:butt;stroke-linejoin:round;}\n  </style>\n </defs>\n <g id=\"figure_1\">\n  <g id=\"patch_1\">\n   <path d=\"M 0 262.19625 \nL 382.425077 262.19625 \nL 382.425077 0 \nL 0 0 \nz\n\" style=\"fill:none;\"/>\n  </g>\n  <g id=\"axes_1\">\n   <g id=\"patch_2\">\n    <path d=\"M 30.103125 224.64 \nL 364.903125 224.64 \nL 364.903125 7.2 \nL 30.103125 7.2 \nz\n\" style=\"fill:#ffffff;\"/>\n   </g>\n   <g id=\"patch_3\">\n    <path clip-path=\"url(#p38f3821090)\" d=\"M 69.63887 224.64 \nL 77.630386 224.64 \nL 77.630386 221.660349 \nL 69.63887 221.660349 \nz\n\" style=\"fill:#1f77b4;opacity:0.4;\"/>\n   </g>\n   <g id=\"patch_4\">\n    <path clip-path=\"url(#p38f3821090)\" d=\"M 77.630386 224.64 \nL 85.621902 224.64 \nL 85.621902 223.150175 \nL 77.630386 223.150175 \nz\n\" style=\"fill:#1f77b4;opacity:0.4;\"/>\n   </g>\n   <g id=\"patch_5\">\n    <path clip-path=\"url(#p38f3821090)\" d=\"M 85.621902 224.64 \nL 93.613418 224.64 \nL 93.613418 224.64 \nL 85.621902 224.64 \nz\n\" style=\"fill:#1f77b4;opacity:0.4;\"/>\n   </g>\n   <g id=\"patch_6\">\n    <path clip-path=\"url(#p38f3821090)\" d=\"M 93.613418 224.64 \nL 101.604934 224.64 \nL 101.604934 224.64 \nL 93.613418 224.64 \nz\n\" style=\"fill:#1f77b4;opacity:0.4;\"/>\n   </g>\n   <g id=\"patch_7\">\n    <path clip-path=\"url(#p38f3821090)\" d=\"M 101.604934 224.64 \nL 109.59645 224.64 \nL 109.59645 218.680699 \nL 101.604934 218.680699 \nz\n\" style=\"fill:#1f77b4;opacity:0.4;\"/>\n   </g>\n   <g id=\"patch_8\">\n    <path clip-path=\"url(#p38f3821090)\" d=\"M 109.59645 224.64 \nL 117.587966 224.64 \nL 117.587966 217.190874 \nL 109.59645 217.190874 \nz\n\" style=\"fill:#1f77b4;opacity:0.4;\"/>\n   </g>\n   <g id=\"patch_9\">\n    <path clip-path=\"url(#p38f3821090)\" d=\"M 117.587966 224.64 \nL 125.579482 224.64 \nL 125.579482 218.680699 \nL 117.587966 218.680699 \nz\n\" style=\"fill:#1f77b4;opacity:0.4;\"/>\n   </g>\n   <g id=\"patch_10\">\n    <path clip-path=\"url(#p38f3821090)\" d=\"M 125.579482 224.64 \nL 133.570998 224.64 \nL 133.570998 221.660349 \nL 125.579482 221.660349 \nz\n\" style=\"fill:#1f77b4;opacity:0.4;\"/>\n   </g>\n   <g id=\"patch_11\">\n    <path clip-path=\"url(#p38f3821090)\" d=\"M 133.570998 224.64 \nL 141.562514 224.64 \nL 141.562514 199.31297 \nL 133.570998 199.31297 \nz\n\" style=\"fill:#1f77b4;opacity:0.4;\"/>\n   </g>\n   <g id=\"patch_12\">\n    <path clip-path=\"url(#p38f3821090)\" d=\"M 141.562514 224.64 \nL 149.554029 224.64 \nL 149.554029 179.945242 \nL 141.562514 179.945242 \nz\n\" style=\"fill:#1f77b4;opacity:0.4;\"/>\n   </g>\n   <g id=\"patch_13\">\n    <path clip-path=\"url(#p38f3821090)\" d=\"M 149.554029 224.64 \nL 157.545545 224.64 \nL 157.545545 178.455416 \nL 149.554029 178.455416 \nz\n\" style=\"fill:#1f77b4;opacity:0.4;\"/>\n   </g>\n   <g id=\"patch_14\">\n    <path clip-path=\"url(#p38f3821090)\" d=\"M 157.545545 224.64 \nL 165.537061 224.64 \nL 165.537061 147.169085 \nL 157.545545 147.169085 \nz\n\" style=\"fill:#1f77b4;opacity:0.4;\"/>\n   </g>\n   <g id=\"patch_15\">\n    <path clip-path=\"url(#p38f3821090)\" d=\"M 165.537061 224.64 \nL 173.528577 224.64 \nL 173.528577 124.821706 \nL 165.537061 124.821706 \nz\n\" style=\"fill:#1f77b4;opacity:0.4;\"/>\n   </g>\n   <g id=\"patch_16\">\n    <path clip-path=\"url(#p38f3821090)\" d=\"M 173.528577 224.64 \nL 181.520093 224.64 \nL 181.520093 75.657472 \nL 173.528577 75.657472 \nz\n\" style=\"fill:#1f77b4;opacity:0.4;\"/>\n   </g>\n   <g id=\"patch_17\">\n    <path clip-path=\"url(#p38f3821090)\" d=\"M 181.520093 224.64 \nL 189.511609 224.64 \nL 189.511609 17.554286 \nL 181.520093 17.554286 \nz\n\" style=\"fill:#1f77b4;opacity:0.4;\"/>\n   </g>\n   <g id=\"patch_18\">\n    <path clip-path=\"url(#p38f3821090)\" d=\"M 189.511609 224.64 \nL 197.503125 224.64 \nL 197.503125 84.596423 \nL 189.511609 84.596423 \nz\n\" style=\"fill:#1f77b4;opacity:0.4;\"/>\n   </g>\n   <g id=\"patch_19\">\n    <path clip-path=\"url(#p38f3821090)\" d=\"M 197.503125 224.64 \nL 205.494641 224.64 \nL 205.494641 78.637122 \nL 197.503125 78.637122 \nz\n\" style=\"fill:#1f77b4;opacity:0.4;\"/>\n   </g>\n   <g id=\"patch_20\">\n    <path clip-path=\"url(#p38f3821090)\" d=\"M 205.494641 224.64 \nL 213.486157 224.64 \nL 213.486157 45.860966 \nL 205.494641 45.860966 \nz\n\" style=\"fill:#1f77b4;opacity:0.4;\"/>\n   </g>\n   <g id=\"patch_21\">\n    <path clip-path=\"url(#p38f3821090)\" d=\"M 213.486157 224.64 \nL 221.477673 224.64 \nL 221.477673 115.882754 \nL 213.486157 115.882754 \nz\n\" style=\"fill:#1f77b4;opacity:0.4;\"/>\n   </g>\n   <g id=\"patch_22\">\n    <path clip-path=\"url(#p38f3821090)\" d=\"M 221.477673 224.64 \nL 229.469189 224.64 \nL 229.469189 126.311531 \nL 221.477673 126.311531 \nz\n\" style=\"fill:#1f77b4;opacity:0.4;\"/>\n   </g>\n   <g id=\"patch_23\">\n    <path clip-path=\"url(#p38f3821090)\" d=\"M 229.469189 224.64 \nL 237.460705 224.64 \nL 237.460705 139.719959 \nL 229.469189 139.719959 \nz\n\" style=\"fill:#1f77b4;opacity:0.4;\"/>\n   </g>\n   <g id=\"patch_24\">\n    <path clip-path=\"url(#p38f3821090)\" d=\"M 237.460705 224.64 \nL 245.452221 224.64 \nL 245.452221 160.577513 \nL 237.460705 160.577513 \nz\n\" style=\"fill:#1f77b4;opacity:0.4;\"/>\n   </g>\n   <g id=\"patch_25\">\n    <path clip-path=\"url(#p38f3821090)\" d=\"M 245.452221 224.64 \nL 253.443736 224.64 \nL 253.443736 179.945242 \nL 245.452221 179.945242 \nz\n\" style=\"fill:#1f77b4;opacity:0.4;\"/>\n   </g>\n   <g id=\"patch_26\">\n    <path clip-path=\"url(#p38f3821090)\" d=\"M 253.443736 224.64 \nL 261.435252 224.64 \nL 261.435252 196.33332 \nL 253.443736 196.33332 \nz\n\" style=\"fill:#1f77b4;opacity:0.4;\"/>\n   </g>\n   <g id=\"patch_27\">\n    <path clip-path=\"url(#p38f3821090)\" d=\"M 261.435252 224.64 \nL 269.426768 224.64 \nL 269.426768 203.782446 \nL 261.435252 203.782446 \nz\n\" style=\"fill:#1f77b4;opacity:0.4;\"/>\n   </g>\n   <g id=\"patch_28\">\n    <path clip-path=\"url(#p38f3821090)\" d=\"M 269.426768 224.64 \nL 277.418284 224.64 \nL 277.418284 208.251922 \nL 269.426768 208.251922 \nz\n\" style=\"fill:#1f77b4;opacity:0.4;\"/>\n   </g>\n   <g id=\"patch_29\">\n    <path clip-path=\"url(#p38f3821090)\" d=\"M 277.418284 224.64 \nL 285.4098 224.64 \nL 285.4098 214.211223 \nL 277.418284 214.211223 \nz\n\" style=\"fill:#1f77b4;opacity:0.4;\"/>\n   </g>\n   <g id=\"patch_30\">\n    <path clip-path=\"url(#p38f3821090)\" d=\"M 285.4098 224.64 \nL 293.401316 224.64 \nL 293.401316 220.170524 \nL 285.4098 220.170524 \nz\n\" style=\"fill:#1f77b4;opacity:0.4;\"/>\n   </g>\n   <g id=\"patch_31\">\n    <path clip-path=\"url(#p38f3821090)\" d=\"M 293.401316 224.64 \nL 301.392832 224.64 \nL 301.392832 223.150175 \nL 293.401316 223.150175 \nz\n\" style=\"fill:#1f77b4;opacity:0.4;\"/>\n   </g>\n   <g id=\"patch_32\">\n    <path clip-path=\"url(#p38f3821090)\" d=\"M 301.392832 224.64 \nL 309.384348 224.64 \nL 309.384348 221.660349 \nL 301.392832 221.660349 \nz\n\" style=\"fill:#1f77b4;opacity:0.4;\"/>\n   </g>\n   <g id=\"patch_33\">\n    <path clip-path=\"url(#p38f3821090)\" d=\"M 309.384348 224.64 \nL 317.375864 224.64 \nL 317.375864 223.150175 \nL 309.384348 223.150175 \nz\n\" style=\"fill:#1f77b4;opacity:0.4;\"/>\n   </g>\n   <g id=\"patch_34\">\n    <path clip-path=\"url(#p38f3821090)\" d=\"M 317.375864 224.64 \nL 325.36738 224.64 \nL 325.36738 221.660349 \nL 317.375864 221.660349 \nz\n\" style=\"fill:#1f77b4;opacity:0.4;\"/>\n   </g>\n   <g id=\"matplotlib.axis_1\">\n    <g id=\"xtick_1\">\n     <g id=\"line2d_1\">\n      <defs>\n       <path d=\"M 0 0 \nL 0 3.5 \n\" id=\"m6921d1e09a\" style=\"stroke:#000000;stroke-width:0.8;\"/>\n      </defs>\n      <g>\n       <use style=\"stroke:#000000;stroke-width:0.8;\" x=\"31.351115\" xlink:href=\"#m6921d1e09a\" y=\"224.64\"/>\n      </g>\n     </g>\n     <g id=\"text_1\">\n      <!-- 10.0 -->\n      <defs>\n       <path d=\"M 12.40625 8.296875 \nL 28.515625 8.296875 \nL 28.515625 63.921875 \nL 10.984375 60.40625 \nL 10.984375 69.390625 \nL 28.421875 72.90625 \nL 38.28125 72.90625 \nL 38.28125 8.296875 \nL 54.390625 8.296875 \nL 54.390625 0 \nL 12.40625 0 \nz\n\" id=\"DejaVuSans-49\"/>\n       <path d=\"M 31.78125 66.40625 \nQ 24.171875 66.40625 20.328125 58.90625 \nQ 16.5 51.421875 16.5 36.375 \nQ 16.5 21.390625 20.328125 13.890625 \nQ 24.171875 6.390625 31.78125 6.390625 \nQ 39.453125 6.390625 43.28125 13.890625 \nQ 47.125 21.390625 47.125 36.375 \nQ 47.125 51.421875 43.28125 58.90625 \nQ 39.453125 66.40625 31.78125 66.40625 \nz\nM 31.78125 74.21875 \nQ 44.046875 74.21875 50.515625 64.515625 \nQ 56.984375 54.828125 56.984375 36.375 \nQ 56.984375 17.96875 50.515625 8.265625 \nQ 44.046875 -1.421875 31.78125 -1.421875 \nQ 19.53125 -1.421875 13.0625 8.265625 \nQ 6.59375 17.96875 6.59375 36.375 \nQ 6.59375 54.828125 13.0625 64.515625 \nQ 19.53125 74.21875 31.78125 74.21875 \nz\n\" id=\"DejaVuSans-48\"/>\n       <path d=\"M 10.6875 12.40625 \nL 21 12.40625 \nL 21 0 \nL 10.6875 0 \nz\n\" id=\"DejaVuSans-46\"/>\n      </defs>\n      <g transform=\"translate(20.218302 239.238437)scale(0.1 -0.1)\">\n       <use xlink:href=\"#DejaVuSans-49\"/>\n       <use x=\"63.623047\" xlink:href=\"#DejaVuSans-48\"/>\n       <use x=\"127.246094\" xlink:href=\"#DejaVuSans-46\"/>\n       <use x=\"159.033203\" xlink:href=\"#DejaVuSans-48\"/>\n      </g>\n     </g>\n    </g>\n    <g id=\"xtick_2\">\n     <g id=\"line2d_2\">\n      <g>\n       <use style=\"stroke:#000000;stroke-width:0.8;\" x=\"72.943758\" xlink:href=\"#m6921d1e09a\" y=\"224.64\"/>\n      </g>\n     </g>\n     <g id=\"text_2\">\n      <!-- 10.5 -->\n      <defs>\n       <path d=\"M 10.796875 72.90625 \nL 49.515625 72.90625 \nL 49.515625 64.59375 \nL 19.828125 64.59375 \nL 19.828125 46.734375 \nQ 21.96875 47.46875 24.109375 47.828125 \nQ 26.265625 48.1875 28.421875 48.1875 \nQ 40.625 48.1875 47.75 41.5 \nQ 54.890625 34.8125 54.890625 23.390625 \nQ 54.890625 11.625 47.5625 5.09375 \nQ 40.234375 -1.421875 26.90625 -1.421875 \nQ 22.3125 -1.421875 17.546875 -0.640625 \nQ 12.796875 0.140625 7.71875 1.703125 \nL 7.71875 11.625 \nQ 12.109375 9.234375 16.796875 8.0625 \nQ 21.484375 6.890625 26.703125 6.890625 \nQ 35.15625 6.890625 40.078125 11.328125 \nQ 45.015625 15.765625 45.015625 23.390625 \nQ 45.015625 31 40.078125 35.4375 \nQ 35.15625 39.890625 26.703125 39.890625 \nQ 22.75 39.890625 18.8125 39.015625 \nQ 14.890625 38.140625 10.796875 36.28125 \nz\n\" id=\"DejaVuSans-53\"/>\n      </defs>\n      <g transform=\"translate(61.810946 239.238437)scale(0.1 -0.1)\">\n       <use xlink:href=\"#DejaVuSans-49\"/>\n       <use x=\"63.623047\" xlink:href=\"#DejaVuSans-48\"/>\n       <use x=\"127.246094\" xlink:href=\"#DejaVuSans-46\"/>\n       <use x=\"159.033203\" xlink:href=\"#DejaVuSans-53\"/>\n      </g>\n     </g>\n    </g>\n    <g id=\"xtick_3\">\n     <g id=\"line2d_3\">\n      <g>\n       <use style=\"stroke:#000000;stroke-width:0.8;\" x=\"114.536402\" xlink:href=\"#m6921d1e09a\" y=\"224.64\"/>\n      </g>\n     </g>\n     <g id=\"text_3\">\n      <!-- 11.0 -->\n      <g transform=\"translate(103.40359 239.238437)scale(0.1 -0.1)\">\n       <use xlink:href=\"#DejaVuSans-49\"/>\n       <use x=\"63.623047\" xlink:href=\"#DejaVuSans-49\"/>\n       <use x=\"127.246094\" xlink:href=\"#DejaVuSans-46\"/>\n       <use x=\"159.033203\" xlink:href=\"#DejaVuSans-48\"/>\n      </g>\n     </g>\n    </g>\n    <g id=\"xtick_4\">\n     <g id=\"line2d_4\">\n      <g>\n       <use style=\"stroke:#000000;stroke-width:0.8;\" x=\"156.129046\" xlink:href=\"#m6921d1e09a\" y=\"224.64\"/>\n      </g>\n     </g>\n     <g id=\"text_4\">\n      <!-- 11.5 -->\n      <g transform=\"translate(144.996233 239.238437)scale(0.1 -0.1)\">\n       <use xlink:href=\"#DejaVuSans-49\"/>\n       <use x=\"63.623047\" xlink:href=\"#DejaVuSans-49\"/>\n       <use x=\"127.246094\" xlink:href=\"#DejaVuSans-46\"/>\n       <use x=\"159.033203\" xlink:href=\"#DejaVuSans-53\"/>\n      </g>\n     </g>\n    </g>\n    <g id=\"xtick_5\">\n     <g id=\"line2d_5\">\n      <g>\n       <use style=\"stroke:#000000;stroke-width:0.8;\" x=\"197.72169\" xlink:href=\"#m6921d1e09a\" y=\"224.64\"/>\n      </g>\n     </g>\n     <g id=\"text_5\">\n      <!-- 12.0 -->\n      <defs>\n       <path d=\"M 19.1875 8.296875 \nL 53.609375 8.296875 \nL 53.609375 0 \nL 7.328125 0 \nL 7.328125 8.296875 \nQ 12.9375 14.109375 22.625 23.890625 \nQ 32.328125 33.6875 34.8125 36.53125 \nQ 39.546875 41.84375 41.421875 45.53125 \nQ 43.3125 49.21875 43.3125 52.78125 \nQ 43.3125 58.59375 39.234375 62.25 \nQ 35.15625 65.921875 28.609375 65.921875 \nQ 23.96875 65.921875 18.8125 64.3125 \nQ 13.671875 62.703125 7.8125 59.421875 \nL 7.8125 69.390625 \nQ 13.765625 71.78125 18.9375 73 \nQ 24.125 74.21875 28.421875 74.21875 \nQ 39.75 74.21875 46.484375 68.546875 \nQ 53.21875 62.890625 53.21875 53.421875 \nQ 53.21875 48.921875 51.53125 44.890625 \nQ 49.859375 40.875 45.40625 35.40625 \nQ 44.1875 33.984375 37.640625 27.21875 \nQ 31.109375 20.453125 19.1875 8.296875 \nz\n\" id=\"DejaVuSans-50\"/>\n      </defs>\n      <g transform=\"translate(186.588877 239.238437)scale(0.1 -0.1)\">\n       <use xlink:href=\"#DejaVuSans-49\"/>\n       <use x=\"63.623047\" xlink:href=\"#DejaVuSans-50\"/>\n       <use x=\"127.246094\" xlink:href=\"#DejaVuSans-46\"/>\n       <use x=\"159.033203\" xlink:href=\"#DejaVuSans-48\"/>\n      </g>\n     </g>\n    </g>\n    <g id=\"xtick_6\">\n     <g id=\"line2d_6\">\n      <g>\n       <use style=\"stroke:#000000;stroke-width:0.8;\" x=\"239.314333\" xlink:href=\"#m6921d1e09a\" y=\"224.64\"/>\n      </g>\n     </g>\n     <g id=\"text_6\">\n      <!-- 12.5 -->\n      <g transform=\"translate(228.181521 239.238437)scale(0.1 -0.1)\">\n       <use xlink:href=\"#DejaVuSans-49\"/>\n       <use x=\"63.623047\" xlink:href=\"#DejaVuSans-50\"/>\n       <use x=\"127.246094\" xlink:href=\"#DejaVuSans-46\"/>\n       <use x=\"159.033203\" xlink:href=\"#DejaVuSans-53\"/>\n      </g>\n     </g>\n    </g>\n    <g id=\"xtick_7\">\n     <g id=\"line2d_7\">\n      <g>\n       <use style=\"stroke:#000000;stroke-width:0.8;\" x=\"280.906977\" xlink:href=\"#m6921d1e09a\" y=\"224.64\"/>\n      </g>\n     </g>\n     <g id=\"text_7\">\n      <!-- 13.0 -->\n      <defs>\n       <path d=\"M 40.578125 39.3125 \nQ 47.65625 37.796875 51.625 33 \nQ 55.609375 28.21875 55.609375 21.1875 \nQ 55.609375 10.40625 48.1875 4.484375 \nQ 40.765625 -1.421875 27.09375 -1.421875 \nQ 22.515625 -1.421875 17.65625 -0.515625 \nQ 12.796875 0.390625 7.625 2.203125 \nL 7.625 11.71875 \nQ 11.71875 9.328125 16.59375 8.109375 \nQ 21.484375 6.890625 26.8125 6.890625 \nQ 36.078125 6.890625 40.9375 10.546875 \nQ 45.796875 14.203125 45.796875 21.1875 \nQ 45.796875 27.640625 41.28125 31.265625 \nQ 36.765625 34.90625 28.71875 34.90625 \nL 20.21875 34.90625 \nL 20.21875 43.015625 \nL 29.109375 43.015625 \nQ 36.375 43.015625 40.234375 45.921875 \nQ 44.09375 48.828125 44.09375 54.296875 \nQ 44.09375 59.90625 40.109375 62.90625 \nQ 36.140625 65.921875 28.71875 65.921875 \nQ 24.65625 65.921875 20.015625 65.03125 \nQ 15.375 64.15625 9.8125 62.3125 \nL 9.8125 71.09375 \nQ 15.4375 72.65625 20.34375 73.4375 \nQ 25.25 74.21875 29.59375 74.21875 \nQ 40.828125 74.21875 47.359375 69.109375 \nQ 53.90625 64.015625 53.90625 55.328125 \nQ 53.90625 49.265625 50.4375 45.09375 \nQ 46.96875 40.921875 40.578125 39.3125 \nz\n\" id=\"DejaVuSans-51\"/>\n      </defs>\n      <g transform=\"translate(269.774165 239.238437)scale(0.1 -0.1)\">\n       <use xlink:href=\"#DejaVuSans-49\"/>\n       <use x=\"63.623047\" xlink:href=\"#DejaVuSans-51\"/>\n       <use x=\"127.246094\" xlink:href=\"#DejaVuSans-46\"/>\n       <use x=\"159.033203\" xlink:href=\"#DejaVuSans-48\"/>\n      </g>\n     </g>\n    </g>\n    <g id=\"xtick_8\">\n     <g id=\"line2d_8\">\n      <g>\n       <use style=\"stroke:#000000;stroke-width:0.8;\" x=\"322.499621\" xlink:href=\"#m6921d1e09a\" y=\"224.64\"/>\n      </g>\n     </g>\n     <g id=\"text_8\">\n      <!-- 13.5 -->\n      <g transform=\"translate(311.366808 239.238437)scale(0.1 -0.1)\">\n       <use xlink:href=\"#DejaVuSans-49\"/>\n       <use x=\"63.623047\" xlink:href=\"#DejaVuSans-51\"/>\n       <use x=\"127.246094\" xlink:href=\"#DejaVuSans-46\"/>\n       <use x=\"159.033203\" xlink:href=\"#DejaVuSans-53\"/>\n      </g>\n     </g>\n    </g>\n    <g id=\"xtick_9\">\n     <g id=\"line2d_9\">\n      <g>\n       <use style=\"stroke:#000000;stroke-width:0.8;\" x=\"364.092265\" xlink:href=\"#m6921d1e09a\" y=\"224.64\"/>\n      </g>\n     </g>\n     <g id=\"text_9\">\n      <!-- 14.0 -->\n      <defs>\n       <path d=\"M 37.796875 64.3125 \nL 12.890625 25.390625 \nL 37.796875 25.390625 \nz\nM 35.203125 72.90625 \nL 47.609375 72.90625 \nL 47.609375 25.390625 \nL 58.015625 25.390625 \nL 58.015625 17.1875 \nL 47.609375 17.1875 \nL 47.609375 0 \nL 37.796875 0 \nL 37.796875 17.1875 \nL 4.890625 17.1875 \nL 4.890625 26.703125 \nz\n\" id=\"DejaVuSans-52\"/>\n      </defs>\n      <g transform=\"translate(352.959452 239.238437)scale(0.1 -0.1)\">\n       <use xlink:href=\"#DejaVuSans-49\"/>\n       <use x=\"63.623047\" xlink:href=\"#DejaVuSans-52\"/>\n       <use x=\"127.246094\" xlink:href=\"#DejaVuSans-46\"/>\n       <use x=\"159.033203\" xlink:href=\"#DejaVuSans-48\"/>\n      </g>\n     </g>\n    </g>\n    <g id=\"text_10\">\n     <!-- SalePrice -->\n     <defs>\n      <path d=\"M 53.515625 70.515625 \nL 53.515625 60.890625 \nQ 47.90625 63.578125 42.921875 64.890625 \nQ 37.9375 66.21875 33.296875 66.21875 \nQ 25.25 66.21875 20.875 63.09375 \nQ 16.5 59.96875 16.5 54.203125 \nQ 16.5 49.359375 19.40625 46.890625 \nQ 22.3125 44.4375 30.421875 42.921875 \nL 36.375 41.703125 \nQ 47.40625 39.59375 52.65625 34.296875 \nQ 57.90625 29 57.90625 20.125 \nQ 57.90625 9.515625 50.796875 4.046875 \nQ 43.703125 -1.421875 29.984375 -1.421875 \nQ 24.8125 -1.421875 18.96875 -0.25 \nQ 13.140625 0.921875 6.890625 3.21875 \nL 6.890625 13.375 \nQ 12.890625 10.015625 18.65625 8.296875 \nQ 24.421875 6.59375 29.984375 6.59375 \nQ 38.421875 6.59375 43.015625 9.90625 \nQ 47.609375 13.234375 47.609375 19.390625 \nQ 47.609375 24.75 44.3125 27.78125 \nQ 41.015625 30.8125 33.5 32.328125 \nL 27.484375 33.5 \nQ 16.453125 35.6875 11.515625 40.375 \nQ 6.59375 45.0625 6.59375 53.421875 \nQ 6.59375 63.09375 13.40625 68.65625 \nQ 20.21875 74.21875 32.171875 74.21875 \nQ 37.3125 74.21875 42.625 73.28125 \nQ 47.953125 72.359375 53.515625 70.515625 \nz\n\" id=\"DejaVuSans-83\"/>\n      <path d=\"M 34.28125 27.484375 \nQ 23.390625 27.484375 19.1875 25 \nQ 14.984375 22.515625 14.984375 16.5 \nQ 14.984375 11.71875 18.140625 8.90625 \nQ 21.296875 6.109375 26.703125 6.109375 \nQ 34.1875 6.109375 38.703125 11.40625 \nQ 43.21875 16.703125 43.21875 25.484375 \nL 43.21875 27.484375 \nz\nM 52.203125 31.203125 \nL 52.203125 0 \nL 43.21875 0 \nL 43.21875 8.296875 \nQ 40.140625 3.328125 35.546875 0.953125 \nQ 30.953125 -1.421875 24.3125 -1.421875 \nQ 15.921875 -1.421875 10.953125 3.296875 \nQ 6 8.015625 6 15.921875 \nQ 6 25.140625 12.171875 29.828125 \nQ 18.359375 34.515625 30.609375 34.515625 \nL 43.21875 34.515625 \nL 43.21875 35.40625 \nQ 43.21875 41.609375 39.140625 45 \nQ 35.0625 48.390625 27.6875 48.390625 \nQ 23 48.390625 18.546875 47.265625 \nQ 14.109375 46.140625 10.015625 43.890625 \nL 10.015625 52.203125 \nQ 14.9375 54.109375 19.578125 55.046875 \nQ 24.21875 56 28.609375 56 \nQ 40.484375 56 46.34375 49.84375 \nQ 52.203125 43.703125 52.203125 31.203125 \nz\n\" id=\"DejaVuSans-97\"/>\n      <path d=\"M 9.421875 75.984375 \nL 18.40625 75.984375 \nL 18.40625 0 \nL 9.421875 0 \nz\n\" id=\"DejaVuSans-108\"/>\n      <path d=\"M 56.203125 29.59375 \nL 56.203125 25.203125 \nL 14.890625 25.203125 \nQ 15.484375 15.921875 20.484375 11.0625 \nQ 25.484375 6.203125 34.421875 6.203125 \nQ 39.59375 6.203125 44.453125 7.46875 \nQ 49.3125 8.734375 54.109375 11.28125 \nL 54.109375 2.78125 \nQ 49.265625 0.734375 44.1875 -0.34375 \nQ 39.109375 -1.421875 33.890625 -1.421875 \nQ 20.796875 -1.421875 13.15625 6.1875 \nQ 5.515625 13.8125 5.515625 26.8125 \nQ 5.515625 40.234375 12.765625 48.109375 \nQ 20.015625 56 32.328125 56 \nQ 43.359375 56 49.78125 48.890625 \nQ 56.203125 41.796875 56.203125 29.59375 \nz\nM 47.21875 32.234375 \nQ 47.125 39.59375 43.09375 43.984375 \nQ 39.0625 48.390625 32.421875 48.390625 \nQ 24.90625 48.390625 20.390625 44.140625 \nQ 15.875 39.890625 15.1875 32.171875 \nz\n\" id=\"DejaVuSans-101\"/>\n      <path d=\"M 19.671875 64.796875 \nL 19.671875 37.40625 \nL 32.078125 37.40625 \nQ 38.96875 37.40625 42.71875 40.96875 \nQ 46.484375 44.53125 46.484375 51.125 \nQ 46.484375 57.671875 42.71875 61.234375 \nQ 38.96875 64.796875 32.078125 64.796875 \nz\nM 9.8125 72.90625 \nL 32.078125 72.90625 \nQ 44.34375 72.90625 50.609375 67.359375 \nQ 56.890625 61.8125 56.890625 51.125 \nQ 56.890625 40.328125 50.609375 34.8125 \nQ 44.34375 29.296875 32.078125 29.296875 \nL 19.671875 29.296875 \nL 19.671875 0 \nL 9.8125 0 \nz\n\" id=\"DejaVuSans-80\"/>\n      <path d=\"M 41.109375 46.296875 \nQ 39.59375 47.171875 37.8125 47.578125 \nQ 36.03125 48 33.890625 48 \nQ 26.265625 48 22.1875 43.046875 \nQ 18.109375 38.09375 18.109375 28.8125 \nL 18.109375 0 \nL 9.078125 0 \nL 9.078125 54.6875 \nL 18.109375 54.6875 \nL 18.109375 46.1875 \nQ 20.953125 51.171875 25.484375 53.578125 \nQ 30.03125 56 36.53125 56 \nQ 37.453125 56 38.578125 55.875 \nQ 39.703125 55.765625 41.0625 55.515625 \nz\n\" id=\"DejaVuSans-114\"/>\n      <path d=\"M 9.421875 54.6875 \nL 18.40625 54.6875 \nL 18.40625 0 \nL 9.421875 0 \nz\nM 9.421875 75.984375 \nL 18.40625 75.984375 \nL 18.40625 64.59375 \nL 9.421875 64.59375 \nz\n\" id=\"DejaVuSans-105\"/>\n      <path d=\"M 48.78125 52.59375 \nL 48.78125 44.1875 \nQ 44.96875 46.296875 41.140625 47.34375 \nQ 37.3125 48.390625 33.40625 48.390625 \nQ 24.65625 48.390625 19.8125 42.84375 \nQ 14.984375 37.3125 14.984375 27.296875 \nQ 14.984375 17.28125 19.8125 11.734375 \nQ 24.65625 6.203125 33.40625 6.203125 \nQ 37.3125 6.203125 41.140625 7.25 \nQ 44.96875 8.296875 48.78125 10.40625 \nL 48.78125 2.09375 \nQ 45.015625 0.34375 40.984375 -0.53125 \nQ 36.96875 -1.421875 32.421875 -1.421875 \nQ 20.0625 -1.421875 12.78125 6.34375 \nQ 5.515625 14.109375 5.515625 27.296875 \nQ 5.515625 40.671875 12.859375 48.328125 \nQ 20.21875 56 33.015625 56 \nQ 37.15625 56 41.109375 55.140625 \nQ 45.0625 54.296875 48.78125 52.59375 \nz\n\" id=\"DejaVuSans-99\"/>\n     </defs>\n     <g transform=\"translate(174.601563 252.916562)scale(0.1 -0.1)\">\n      <use xlink:href=\"#DejaVuSans-83\"/>\n      <use x=\"63.476562\" xlink:href=\"#DejaVuSans-97\"/>\n      <use x=\"124.755859\" xlink:href=\"#DejaVuSans-108\"/>\n      <use x=\"152.539062\" xlink:href=\"#DejaVuSans-101\"/>\n      <use x=\"214.0625\" xlink:href=\"#DejaVuSans-80\"/>\n      <use x=\"272.615234\" xlink:href=\"#DejaVuSans-114\"/>\n      <use x=\"313.728516\" xlink:href=\"#DejaVuSans-105\"/>\n      <use x=\"341.511719\" xlink:href=\"#DejaVuSans-99\"/>\n      <use x=\"396.492188\" xlink:href=\"#DejaVuSans-101\"/>\n     </g>\n    </g>\n   </g>\n   <g id=\"matplotlib.axis_2\">\n    <g id=\"ytick_1\">\n     <g id=\"line2d_10\">\n      <defs>\n       <path d=\"M 0 0 \nL -3.5 0 \n\" id=\"ma7ad6983cd\" style=\"stroke:#000000;stroke-width:0.8;\"/>\n      </defs>\n      <g>\n       <use style=\"stroke:#000000;stroke-width:0.8;\" x=\"30.103125\" xlink:href=\"#ma7ad6983cd\" y=\"224.64\"/>\n      </g>\n     </g>\n     <g id=\"text_11\">\n      <!-- 0.0 -->\n      <g transform=\"translate(7.2 228.439219)scale(0.1 -0.1)\">\n       <use xlink:href=\"#DejaVuSans-48\"/>\n       <use x=\"63.623047\" xlink:href=\"#DejaVuSans-46\"/>\n       <use x=\"95.410156\" xlink:href=\"#DejaVuSans-48\"/>\n      </g>\n     </g>\n    </g>\n    <g id=\"ytick_2\">\n     <g id=\"line2d_11\">\n      <g>\n       <use style=\"stroke:#000000;stroke-width:0.8;\" x=\"30.103125\" xlink:href=\"#ma7ad6983cd\" y=\"193.295445\"/>\n      </g>\n     </g>\n     <g id=\"text_12\">\n      <!-- 0.2 -->\n      <g transform=\"translate(7.2 197.094664)scale(0.1 -0.1)\">\n       <use xlink:href=\"#DejaVuSans-48\"/>\n       <use x=\"63.623047\" xlink:href=\"#DejaVuSans-46\"/>\n       <use x=\"95.410156\" xlink:href=\"#DejaVuSans-50\"/>\n      </g>\n     </g>\n    </g>\n    <g id=\"ytick_3\">\n     <g id=\"line2d_12\">\n      <g>\n       <use style=\"stroke:#000000;stroke-width:0.8;\" x=\"30.103125\" xlink:href=\"#ma7ad6983cd\" y=\"161.950891\"/>\n      </g>\n     </g>\n     <g id=\"text_13\">\n      <!-- 0.4 -->\n      <g transform=\"translate(7.2 165.75011)scale(0.1 -0.1)\">\n       <use xlink:href=\"#DejaVuSans-48\"/>\n       <use x=\"63.623047\" xlink:href=\"#DejaVuSans-46\"/>\n       <use x=\"95.410156\" xlink:href=\"#DejaVuSans-52\"/>\n      </g>\n     </g>\n    </g>\n    <g id=\"ytick_4\">\n     <g id=\"line2d_13\">\n      <g>\n       <use style=\"stroke:#000000;stroke-width:0.8;\" x=\"30.103125\" xlink:href=\"#ma7ad6983cd\" y=\"130.606336\"/>\n      </g>\n     </g>\n     <g id=\"text_14\">\n      <!-- 0.6 -->\n      <defs>\n       <path d=\"M 33.015625 40.375 \nQ 26.375 40.375 22.484375 35.828125 \nQ 18.609375 31.296875 18.609375 23.390625 \nQ 18.609375 15.53125 22.484375 10.953125 \nQ 26.375 6.390625 33.015625 6.390625 \nQ 39.65625 6.390625 43.53125 10.953125 \nQ 47.40625 15.53125 47.40625 23.390625 \nQ 47.40625 31.296875 43.53125 35.828125 \nQ 39.65625 40.375 33.015625 40.375 \nz\nM 52.59375 71.296875 \nL 52.59375 62.3125 \nQ 48.875 64.0625 45.09375 64.984375 \nQ 41.3125 65.921875 37.59375 65.921875 \nQ 27.828125 65.921875 22.671875 59.328125 \nQ 17.53125 52.734375 16.796875 39.40625 \nQ 19.671875 43.65625 24.015625 45.921875 \nQ 28.375 48.1875 33.59375 48.1875 \nQ 44.578125 48.1875 50.953125 41.515625 \nQ 57.328125 34.859375 57.328125 23.390625 \nQ 57.328125 12.15625 50.6875 5.359375 \nQ 44.046875 -1.421875 33.015625 -1.421875 \nQ 20.359375 -1.421875 13.671875 8.265625 \nQ 6.984375 17.96875 6.984375 36.375 \nQ 6.984375 53.65625 15.1875 63.9375 \nQ 23.390625 74.21875 37.203125 74.21875 \nQ 40.921875 74.21875 44.703125 73.484375 \nQ 48.484375 72.75 52.59375 71.296875 \nz\n\" id=\"DejaVuSans-54\"/>\n      </defs>\n      <g transform=\"translate(7.2 134.405555)scale(0.1 -0.1)\">\n       <use xlink:href=\"#DejaVuSans-48\"/>\n       <use x=\"63.623047\" xlink:href=\"#DejaVuSans-46\"/>\n       <use x=\"95.410156\" xlink:href=\"#DejaVuSans-54\"/>\n      </g>\n     </g>\n    </g>\n    <g id=\"ytick_5\">\n     <g id=\"line2d_14\">\n      <g>\n       <use style=\"stroke:#000000;stroke-width:0.8;\" x=\"30.103125\" xlink:href=\"#ma7ad6983cd\" y=\"99.261782\"/>\n      </g>\n     </g>\n     <g id=\"text_15\">\n      <!-- 0.8 -->\n      <defs>\n       <path d=\"M 31.78125 34.625 \nQ 24.75 34.625 20.71875 30.859375 \nQ 16.703125 27.09375 16.703125 20.515625 \nQ 16.703125 13.921875 20.71875 10.15625 \nQ 24.75 6.390625 31.78125 6.390625 \nQ 38.8125 6.390625 42.859375 10.171875 \nQ 46.921875 13.96875 46.921875 20.515625 \nQ 46.921875 27.09375 42.890625 30.859375 \nQ 38.875 34.625 31.78125 34.625 \nz\nM 21.921875 38.8125 \nQ 15.578125 40.375 12.03125 44.71875 \nQ 8.5 49.078125 8.5 55.328125 \nQ 8.5 64.0625 14.71875 69.140625 \nQ 20.953125 74.21875 31.78125 74.21875 \nQ 42.671875 74.21875 48.875 69.140625 \nQ 55.078125 64.0625 55.078125 55.328125 \nQ 55.078125 49.078125 51.53125 44.71875 \nQ 48 40.375 41.703125 38.8125 \nQ 48.828125 37.15625 52.796875 32.3125 \nQ 56.78125 27.484375 56.78125 20.515625 \nQ 56.78125 9.90625 50.3125 4.234375 \nQ 43.84375 -1.421875 31.78125 -1.421875 \nQ 19.734375 -1.421875 13.25 4.234375 \nQ 6.78125 9.90625 6.78125 20.515625 \nQ 6.78125 27.484375 10.78125 32.3125 \nQ 14.796875 37.15625 21.921875 38.8125 \nz\nM 18.3125 54.390625 \nQ 18.3125 48.734375 21.84375 45.5625 \nQ 25.390625 42.390625 31.78125 42.390625 \nQ 38.140625 42.390625 41.71875 45.5625 \nQ 45.3125 48.734375 45.3125 54.390625 \nQ 45.3125 60.0625 41.71875 63.234375 \nQ 38.140625 66.40625 31.78125 66.40625 \nQ 25.390625 66.40625 21.84375 63.234375 \nQ 18.3125 60.0625 18.3125 54.390625 \nz\n\" id=\"DejaVuSans-56\"/>\n      </defs>\n      <g transform=\"translate(7.2 103.061001)scale(0.1 -0.1)\">\n       <use xlink:href=\"#DejaVuSans-48\"/>\n       <use x=\"63.623047\" xlink:href=\"#DejaVuSans-46\"/>\n       <use x=\"95.410156\" xlink:href=\"#DejaVuSans-56\"/>\n      </g>\n     </g>\n    </g>\n    <g id=\"ytick_6\">\n     <g id=\"line2d_15\">\n      <g>\n       <use style=\"stroke:#000000;stroke-width:0.8;\" x=\"30.103125\" xlink:href=\"#ma7ad6983cd\" y=\"67.917227\"/>\n      </g>\n     </g>\n     <g id=\"text_16\">\n      <!-- 1.0 -->\n      <g transform=\"translate(7.2 71.716446)scale(0.1 -0.1)\">\n       <use xlink:href=\"#DejaVuSans-49\"/>\n       <use x=\"63.623047\" xlink:href=\"#DejaVuSans-46\"/>\n       <use x=\"95.410156\" xlink:href=\"#DejaVuSans-48\"/>\n      </g>\n     </g>\n    </g>\n    <g id=\"ytick_7\">\n     <g id=\"line2d_16\">\n      <g>\n       <use style=\"stroke:#000000;stroke-width:0.8;\" x=\"30.103125\" xlink:href=\"#ma7ad6983cd\" y=\"36.572673\"/>\n      </g>\n     </g>\n     <g id=\"text_17\">\n      <!-- 1.2 -->\n      <g transform=\"translate(7.2 40.371891)scale(0.1 -0.1)\">\n       <use xlink:href=\"#DejaVuSans-49\"/>\n       <use x=\"63.623047\" xlink:href=\"#DejaVuSans-46\"/>\n       <use x=\"95.410156\" xlink:href=\"#DejaVuSans-50\"/>\n      </g>\n     </g>\n    </g>\n   </g>\n   <g id=\"line2d_17\">\n    <path clip-path=\"url(#p38f3821090)\" d=\"M 45.321307 224.628266 \nL 54.907563 224.505567 \nL 59.700691 224.274703 \nL 66.890383 223.668492 \nL 71.683512 223.280429 \nL 76.47664 223.138958 \nL 81.269768 223.317082 \nL 88.45946 223.708396 \nL 90.856024 223.67635 \nL 93.252588 223.493312 \nL 95.649152 223.144186 \nL 98.045716 222.637548 \nL 102.838844 221.291796 \nL 107.631973 219.867537 \nL 110.028537 219.273257 \nL 112.425101 218.815398 \nL 117.218229 218.291484 \nL 119.614793 218.085118 \nL 122.011357 217.719362 \nL 124.407921 216.98211 \nL 126.804485 215.646991 \nL 129.201049 213.528099 \nL 131.597613 210.543113 \nL 133.994177 206.761943 \nL 138.787305 197.837999 \nL 141.183869 193.379935 \nL 143.580434 189.273757 \nL 150.770126 178.235726 \nL 153.16669 173.795836 \nL 155.563254 168.264937 \nL 157.959818 161.3794 \nL 160.356382 153.067986 \nL 162.752946 143.43476 \nL 165.14951 132.70711 \nL 169.942638 109.223574 \nL 174.735766 85.768427 \nL 177.13233 75.431476 \nL 179.528895 66.927446 \nL 181.925459 60.88276 \nL 184.322023 57.667416 \nL 186.718587 57.217741 \nL 189.115151 58.96603 \nL 193.908279 65.085337 \nL 196.304843 67.541515 \nL 198.701407 69.013404 \nL 203.494535 70.73622 \nL 205.891099 72.67162 \nL 208.287663 76.277471 \nL 210.684227 81.70652 \nL 213.080791 88.585866 \nL 217.87392 103.816388 \nL 220.270484 110.887547 \nL 222.667048 117.230994 \nL 225.063612 122.961165 \nL 234.649868 144.750378 \nL 241.83956 161.830078 \nL 246.632688 172.457701 \nL 251.425816 182.182643 \nL 253.822381 186.700619 \nL 256.218945 190.899047 \nL 258.615509 194.647533 \nL 261.012073 197.826248 \nL 263.408637 200.397039 \nL 265.805201 202.443004 \nL 270.598329 205.738616 \nL 272.994893 207.386997 \nL 277.788021 211.097268 \nL 282.581149 214.952888 \nL 284.977713 216.683381 \nL 287.374277 218.181978 \nL 289.770842 219.412576 \nL 292.167406 220.365976 \nL 294.56397 221.055422 \nL 296.960534 221.514936 \nL 301.753662 221.969536 \nL 311.339918 222.584006 \nL 318.52961 223.042871 \nL 328.115867 223.489411 \nL 340.098687 224.435688 \nL 347.288379 224.612102 \nL 349.684943 224.625651 \nL 349.684943 224.625651 \n\" style=\"fill:none;stroke:#1f77b4;stroke-linecap:square;stroke-width:1.5;\"/>\n   </g>\n   <g id=\"patch_35\">\n    <path d=\"M 30.103125 224.64 \nL 30.103125 7.2 \n\" style=\"fill:none;stroke:#000000;stroke-linecap:square;stroke-linejoin:miter;stroke-width:0.8;\"/>\n   </g>\n   <g id=\"patch_36\">\n    <path d=\"M 364.903125 224.64 \nL 364.903125 7.2 \n\" style=\"fill:none;stroke:#000000;stroke-linecap:square;stroke-linejoin:miter;stroke-width:0.8;\"/>\n   </g>\n   <g id=\"patch_37\">\n    <path d=\"M 30.103125 224.64 \nL 364.903125 224.64 \n\" style=\"fill:none;stroke:#000000;stroke-linecap:square;stroke-linejoin:miter;stroke-width:0.8;\"/>\n   </g>\n   <g id=\"patch_38\">\n    <path d=\"M 30.103125 7.2 \nL 364.903125 7.2 \n\" style=\"fill:none;stroke:#000000;stroke-linecap:square;stroke-linejoin:miter;stroke-width:0.8;\"/>\n   </g>\n  </g>\n </g>\n <defs>\n  <clipPath id=\"p38f3821090\">\n   <rect height=\"217.44\" width=\"334.8\" x=\"30.103125\" y=\"7.2\"/>\n  </clipPath>\n </defs>\n</svg>\n",
      "image/png": "[encoded data removed]"
     },
     "metadata": {
      "needs_background": "light"
     }
    }
   ],
   "source": [
    "sns.distplot(y_train)"
   ]
  },
  {
   "cell_type": "markdown",
   "metadata": {},
   "source": [
    "Now we go add function to a list os transformations."
   ]
  },
  {
   "cell_type": "markdown",
   "metadata": {},
   "source": [
    "Will be separate the columns by type to facility the analysis"
   ]
  },
  {
   "cell_type": "markdown",
   "metadata": {},
   "source": [
    "The only non-ordinal columns, this columns will stay separate the rest of the dataset, in the final model we test this columns."
   ]
  },
  {
   "cell_type": "markdown",
   "metadata": {},
   "source": [
    "## NaN Values"
   ]
  },
  {
   "cell_type": "markdown",
   "metadata": {},
   "source": [
    "Will be input non observed data for some columns"
   ]
  },
  {
   "cell_type": "code",
   "execution_count": 9,
   "metadata": {},
   "outputs": [
    {
     "output_type": "execute_result",
     "data": {
      "text/plain": [
       "PoolQC          0.993607\n",
       "MiscFeature     0.962557\n",
       "Alley           0.939726\n",
       "Fence           0.798174\n",
       "FireplaceQu     0.467580\n",
       "LotFrontage     0.183562\n",
       "GarageCond      0.062100\n",
       "GarageType      0.062100\n",
       "GarageYrBlt     0.062100\n",
       "GarageFinish    0.062100\n",
       "GarageQual      0.062100\n",
       "BsmtExposure    0.028311\n",
       "BsmtFinType2    0.028311\n",
       "BsmtFinType1    0.027397\n",
       "BsmtCond        0.027397\n",
       "BsmtQual        0.027397\n",
       "MasVnrArea      0.004566\n",
       "MasVnrType      0.004566\n",
       "Electrical      0.000913\n",
       "dtype: float64"
      ]
     },
     "metadata": {},
     "execution_count": 9
    }
   ],
   "source": [
    "aux_nan = X_train.isna().mean().sort_values(ascending = False)\n",
    "aux_nan = aux_nan[aux_nan > 0]\n",
    "aux_nan"
   ]
  },
  {
   "cell_type": "code",
   "execution_count": 10,
   "metadata": {},
   "outputs": [],
   "source": [
    "def mode(x):\n",
    "    return stats.mode(x).mode[0]"
   ]
  },
  {
   "cell_type": "code",
   "execution_count": 11,
   "metadata": {},
   "outputs": [],
   "source": [
    "nan_impute = {\n",
    "    'LotFrontage': ('Neighborhood', np.mean),\n",
    "    'MasVnrArea': ('Neighborhood', np.mean),\n",
    "    'Functional': 'Typ',\n",
    "    'Electrical': 'SBrkr',\n",
    "    'KitchenQual': 'TA',\n",
    "    'MSZoning': ('MSSubClass', mode)\n",
    "    # or MSZoning': ('MSSubClass', lambda x: stats.mode(x).mode[0])\n",
    "}"
   ]
  },
  {
   "cell_type": "code",
   "execution_count": 12,
   "metadata": {},
   "outputs": [
    {
     "output_type": "execute_result",
     "data": {
      "text/plain": [
       "TransformImputer(auto_input=True,\n",
       "                 mapping={'1stFlrSF': <function amin at 0x7f0f8eda2a60>,\n",
       "                          '2ndFlrSF': <function amin at 0x7f0f8eda2a60>,\n",
       "                          '3SsnPorch': <function amin at 0x7f0f8eda2a60>,\n",
       "                          'BedroomAbvGr': <function amin at 0x7f0f8eda2a60>,\n",
       "                          'BsmtFinSF1': <function amin at 0x7f0f8eda2a60>,\n",
       "                          'BsmtFinSF2': <function amin at 0x7f0f8eda2a60>,\n",
       "                          'BsmtFullBath': <function amin at 0x7f0f8eda2a60>,\n",
       "                          '...\n",
       "                          'LowQualFinSF': <function amin at 0x7f0f8eda2a60>,\n",
       "                          'MSSubClass': <function amin at 0x7f0f8eda2a60>,\n",
       "                          'MSZoning': ('MSSubClass',\n",
       "                                       <function mode at 0x7f0f7a4f8af0>),\n",
       "                          'MasVnrArea': ('Neighborhood',\n",
       "                                         <function mean at 0x7f0f8eda4670>),\n",
       "                          'MiscVal': <function amin at 0x7f0f8eda2a60>,\n",
       "                          'MoSold': <function amin at 0x7f0f8eda2a60>,\n",
       "                          'OpenPorchSF': <function amin at 0x7f0f8eda2a60>, ...},\n",
       "                 not_input=['SalePrice'])"
      ]
     },
     "metadata": {},
     "execution_count": 12
    }
   ],
   "source": [
    "t_input = TransformImputer(nan_impute, auto_input = True, not_input = ['SalePrice'])\n",
    "t_input.fit(X_train)"
   ]
  },
  {
   "cell_type": "code",
   "execution_count": 13,
   "metadata": {},
   "outputs": [],
   "source": [
    "preproc.append(t_input)"
   ]
  },
  {
   "cell_type": "code",
   "execution_count": 14,
   "metadata": {},
   "outputs": [],
   "source": [
    "X_train = t_input.transform(X_train)"
   ]
  },
  {
   "cell_type": "code",
   "execution_count": 15,
   "metadata": {},
   "outputs": [
    {
     "output_type": "execute_result",
     "data": {
      "text/plain": [
       "PoolQC          0.993607\n",
       "MiscFeature     0.962557\n",
       "Alley           0.939726\n",
       "Fence           0.798174\n",
       "FireplaceQu     0.467580\n",
       "GarageFinish    0.062100\n",
       "GarageQual      0.062100\n",
       "GarageCond      0.062100\n",
       "GarageType      0.062100\n",
       "BsmtFinType2    0.028311\n",
       "BsmtExposure    0.028311\n",
       "BsmtQual        0.027397\n",
       "BsmtCond        0.027397\n",
       "BsmtFinType1    0.027397\n",
       "MasVnrType      0.004566\n",
       "dtype: float64"
      ]
     },
     "metadata": {},
     "execution_count": 15
    }
   ],
   "source": [
    "aux_nan = X_train.isna().mean().sort_values(ascending = False)\n",
    "aux_nan = aux_nan[aux_nan > 0]\n",
    "aux_nan"
   ]
  },
  {
   "cell_type": "markdown",
   "metadata": {},
   "source": [
    "## Ordinal columns"
   ]
  },
  {
   "cell_type": "markdown",
   "metadata": {},
   "source": [
    "For ordinal columns will be transform to numeric colmun."
   ]
  },
  {
   "cell_type": "code",
   "execution_count": 16,
   "metadata": {},
   "outputs": [],
   "source": [
    "ordinal_cols = {\n",
    "    'Street':['Grvl','Pave'],\n",
    "    'LotShape':['Reg','IR1','IR2','IR3'],\n",
    "    'Utilities':['AllPub','NoSewr','NoSeWa','ELO','NAN'],\n",
    "    'LandSlope':['Gtl','Mod','Sev'],\n",
    "    'BldgType':['1Fam','2fmCon','Duplex','Twnhs','TwnhsE'],\n",
    "    'ExterQual':['Ex','Gd','TA','Fa','Po'],\n",
    "    'ExterCond':['Ex','Gd','TA','Fa','Po'],\n",
    "    'BsmtQual':['Ex','Gd','TA','Fa','Po','NAN'],\n",
    "    'BsmtCond':['Ex','Gd','TA','Fa','Po','NAN'],\n",
    "    'BsmtExposure':['Gd','Av','Mn','No','NAN'],\n",
    "    'BsmtFinType1':['GLQ','ALQ','BLQ','Rec','LwQ','Unf','NAN'],\n",
    "    'BsmtFinType2':['GLQ','ALQ','BLQ','Rec','LwQ','Unf','NAN'],\n",
    "    'HeatingQC':['Ex','Gd','TA','Fa','Po'],\n",
    "    'CentralAir':['N','Y'],\n",
    "    'KitchenQual':['Ex','Gd','TA','Fa','Po','NAN'],\n",
    "    'FireplaceQu':['Ex','Gd','TA','Fa','Po','NAN'],\n",
    "    'GarageFinish':['Fin','RFn','Unf','NAN'],\n",
    "    'GarageQual':['Ex','Gd','TA','Fa','Po','NAN'],\n",
    "    'GarageCond':['Ex','Gd','TA','Fa','Po','NAN'],\n",
    "    'PavedDrive':['Y','P','N'],\n",
    "    'PoolQC':['Ex','Gd','TA','Fa','NAN'],\n",
    "    'Fence':['GdPrv','MnPrv','GdWo','MnWw','NAN'],\n",
    "}"
   ]
  },
  {
   "cell_type": "code",
   "execution_count": 17,
   "metadata": {},
   "outputs": [],
   "source": [
    "tord = OrdinalEncoder(ordinal_cols)\n",
    "preproc.append(tord)"
   ]
  },
  {
   "cell_type": "code",
   "execution_count": 18,
   "metadata": {},
   "outputs": [],
   "source": [
    "X_train = tord.transform(X_train)"
   ]
  },
  {
   "cell_type": "code",
   "execution_count": 19,
   "metadata": {
    "scrolled": true
   },
   "outputs": [
    {
     "output_type": "execute_result",
     "data": {
      "text/plain": [
       "      Street  LotShape  Utilities  LandSlope  BldgType  ExterQual  ExterCond  \\\n",
       "338        1         0          0          0         0          1          2   \n",
       "1067       1         0          0          1         0          2          2   \n",
       "1443       1         0          0          0         0          2          2   \n",
       "939        1         0          0          0         0          2          1   \n",
       "923        1         0          0          0         4          1          2   \n",
       "\n",
       "      BsmtQual  BsmtCond  BsmtExposure  BsmtFinType1  BsmtFinType2  HeatingQC  \\\n",
       "338          1         2             2             1             5          0   \n",
       "1067         2         2             0             0             4          2   \n",
       "1443         2         2             3             5             5          3   \n",
       "939          2         2             2             5             5          0   \n",
       "923          1         2             3             4             0          0   \n",
       "\n",
       "      CentralAir  KitchenQual  FireplaceQu  GarageFinish  GarageQual  \\\n",
       "338            1            1            5             1           2   \n",
       "1067           1            2            5             1           2   \n",
       "1443           0            3            1             2           3   \n",
       "939            1            2            2             2           2   \n",
       "923            1            1            3             1           2   \n",
       "\n",
       "      GarageCond  PavedDrive  PoolQC  Fence  \n",
       "338            2           0       4      4  \n",
       "1067           2           0       4      4  \n",
       "1443           4           1       4      4  \n",
       "939            2           0       4      4  \n",
       "923            2           0       4      4  "
      ],
      "text/html": "<div>\n<style scoped>\n    .dataframe tbody tr th:only-of-type {\n        vertical-align: middle;\n    }\n\n    .dataframe tbody tr th {\n        vertical-align: top;\n    }\n\n    .dataframe thead th {\n        text-align: right;\n    }\n</style>\n<table border=\"1\" class=\"dataframe\">\n  <thead>\n    <tr style=\"text-align: right;\">\n      <th></th>\n      <th>Street</th>\n      <th>LotShape</th>\n      <th>Utilities</th>\n      <th>LandSlope</th>\n      <th>BldgType</th>\n      <th>ExterQual</th>\n      <th>ExterCond</th>\n      <th>BsmtQual</th>\n      <th>BsmtCond</th>\n      <th>BsmtExposure</th>\n      <th>BsmtFinType1</th>\n      <th>BsmtFinType2</th>\n      <th>HeatingQC</th>\n      <th>CentralAir</th>\n      <th>KitchenQual</th>\n      <th>FireplaceQu</th>\n      <th>GarageFinish</th>\n      <th>GarageQual</th>\n      <th>GarageCond</th>\n      <th>PavedDrive</th>\n      <th>PoolQC</th>\n      <th>Fence</th>\n    </tr>\n  </thead>\n  <tbody>\n    <tr>\n      <th>338</th>\n      <td>1</td>\n      <td>0</td>\n      <td>0</td>\n      <td>0</td>\n      <td>0</td>\n      <td>1</td>\n      <td>2</td>\n      <td>1</td>\n      <td>2</td>\n      <td>2</td>\n      <td>1</td>\n      <td>5</td>\n      <td>0</td>\n      <td>1</td>\n      <td>1</td>\n      <td>5</td>\n      <td>1</td>\n      <td>2</td>\n      <td>2</td>\n      <td>0</td>\n      <td>4</td>\n      <td>4</td>\n    </tr>\n    <tr>\n      <th>1067</th>\n      <td>1</td>\n      <td>0</td>\n      <td>0</td>\n      <td>1</td>\n      <td>0</td>\n      <td>2</td>\n      <td>2</td>\n      <td>2</td>\n      <td>2</td>\n      <td>0</td>\n      <td>0</td>\n      <td>4</td>\n      <td>2</td>\n      <td>1</td>\n      <td>2</td>\n      <td>5</td>\n      <td>1</td>\n      <td>2</td>\n      <td>2</td>\n      <td>0</td>\n      <td>4</td>\n      <td>4</td>\n    </tr>\n    <tr>\n      <th>1443</th>\n      <td>1</td>\n      <td>0</td>\n      <td>0</td>\n      <td>0</td>\n      <td>0</td>\n      <td>2</td>\n      <td>2</td>\n      <td>2</td>\n      <td>2</td>\n      <td>3</td>\n      <td>5</td>\n      <td>5</td>\n      <td>3</td>\n      <td>0</td>\n      <td>3</td>\n      <td>1</td>\n      <td>2</td>\n      <td>3</td>\n      <td>4</td>\n      <td>1</td>\n      <td>4</td>\n      <td>4</td>\n    </tr>\n    <tr>\n      <th>939</th>\n      <td>1</td>\n      <td>0</td>\n      <td>0</td>\n      <td>0</td>\n      <td>0</td>\n      <td>2</td>\n      <td>1</td>\n      <td>2</td>\n      <td>2</td>\n      <td>2</td>\n      <td>5</td>\n      <td>5</td>\n      <td>0</td>\n      <td>1</td>\n      <td>2</td>\n      <td>2</td>\n      <td>2</td>\n      <td>2</td>\n      <td>2</td>\n      <td>0</td>\n      <td>4</td>\n      <td>4</td>\n    </tr>\n    <tr>\n      <th>923</th>\n      <td>1</td>\n      <td>0</td>\n      <td>0</td>\n      <td>0</td>\n      <td>4</td>\n      <td>1</td>\n      <td>2</td>\n      <td>1</td>\n      <td>2</td>\n      <td>3</td>\n      <td>4</td>\n      <td>0</td>\n      <td>0</td>\n      <td>1</td>\n      <td>1</td>\n      <td>3</td>\n      <td>1</td>\n      <td>2</td>\n      <td>2</td>\n      <td>0</td>\n      <td>4</td>\n      <td>4</td>\n    </tr>\n  </tbody>\n</table>\n</div>"
     },
     "metadata": {},
     "execution_count": 19
    }
   ],
   "source": [
    "X_train[ordinal_cols.keys()].head(5)"
   ]
  },
  {
   "cell_type": "code",
   "execution_count": 20,
   "metadata": {},
   "outputs": [
    {
     "output_type": "execute_result",
     "data": {
      "text/plain": [
       "MiscFeature    0.962557\n",
       "Alley          0.939726\n",
       "GarageType     0.062100\n",
       "MasVnrType     0.004566\n",
       "dtype: float64"
      ]
     },
     "metadata": {},
     "execution_count": 20
    }
   ],
   "source": [
    "aux_nan = X_train.isna().mean().sort_values(ascending = False)\n",
    "aux_nan = aux_nan[aux_nan > 0]\n",
    "aux_nan"
   ]
  },
  {
   "cell_type": "markdown",
   "metadata": {},
   "source": [
    "## Nominal columns"
   ]
  },
  {
   "cell_type": "code",
   "execution_count": 21,
   "metadata": {},
   "outputs": [
    {
     "output_type": "execute_result",
     "data": {
      "text/plain": [
       "     MSZoning Alley LandContour LotConfig Neighborhood Condition1 Condition2  \\\n",
       "338        RL   NaN         Lvl    Corner       NWAmes       Norm       Norm   \n",
       "1067       RL   NaN         Lvl    Inside        NAmes       Norm       Norm   \n",
       "1443       RL   NaN         Lvl    Inside      BrkSide       Norm       Norm   \n",
       "939        RL   NaN         Lvl    Inside      ClearCr       Norm       Norm   \n",
       "923        RL   NaN         Lvl    Inside      SawyerW       Norm       Norm   \n",
       "\n",
       "     HouseStyle RoofStyle RoofMatl Exterior1st Exterior2nd MasVnrType  \\\n",
       "338      1Story     Gable  CompShg     Wd Sdng     Wd Sdng       None   \n",
       "1067     2Story     Gable  CompShg     HdBoard     HdBoard    BrkFace   \n",
       "1443     1.5Unf     Gable  CompShg     Wd Sdng     Wd Sdng       None   \n",
       "939      2Story     Gable  CompShg     MetalSd     MetalSd       None   \n",
       "923      1Story     Gable  CompShg     Plywood     Plywood       None   \n",
       "\n",
       "     Foundation Heating Electrical Functional GarageType MiscFeature SaleType  \\\n",
       "338      CBlock    GasA      SBrkr        Typ     Attchd        Shed       WD   \n",
       "1067     CBlock    GasA      SBrkr        Typ     Attchd         NaN       WD   \n",
       "1443     BrkTil    Grav      FuseF        Typ     Detchd         NaN       WD   \n",
       "939      CBlock    GasA      SBrkr        Typ     Attchd         NaN      COD   \n",
       "923       PConc    GasA      SBrkr        Typ     Attchd         NaN       WD   \n",
       "\n",
       "     SaleCondition  \n",
       "338         Normal  \n",
       "1067        Normal  \n",
       "1443        Normal  \n",
       "939         Normal  \n",
       "923         Normal  "
      ],
      "text/html": "<div>\n<style scoped>\n    .dataframe tbody tr th:only-of-type {\n        vertical-align: middle;\n    }\n\n    .dataframe tbody tr th {\n        vertical-align: top;\n    }\n\n    .dataframe thead th {\n        text-align: right;\n    }\n</style>\n<table border=\"1\" class=\"dataframe\">\n  <thead>\n    <tr style=\"text-align: right;\">\n      <th></th>\n      <th>MSZoning</th>\n      <th>Alley</th>\n      <th>LandContour</th>\n      <th>LotConfig</th>\n      <th>Neighborhood</th>\n      <th>Condition1</th>\n      <th>Condition2</th>\n      <th>HouseStyle</th>\n      <th>RoofStyle</th>\n      <th>RoofMatl</th>\n      <th>Exterior1st</th>\n      <th>Exterior2nd</th>\n      <th>MasVnrType</th>\n      <th>Foundation</th>\n      <th>Heating</th>\n      <th>Electrical</th>\n      <th>Functional</th>\n      <th>GarageType</th>\n      <th>MiscFeature</th>\n      <th>SaleType</th>\n      <th>SaleCondition</th>\n    </tr>\n  </thead>\n  <tbody>\n    <tr>\n      <th>338</th>\n      <td>RL</td>\n      <td>NaN</td>\n      <td>Lvl</td>\n      <td>Corner</td>\n      <td>NWAmes</td>\n      <td>Norm</td>\n      <td>Norm</td>\n      <td>1Story</td>\n      <td>Gable</td>\n      <td>CompShg</td>\n      <td>Wd Sdng</td>\n      <td>Wd Sdng</td>\n      <td>None</td>\n      <td>CBlock</td>\n      <td>GasA</td>\n      <td>SBrkr</td>\n      <td>Typ</td>\n      <td>Attchd</td>\n      <td>Shed</td>\n      <td>WD</td>\n      <td>Normal</td>\n    </tr>\n    <tr>\n      <th>1067</th>\n      <td>RL</td>\n      <td>NaN</td>\n      <td>Lvl</td>\n      <td>Inside</td>\n      <td>NAmes</td>\n      <td>Norm</td>\n      <td>Norm</td>\n      <td>2Story</td>\n      <td>Gable</td>\n      <td>CompShg</td>\n      <td>HdBoard</td>\n      <td>HdBoard</td>\n      <td>BrkFace</td>\n      <td>CBlock</td>\n      <td>GasA</td>\n      <td>SBrkr</td>\n      <td>Typ</td>\n      <td>Attchd</td>\n      <td>NaN</td>\n      <td>WD</td>\n      <td>Normal</td>\n    </tr>\n    <tr>\n      <th>1443</th>\n      <td>RL</td>\n      <td>NaN</td>\n      <td>Lvl</td>\n      <td>Inside</td>\n      <td>BrkSide</td>\n      <td>Norm</td>\n      <td>Norm</td>\n      <td>1.5Unf</td>\n      <td>Gable</td>\n      <td>CompShg</td>\n      <td>Wd Sdng</td>\n      <td>Wd Sdng</td>\n      <td>None</td>\n      <td>BrkTil</td>\n      <td>Grav</td>\n      <td>FuseF</td>\n      <td>Typ</td>\n      <td>Detchd</td>\n      <td>NaN</td>\n      <td>WD</td>\n      <td>Normal</td>\n    </tr>\n    <tr>\n      <th>939</th>\n      <td>RL</td>\n      <td>NaN</td>\n      <td>Lvl</td>\n      <td>Inside</td>\n      <td>ClearCr</td>\n      <td>Norm</td>\n      <td>Norm</td>\n      <td>2Story</td>\n      <td>Gable</td>\n      <td>CompShg</td>\n      <td>MetalSd</td>\n      <td>MetalSd</td>\n      <td>None</td>\n      <td>CBlock</td>\n      <td>GasA</td>\n      <td>SBrkr</td>\n      <td>Typ</td>\n      <td>Attchd</td>\n      <td>NaN</td>\n      <td>COD</td>\n      <td>Normal</td>\n    </tr>\n    <tr>\n      <th>923</th>\n      <td>RL</td>\n      <td>NaN</td>\n      <td>Lvl</td>\n      <td>Inside</td>\n      <td>SawyerW</td>\n      <td>Norm</td>\n      <td>Norm</td>\n      <td>1Story</td>\n      <td>Gable</td>\n      <td>CompShg</td>\n      <td>Plywood</td>\n      <td>Plywood</td>\n      <td>None</td>\n      <td>PConc</td>\n      <td>GasA</td>\n      <td>SBrkr</td>\n      <td>Typ</td>\n      <td>Attchd</td>\n      <td>NaN</td>\n      <td>WD</td>\n      <td>Normal</td>\n    </tr>\n  </tbody>\n</table>\n</div>"
     },
     "metadata": {},
     "execution_count": 21
    }
   ],
   "source": [
    "X_train.select_dtypes(np.object).head(5)"
   ]
  },
  {
   "cell_type": "code",
   "execution_count": 22,
   "metadata": {},
   "outputs": [],
   "source": [
    "t_others = TransformOthers(threshold=0.1)\n",
    "t_others.fit(X_train)\n",
    "preproc.append(t_others)"
   ]
  },
  {
   "cell_type": "code",
   "execution_count": 23,
   "metadata": {},
   "outputs": [
    {
     "output_type": "execute_result",
     "data": {
      "text/plain": [
       "{'MSZoning': ['RL', 'RM'],\n",
       " 'Alley': [nan],\n",
       " 'LandContour': ['Lvl'],\n",
       " 'LotConfig': ['Inside', 'Corner'],\n",
       " 'Neighborhood': ['NAmes'],\n",
       " 'Condition1': ['Norm'],\n",
       " 'Condition2': ['Norm'],\n",
       " 'HouseStyle': ['1Story', '2Story', '1.5Fin'],\n",
       " 'RoofStyle': ['Gable', 'Hip'],\n",
       " 'RoofMatl': ['CompShg'],\n",
       " 'Exterior1st': ['VinylSd', 'HdBoard', 'MetalSd', 'Wd Sdng'],\n",
       " 'Exterior2nd': ['VinylSd', 'HdBoard', 'MetalSd', 'Wd Sdng'],\n",
       " 'MasVnrType': ['None', 'BrkFace'],\n",
       " 'Foundation': ['PConc', 'CBlock'],\n",
       " 'Heating': ['GasA'],\n",
       " 'Electrical': ['SBrkr'],\n",
       " 'Functional': ['Typ'],\n",
       " 'GarageType': ['Attchd', 'Detchd'],\n",
       " 'MiscFeature': [nan],\n",
       " 'SaleType': ['WD'],\n",
       " 'SaleCondition': ['Normal']}"
      ]
     },
     "metadata": {},
     "execution_count": 23
    }
   ],
   "source": [
    "t_others.relevant_values_"
   ]
  },
  {
   "cell_type": "code",
   "execution_count": 24,
   "metadata": {},
   "outputs": [],
   "source": [
    "X_train = t_others.transform(X_train)"
   ]
  },
  {
   "cell_type": "code",
   "execution_count": 25,
   "metadata": {},
   "outputs": [
    {
     "output_type": "execute_result",
     "data": {
      "text/plain": [
       "NaN       0.962557\n",
       "Others    0.037443\n",
       "Name: MiscFeature, dtype: float64"
      ]
     },
     "metadata": {},
     "execution_count": 25
    }
   ],
   "source": [
    "X_train[\"MiscFeature\"].value_counts(normalize=True, dropna=False)"
   ]
  },
  {
   "cell_type": "markdown",
   "metadata": {},
   "source": [
    "## Numerical columns"
   ]
  },
  {
   "cell_type": "markdown",
   "metadata": {},
   "source": [
    "Create new columns"
   ]
  },
  {
   "cell_type": "code",
   "execution_count": 26,
   "metadata": {},
   "outputs": [],
   "source": [
    "new_cols = {\n",
    "    'TotalBath': 'X[\"BsmtFullBath\"] + 0.5*X[\"BsmtHalfBath\"] + X[\"FullBath\"] + 0.5*X[\"HalfBath\"]',\n",
    "    'TotalSqrFootage': 'X[\"BsmtFinSF1\"] + X[\"BsmtFinSF2\"] + X[\"1stFlrSF\"] + X[\"2ndFlrSF\"]',\n",
    "    'TotalPorch': 'X[\"OpenPorchSF\"] + X[\"3SsnPorch\"] + X[\"EnclosedPorch\"] + X[\"ScreenPorch\"] + X[\"WoodDeckSF\"]'\n",
    "}\n",
    "\n",
    "t_newcol = TransformColumn(new_cols)\n",
    "t_newcol.fit(X_train)\n",
    "preproc.append(t_newcol)"
   ]
  },
  {
   "cell_type": "code",
   "execution_count": 27,
   "metadata": {},
   "outputs": [],
   "source": [
    "X_train = t_newcol.transform(X_train)"
   ]
  },
  {
   "cell_type": "code",
   "execution_count": 28,
   "metadata": {},
   "outputs": [
    {
     "output_type": "execute_result",
     "data": {
      "text/plain": [
       "         TotalBath  TotalSqrFootage   TotalPorch\n",
       "count  1095.000000      1095.000000  1095.000000\n",
       "mean      2.201826      1990.687671   181.589041\n",
       "std       0.785725       790.315014   156.360699\n",
       "min       1.000000       672.000000     0.000000\n",
       "25%       2.000000      1484.500000    45.000000\n",
       "50%       2.000000      1834.000000   164.000000\n",
       "75%       2.500000      2366.000000   265.500000\n",
       "max       6.000000     11286.000000  1027.000000"
      ],
      "text/html": "<div>\n<style scoped>\n    .dataframe tbody tr th:only-of-type {\n        vertical-align: middle;\n    }\n\n    .dataframe tbody tr th {\n        vertical-align: top;\n    }\n\n    .dataframe thead th {\n        text-align: right;\n    }\n</style>\n<table border=\"1\" class=\"dataframe\">\n  <thead>\n    <tr style=\"text-align: right;\">\n      <th></th>\n      <th>TotalBath</th>\n      <th>TotalSqrFootage</th>\n      <th>TotalPorch</th>\n    </tr>\n  </thead>\n  <tbody>\n    <tr>\n      <th>count</th>\n      <td>1095.000000</td>\n      <td>1095.000000</td>\n      <td>1095.000000</td>\n    </tr>\n    <tr>\n      <th>mean</th>\n      <td>2.201826</td>\n      <td>1990.687671</td>\n      <td>181.589041</td>\n    </tr>\n    <tr>\n      <th>std</th>\n      <td>0.785725</td>\n      <td>790.315014</td>\n      <td>156.360699</td>\n    </tr>\n    <tr>\n      <th>min</th>\n      <td>1.000000</td>\n      <td>672.000000</td>\n      <td>0.000000</td>\n    </tr>\n    <tr>\n      <th>25%</th>\n      <td>2.000000</td>\n      <td>1484.500000</td>\n      <td>45.000000</td>\n    </tr>\n    <tr>\n      <th>50%</th>\n      <td>2.000000</td>\n      <td>1834.000000</td>\n      <td>164.000000</td>\n    </tr>\n    <tr>\n      <th>75%</th>\n      <td>2.500000</td>\n      <td>2366.000000</td>\n      <td>265.500000</td>\n    </tr>\n    <tr>\n      <th>max</th>\n      <td>6.000000</td>\n      <td>11286.000000</td>\n      <td>1027.000000</td>\n    </tr>\n  </tbody>\n</table>\n</div>"
     },
     "metadata": {},
     "execution_count": 28
    }
   ],
   "source": [
    "X_train[['TotalBath', 'TotalSqrFootage', 'TotalPorch']].describe()"
   ]
  },
  {
   "cell_type": "markdown",
   "metadata": {},
   "source": [
    "Now the objective is a discover the colums wich interessing to transform in binary columns."
   ]
  },
  {
   "cell_type": "markdown",
   "metadata": {},
   "source": [
    "This coluns problably will be bad features to model, so will binarize this columns."
   ]
  },
  {
   "cell_type": "code",
   "execution_count": 29,
   "metadata": {},
   "outputs": [],
   "source": [
    "t_bin = TransformBinary()\n",
    "X_train = t_bin.fit_transform(X_train)\n",
    "preproc.append(t_bin)"
   ]
  },
  {
   "cell_type": "code",
   "execution_count": 30,
   "metadata": {},
   "outputs": [
    {
     "output_type": "execute_result",
     "data": {
      "text/plain": [
       "['bin_MSZoning_RL',\n",
       " 'bin_LandContour_Lvl',\n",
       " 'bin_LotConfig_Inside',\n",
       " 'bin_Neighborhood_Others',\n",
       " 'bin_Condition1_Norm',\n",
       " 'bin_HouseStyle_1Story',\n",
       " 'bin_RoofStyle_Gable',\n",
       " 'bin_MasVnrType_None',\n",
       " 'bin_Electrical_SBrkr',\n",
       " 'bin_Functional_Typ',\n",
       " 'bin_GarageType_Attchd',\n",
       " 'bin_SaleType_WD',\n",
       " 'bin_SaleCondition_Normal']"
      ]
     },
     "metadata": {},
     "execution_count": 30
    }
   ],
   "source": [
    "t_bin.cols_bin_"
   ]
  },
  {
   "cell_type": "code",
   "execution_count": 31,
   "metadata": {},
   "outputs": [
    {
     "output_type": "execute_result",
     "data": {
      "text/plain": [
       "['Alley', 'Condition2', 'RoofMatl', 'Heating', 'MiscFeature']"
      ]
     },
     "metadata": {},
     "execution_count": 31
    }
   ],
   "source": [
    "t_bin.cols_drop_"
   ]
  },
  {
   "cell_type": "code",
   "execution_count": 32,
   "metadata": {},
   "outputs": [
    {
     "output_type": "execute_result",
     "data": {
      "text/plain": [
       "      MSSubClass  LotFrontage  LotArea  Street  LotShape  Utilities  \\\n",
       "338           20    91.000000    14145       1         0          0   \n",
       "1067          60    80.000000     9760       1         0          0   \n",
       "1443          30    54.583333     8854       1         0          0   \n",
       "939           70    87.000000    24090       1         0          0   \n",
       "923          120    50.000000     8012       1         0          0   \n",
       "\n",
       "      LandSlope  BldgType  OverallQual  OverallCond  YearBuilt  YearRemodAdd  \\\n",
       "338           0         0            7            7       1984          1998   \n",
       "1067          1         0            6            6       1964          1964   \n",
       "1443          0         0            6            6       1916          1950   \n",
       "939           0         0            7            7       1940          1950   \n",
       "923           0         4            6            5       1993          1994   \n",
       "\n",
       "     Exterior1st Exterior2nd  MasVnrArea  ExterQual  ExterCond Foundation  \\\n",
       "338      Wd Sdng     Wd Sdng         0.0          1          2     CBlock   \n",
       "1067     HdBoard     HdBoard       360.0          2          2     CBlock   \n",
       "1443     Wd Sdng     Wd Sdng         0.0          2          2     Others   \n",
       "939      MetalSd     MetalSd         0.0          2          1     CBlock   \n",
       "923       Others      Others         0.0          1          2      PConc   \n",
       "\n",
       "      BsmtQual  BsmtCond  BsmtExposure  BsmtFinType1  BsmtFinSF1  \\\n",
       "338          1         2             2             1         213   \n",
       "1067         2         2             0             0         674   \n",
       "1443         2         2             3             5           0   \n",
       "939          2         2             2             5           0   \n",
       "923          1         2             3             4         165   \n",
       "\n",
       "      BsmtFinType2  BsmtFinSF2  BsmtUnfSF  TotalBsmtSF  HeatingQC  CentralAir  \\\n",
       "338              5           0        995         1208          0           1   \n",
       "1067             4         106          0          780          2           1   \n",
       "1443             5           0        952          952          3           0   \n",
       "939              5           0       1032         1032          0           1   \n",
       "923              0         841        598         1604          0           1   \n",
       "\n",
       "      1stFlrSF  2ndFlrSF  LowQualFinSF  GrLivArea  BsmtFullBath  BsmtHalfBath  \\\n",
       "338       1621         0             0       1621             1             0   \n",
       "1067       798       813             0       1611             1             0   \n",
       "1443       952         0             0        952             0             0   \n",
       "939       1207      1196             0       2403             0             0   \n",
       "923       1617         0             0       1617             1             0   \n",
       "\n",
       "      FullBath  HalfBath  BedroomAbvGr  KitchenAbvGr  KitchenQual  \\\n",
       "338          2         0             3             1            1   \n",
       "1067         1         1             4             1            2   \n",
       "1443         1         0             2             1            3   \n",
       "939          2         0             4             1            2   \n",
       "923          2         0             2             1            1   \n",
       "\n",
       "      TotRmsAbvGrd  Fireplaces  FireplaceQu  GarageYrBlt  GarageFinish  \\\n",
       "338              8           0            5       1984.0             1   \n",
       "1067             7           0            5       1964.0             1   \n",
       "1443             4           1            1       1916.0             2   \n",
       "939             10           2            2       1940.0             2   \n",
       "923              5           1            3       1993.0             1   \n",
       "\n",
       "      GarageCars  GarageArea  GarageQual  GarageCond  PavedDrive  WoodDeckSF  \\\n",
       "338            2         440           2           2           0         108   \n",
       "1067           2         442           2           2           0         328   \n",
       "1443           1         192           3           4           1           0   \n",
       "939            1         349           2           2           0          56   \n",
       "923            2         533           2           2           0           0   \n",
       "\n",
       "      OpenPorchSF  EnclosedPorch  3SsnPorch  ScreenPorch  PoolArea  PoolQC  \\\n",
       "338            45              0          0            0         0       4   \n",
       "1067          128              0          0          189         0       4   \n",
       "1443           98              0          0           40         0       4   \n",
       "939             0            318          0            0         0       4   \n",
       "923            69              0          0            0         0       4   \n",
       "\n",
       "      Fence  MiscVal  MoSold  YrSold  TotalBath  TotalSqrFootage  TotalPorch  \\\n",
       "338       4      400       5    2006        3.0             1834         153   \n",
       "1067      4        0       6    2008        2.5             2391         645   \n",
       "1443      4        0       5    2009        1.0              952         138   \n",
       "939       4        0       6    2010        2.0             2403         374   \n",
       "923       4        0       7    2008        3.0             2623          69   \n",
       "\n",
       "      bin_MSZoning_RL  bin_LandContour_Lvl  bin_LotConfig_Inside  \\\n",
       "338                 1                    1                     0   \n",
       "1067                1                    1                     1   \n",
       "1443                1                    1                     1   \n",
       "939                 1                    1                     1   \n",
       "923                 1                    1                     1   \n",
       "\n",
       "      bin_Neighborhood_Others  bin_Condition1_Norm  bin_HouseStyle_1Story  \\\n",
       "338                         1                    1                      1   \n",
       "1067                        0                    1                      0   \n",
       "1443                        1                    1                      0   \n",
       "939                         1                    1                      0   \n",
       "923                         1                    1                      1   \n",
       "\n",
       "      bin_RoofStyle_Gable  bin_MasVnrType_None  bin_Electrical_SBrkr  \\\n",
       "338                     1                    1                     1   \n",
       "1067                    1                    0                     1   \n",
       "1443                    1                    1                     0   \n",
       "939                     1                    1                     1   \n",
       "923                     1                    1                     1   \n",
       "\n",
       "      bin_Functional_Typ  bin_GarageType_Attchd  bin_SaleType_WD  \\\n",
       "338                    1                      1                1   \n",
       "1067                   1                      1                1   \n",
       "1443                   1                      0                1   \n",
       "939                    1                      1                0   \n",
       "923                    1                      1                1   \n",
       "\n",
       "      bin_SaleCondition_Normal  \n",
       "338                          1  \n",
       "1067                         1  \n",
       "1443                         1  \n",
       "939                          1  \n",
       "923                          1  "
      ],
      "text/html": "<div>\n<style scoped>\n    .dataframe tbody tr th:only-of-type {\n        vertical-align: middle;\n    }\n\n    .dataframe tbody tr th {\n        vertical-align: top;\n    }\n\n    .dataframe thead th {\n        text-align: right;\n    }\n</style>\n<table border=\"1\" class=\"dataframe\">\n  <thead>\n    <tr style=\"text-align: right;\">\n      <th></th>\n      <th>MSSubClass</th>\n      <th>LotFrontage</th>\n      <th>LotArea</th>\n      <th>Street</th>\n      <th>LotShape</th>\n      <th>Utilities</th>\n      <th>LandSlope</th>\n      <th>BldgType</th>\n      <th>OverallQual</th>\n      <th>OverallCond</th>\n      <th>YearBuilt</th>\n      <th>YearRemodAdd</th>\n      <th>Exterior1st</th>\n      <th>Exterior2nd</th>\n      <th>MasVnrArea</th>\n      <th>ExterQual</th>\n      <th>ExterCond</th>\n      <th>Foundation</th>\n      <th>BsmtQual</th>\n      <th>BsmtCond</th>\n      <th>BsmtExposure</th>\n      <th>BsmtFinType1</th>\n      <th>BsmtFinSF1</th>\n      <th>BsmtFinType2</th>\n      <th>BsmtFinSF2</th>\n      <th>BsmtUnfSF</th>\n      <th>TotalBsmtSF</th>\n      <th>HeatingQC</th>\n      <th>CentralAir</th>\n      <th>1stFlrSF</th>\n      <th>2ndFlrSF</th>\n      <th>LowQualFinSF</th>\n      <th>GrLivArea</th>\n      <th>BsmtFullBath</th>\n      <th>BsmtHalfBath</th>\n      <th>FullBath</th>\n      <th>HalfBath</th>\n      <th>BedroomAbvGr</th>\n      <th>KitchenAbvGr</th>\n      <th>KitchenQual</th>\n      <th>TotRmsAbvGrd</th>\n      <th>Fireplaces</th>\n      <th>FireplaceQu</th>\n      <th>GarageYrBlt</th>\n      <th>GarageFinish</th>\n      <th>GarageCars</th>\n      <th>GarageArea</th>\n      <th>GarageQual</th>\n      <th>GarageCond</th>\n      <th>PavedDrive</th>\n      <th>WoodDeckSF</th>\n      <th>OpenPorchSF</th>\n      <th>EnclosedPorch</th>\n      <th>3SsnPorch</th>\n      <th>ScreenPorch</th>\n      <th>PoolArea</th>\n      <th>PoolQC</th>\n      <th>Fence</th>\n      <th>MiscVal</th>\n      <th>MoSold</th>\n      <th>YrSold</th>\n      <th>TotalBath</th>\n      <th>TotalSqrFootage</th>\n      <th>TotalPorch</th>\n      <th>bin_MSZoning_RL</th>\n      <th>bin_LandContour_Lvl</th>\n      <th>bin_LotConfig_Inside</th>\n      <th>bin_Neighborhood_Others</th>\n      <th>bin_Condition1_Norm</th>\n      <th>bin_HouseStyle_1Story</th>\n      <th>bin_RoofStyle_Gable</th>\n      <th>bin_MasVnrType_None</th>\n      <th>bin_Electrical_SBrkr</th>\n      <th>bin_Functional_Typ</th>\n      <th>bin_GarageType_Attchd</th>\n      <th>bin_SaleType_WD</th>\n      <th>bin_SaleCondition_Normal</th>\n    </tr>\n  </thead>\n  <tbody>\n    <tr>\n      <th>338</th>\n      <td>20</td>\n      <td>91.000000</td>\n      <td>14145</td>\n      <td>1</td>\n      <td>0</td>\n      <td>0</td>\n      <td>0</td>\n      <td>0</td>\n      <td>7</td>\n      <td>7</td>\n      <td>1984</td>\n      <td>1998</td>\n      <td>Wd Sdng</td>\n      <td>Wd Sdng</td>\n      <td>0.0</td>\n      <td>1</td>\n      <td>2</td>\n      <td>CBlock</td>\n      <td>1</td>\n      <td>2</td>\n      <td>2</td>\n      <td>1</td>\n      <td>213</td>\n      <td>5</td>\n      <td>0</td>\n      <td>995</td>\n      <td>1208</td>\n      <td>0</td>\n      <td>1</td>\n      <td>1621</td>\n      <td>0</td>\n      <td>0</td>\n      <td>1621</td>\n      <td>1</td>\n      <td>0</td>\n      <td>2</td>\n      <td>0</td>\n      <td>3</td>\n      <td>1</td>\n      <td>1</td>\n      <td>8</td>\n      <td>0</td>\n      <td>5</td>\n      <td>1984.0</td>\n      <td>1</td>\n      <td>2</td>\n      <td>440</td>\n      <td>2</td>\n      <td>2</td>\n      <td>0</td>\n      <td>108</td>\n      <td>45</td>\n      <td>0</td>\n      <td>0</td>\n      <td>0</td>\n      <td>0</td>\n      <td>4</td>\n      <td>4</td>\n      <td>400</td>\n      <td>5</td>\n      <td>2006</td>\n      <td>3.0</td>\n      <td>1834</td>\n      <td>153</td>\n      <td>1</td>\n      <td>1</td>\n      <td>0</td>\n      <td>1</td>\n      <td>1</td>\n      <td>1</td>\n      <td>1</td>\n      <td>1</td>\n      <td>1</td>\n      <td>1</td>\n      <td>1</td>\n      <td>1</td>\n      <td>1</td>\n    </tr>\n    <tr>\n      <th>1067</th>\n      <td>60</td>\n      <td>80.000000</td>\n      <td>9760</td>\n      <td>1</td>\n      <td>0</td>\n      <td>0</td>\n      <td>1</td>\n      <td>0</td>\n      <td>6</td>\n      <td>6</td>\n      <td>1964</td>\n      <td>1964</td>\n      <td>HdBoard</td>\n      <td>HdBoard</td>\n      <td>360.0</td>\n      <td>2</td>\n      <td>2</td>\n      <td>CBlock</td>\n      <td>2</td>\n      <td>2</td>\n      <td>0</td>\n      <td>0</td>\n      <td>674</td>\n      <td>4</td>\n      <td>106</td>\n      <td>0</td>\n      <td>780</td>\n      <td>2</td>\n      <td>1</td>\n      <td>798</td>\n      <td>813</td>\n      <td>0</td>\n      <td>1611</td>\n      <td>1</td>\n      <td>0</td>\n      <td>1</td>\n      <td>1</td>\n      <td>4</td>\n      <td>1</td>\n      <td>2</td>\n      <td>7</td>\n      <td>0</td>\n      <td>5</td>\n      <td>1964.0</td>\n      <td>1</td>\n      <td>2</td>\n      <td>442</td>\n      <td>2</td>\n      <td>2</td>\n      <td>0</td>\n      <td>328</td>\n      <td>128</td>\n      <td>0</td>\n      <td>0</td>\n      <td>189</td>\n      <td>0</td>\n      <td>4</td>\n      <td>4</td>\n      <td>0</td>\n      <td>6</td>\n      <td>2008</td>\n      <td>2.5</td>\n      <td>2391</td>\n      <td>645</td>\n      <td>1</td>\n      <td>1</td>\n      <td>1</td>\n      <td>0</td>\n      <td>1</td>\n      <td>0</td>\n      <td>1</td>\n      <td>0</td>\n      <td>1</td>\n      <td>1</td>\n      <td>1</td>\n      <td>1</td>\n      <td>1</td>\n    </tr>\n    <tr>\n      <th>1443</th>\n      <td>30</td>\n      <td>54.583333</td>\n      <td>8854</td>\n      <td>1</td>\n      <td>0</td>\n      <td>0</td>\n      <td>0</td>\n      <td>0</td>\n      <td>6</td>\n      <td>6</td>\n      <td>1916</td>\n      <td>1950</td>\n      <td>Wd Sdng</td>\n      <td>Wd Sdng</td>\n      <td>0.0</td>\n      <td>2</td>\n      <td>2</td>\n      <td>Others</td>\n      <td>2</td>\n      <td>2</td>\n      <td>3</td>\n      <td>5</td>\n      <td>0</td>\n      <td>5</td>\n      <td>0</td>\n      <td>952</td>\n      <td>952</td>\n      <td>3</td>\n      <td>0</td>\n      <td>952</td>\n      <td>0</td>\n      <td>0</td>\n      <td>952</td>\n      <td>0</td>\n      <td>0</td>\n      <td>1</td>\n      <td>0</td>\n      <td>2</td>\n      <td>1</td>\n      <td>3</td>\n      <td>4</td>\n      <td>1</td>\n      <td>1</td>\n      <td>1916.0</td>\n      <td>2</td>\n      <td>1</td>\n      <td>192</td>\n      <td>3</td>\n      <td>4</td>\n      <td>1</td>\n      <td>0</td>\n      <td>98</td>\n      <td>0</td>\n      <td>0</td>\n      <td>40</td>\n      <td>0</td>\n      <td>4</td>\n      <td>4</td>\n      <td>0</td>\n      <td>5</td>\n      <td>2009</td>\n      <td>1.0</td>\n      <td>952</td>\n      <td>138</td>\n      <td>1</td>\n      <td>1</td>\n      <td>1</td>\n      <td>1</td>\n      <td>1</td>\n      <td>0</td>\n      <td>1</td>\n      <td>1</td>\n      <td>0</td>\n      <td>1</td>\n      <td>0</td>\n      <td>1</td>\n      <td>1</td>\n    </tr>\n    <tr>\n      <th>939</th>\n      <td>70</td>\n      <td>87.000000</td>\n      <td>24090</td>\n      <td>1</td>\n      <td>0</td>\n      <td>0</td>\n      <td>0</td>\n      <td>0</td>\n      <td>7</td>\n      <td>7</td>\n      <td>1940</td>\n      <td>1950</td>\n      <td>MetalSd</td>\n      <td>MetalSd</td>\n      <td>0.0</td>\n      <td>2</td>\n      <td>1</td>\n      <td>CBlock</td>\n      <td>2</td>\n      <td>2</td>\n      <td>2</td>\n      <td>5</td>\n      <td>0</td>\n      <td>5</td>\n      <td>0</td>\n      <td>1032</td>\n      <td>1032</td>\n      <td>0</td>\n      <td>1</td>\n      <td>1207</td>\n      <td>1196</td>\n      <td>0</td>\n      <td>2403</td>\n      <td>0</td>\n      <td>0</td>\n      <td>2</td>\n      <td>0</td>\n      <td>4</td>\n      <td>1</td>\n      <td>2</td>\n      <td>10</td>\n      <td>2</td>\n      <td>2</td>\n      <td>1940.0</td>\n      <td>2</td>\n      <td>1</td>\n      <td>349</td>\n      <td>2</td>\n      <td>2</td>\n      <td>0</td>\n      <td>56</td>\n      <td>0</td>\n      <td>318</td>\n      <td>0</td>\n      <td>0</td>\n      <td>0</td>\n      <td>4</td>\n      <td>4</td>\n      <td>0</td>\n      <td>6</td>\n      <td>2010</td>\n      <td>2.0</td>\n      <td>2403</td>\n      <td>374</td>\n      <td>1</td>\n      <td>1</td>\n      <td>1</td>\n      <td>1</td>\n      <td>1</td>\n      <td>0</td>\n      <td>1</td>\n      <td>1</td>\n      <td>1</td>\n      <td>1</td>\n      <td>1</td>\n      <td>0</td>\n      <td>1</td>\n    </tr>\n    <tr>\n      <th>923</th>\n      <td>120</td>\n      <td>50.000000</td>\n      <td>8012</td>\n      <td>1</td>\n      <td>0</td>\n      <td>0</td>\n      <td>0</td>\n      <td>4</td>\n      <td>6</td>\n      <td>5</td>\n      <td>1993</td>\n      <td>1994</td>\n      <td>Others</td>\n      <td>Others</td>\n      <td>0.0</td>\n      <td>1</td>\n      <td>2</td>\n      <td>PConc</td>\n      <td>1</td>\n      <td>2</td>\n      <td>3</td>\n      <td>4</td>\n      <td>165</td>\n      <td>0</td>\n      <td>841</td>\n      <td>598</td>\n      <td>1604</td>\n      <td>0</td>\n      <td>1</td>\n      <td>1617</td>\n      <td>0</td>\n      <td>0</td>\n      <td>1617</td>\n      <td>1</td>\n      <td>0</td>\n      <td>2</td>\n      <td>0</td>\n      <td>2</td>\n      <td>1</td>\n      <td>1</td>\n      <td>5</td>\n      <td>1</td>\n      <td>3</td>\n      <td>1993.0</td>\n      <td>1</td>\n      <td>2</td>\n      <td>533</td>\n      <td>2</td>\n      <td>2</td>\n      <td>0</td>\n      <td>0</td>\n      <td>69</td>\n      <td>0</td>\n      <td>0</td>\n      <td>0</td>\n      <td>0</td>\n      <td>4</td>\n      <td>4</td>\n      <td>0</td>\n      <td>7</td>\n      <td>2008</td>\n      <td>3.0</td>\n      <td>2623</td>\n      <td>69</td>\n      <td>1</td>\n      <td>1</td>\n      <td>1</td>\n      <td>1</td>\n      <td>1</td>\n      <td>1</td>\n      <td>1</td>\n      <td>1</td>\n      <td>1</td>\n      <td>1</td>\n      <td>1</td>\n      <td>1</td>\n      <td>1</td>\n    </tr>\n  </tbody>\n</table>\n</div>"
     },
     "metadata": {},
     "execution_count": 32
    }
   ],
   "source": [
    "X_train.head(5)"
   ]
  },
  {
   "cell_type": "markdown",
   "metadata": {},
   "source": [
    "The first objective is to research the columns that can cause mulcholinearity problem.\n",
    "\n",
    "This columns will be separated to test in the final model."
   ]
  },
  {
   "cell_type": "markdown",
   "metadata": {},
   "source": [
    "# Final transformation"
   ]
  },
  {
   "cell_type": "code",
   "execution_count": 33,
   "metadata": {},
   "outputs": [
    {
     "output_type": "execute_result",
     "data": {
      "text/plain": [
       "Pipeline(pre_process=[TransformImputer(auto_input=True,\n",
       "                                       mapping={'1stFlrSF': <function amin at 0x7f0f8eda2a60>,\n",
       "                                                '2ndFlrSF': <function amin at 0x7f0f8eda2a60>,\n",
       "                                                '3SsnPorch': <function amin at 0x7f0f8eda2a60>,\n",
       "                                                'BedroomAbvGr': <function amin at 0x7f0f8eda2a60>,\n",
       "                                                'BsmtFinSF1': <function amin at 0x7f0f8eda2a60>,\n",
       "                                                'BsmtFinSF2': <function amin at 0x7f0f8eda2a60>,\n",
       "                                                'BsmtFullBath': <function a...\n",
       "                      TransformColumn(mapping={'TotalBath': 'X[\"BsmtFullBath\"] '\n",
       "                                                            '+ '\n",
       "                                                            '0.5*X[\"BsmtHalfBath\"] '\n",
       "                                                            '+ X[\"FullBath\"] + '\n",
       "                                                            '0.5*X[\"HalfBath\"]',\n",
       "                                               'TotalPorch': 'X[\"OpenPorchSF\"] '\n",
       "                                                             '+ X[\"3SsnPorch\"] '\n",
       "                                                             '+ '\n",
       "                                                             'X[\"EnclosedPorch\"] '\n",
       "                                                             '+ '\n",
       "                                                             'X[\"ScreenPorch\"] '\n",
       "                                                             '+ '\n",
       "                                                             'X[\"WoodDeckSF\"]',\n",
       "                                               'TotalSqrFootage': 'X[\"BsmtFinSF1\"] '\n",
       "                                                                  '+ '\n",
       "                                                                  'X[\"BsmtFinSF2\"] '\n",
       "                                                                  '+ '\n",
       "                                                                  'X[\"1stFlrSF\"] '\n",
       "                                                                  '+ '\n",
       "                                                                  'X[\"2ndFlrSF\"]'}),\n",
       "                      TransformBinary(drop=None, threshold_max=None,\n",
       "                                      threshold_min=None)])"
      ]
     },
     "metadata": {},
     "execution_count": 33
    }
   ],
   "source": [
    "pipe = Pipeline(preproc)\n",
    "pipe"
   ]
  },
  {
   "cell_type": "code",
   "execution_count": 34,
   "metadata": {},
   "outputs": [
    {
     "output_type": "stream",
     "name": "stdout",
     "text": [
      "239 ms ± 20 ms per loop (mean ± std. dev. of 7 runs, 1 loop each)\n"
     ]
    }
   ],
   "source": [
    "%%timeit\n",
    "test_ = pipe.transform(X_test)"
   ]
  },
  {
   "cell_type": "code",
   "execution_count": 35,
   "metadata": {},
   "outputs": [
    {
     "output_type": "execute_result",
     "data": {
      "text/plain": [
       "      MSSubClass  LotFrontage  LotArea  Street  LotShape  Utilities  \\\n",
       "338           20    91.000000    14145       1         0          0   \n",
       "1067          60    80.000000     9760       1         0          0   \n",
       "1443          30    54.583333     8854       1         0          0   \n",
       "939           70    87.000000    24090       1         0          0   \n",
       "923          120    50.000000     8012       1         0          0   \n",
       "\n",
       "      LandSlope  BldgType  OverallQual  OverallCond  YearBuilt  YearRemodAdd  \\\n",
       "338           0         0            7            7       1984          1998   \n",
       "1067          1         0            6            6       1964          1964   \n",
       "1443          0         0            6            6       1916          1950   \n",
       "939           0         0            7            7       1940          1950   \n",
       "923           0         4            6            5       1993          1994   \n",
       "\n",
       "      MasVnrArea  ExterQual  ExterCond  BsmtQual  BsmtCond  BsmtExposure  \\\n",
       "338          0.0          1          2         1         2             2   \n",
       "1067       360.0          2          2         2         2             0   \n",
       "1443         0.0          2          2         2         2             3   \n",
       "939          0.0          2          1         2         2             2   \n",
       "923          0.0          1          2         1         2             3   \n",
       "\n",
       "      BsmtFinType1  BsmtFinSF1  BsmtFinType2  BsmtFinSF2  BsmtUnfSF  \\\n",
       "338              1         213             5           0        995   \n",
       "1067             0         674             4         106          0   \n",
       "1443             5           0             5           0        952   \n",
       "939              5           0             5           0       1032   \n",
       "923              4         165             0         841        598   \n",
       "\n",
       "      TotalBsmtSF  HeatingQC  CentralAir  1stFlrSF  2ndFlrSF  LowQualFinSF  \\\n",
       "338          1208          0           1      1621         0             0   \n",
       "1067          780          2           1       798       813             0   \n",
       "1443          952          3           0       952         0             0   \n",
       "939          1032          0           1      1207      1196             0   \n",
       "923          1604          0           1      1617         0             0   \n",
       "\n",
       "      GrLivArea  BsmtFullBath  BsmtHalfBath  FullBath  HalfBath  BedroomAbvGr  \\\n",
       "338        1621             1             0         2         0             3   \n",
       "1067       1611             1             0         1         1             4   \n",
       "1443        952             0             0         1         0             2   \n",
       "939        2403             0             0         2         0             4   \n",
       "923        1617             1             0         2         0             2   \n",
       "\n",
       "      KitchenAbvGr  KitchenQual  TotRmsAbvGrd  Fireplaces  FireplaceQu  \\\n",
       "338              1            1             8           0            5   \n",
       "1067             1            2             7           0            5   \n",
       "1443             1            3             4           1            1   \n",
       "939              1            2            10           2            2   \n",
       "923              1            1             5           1            3   \n",
       "\n",
       "      GarageYrBlt  GarageFinish  GarageCars  GarageArea  GarageQual  \\\n",
       "338        1984.0             1           2         440           2   \n",
       "1067       1964.0             1           2         442           2   \n",
       "1443       1916.0             2           1         192           3   \n",
       "939        1940.0             2           1         349           2   \n",
       "923        1993.0             1           2         533           2   \n",
       "\n",
       "      GarageCond  PavedDrive  WoodDeckSF  OpenPorchSF  EnclosedPorch  \\\n",
       "338            2           0         108           45              0   \n",
       "1067           2           0         328          128              0   \n",
       "1443           4           1           0           98              0   \n",
       "939            2           0          56            0            318   \n",
       "923            2           0           0           69              0   \n",
       "\n",
       "      3SsnPorch  ScreenPorch  PoolArea  PoolQC  Fence  MiscVal  MoSold  \\\n",
       "338           0            0         0       4      4      400       5   \n",
       "1067          0          189         0       4      4        0       6   \n",
       "1443          0           40         0       4      4        0       5   \n",
       "939           0            0         0       4      4        0       6   \n",
       "923           0            0         0       4      4        0       7   \n",
       "\n",
       "      YrSold  TotalBath  TotalSqrFootage  TotalPorch  bin_MSZoning_RL  \\\n",
       "338     2006        3.0             1834         153                1   \n",
       "1067    2008        2.5             2391         645                1   \n",
       "1443    2009        1.0              952         138                1   \n",
       "939     2010        2.0             2403         374                1   \n",
       "923     2008        3.0             2623          69                1   \n",
       "\n",
       "      bin_LandContour_Lvl  bin_LotConfig_Inside  bin_Neighborhood_Others  \\\n",
       "338                     1                     0                        1   \n",
       "1067                    1                     1                        0   \n",
       "1443                    1                     1                        1   \n",
       "939                     1                     1                        1   \n",
       "923                     1                     1                        1   \n",
       "\n",
       "      bin_Condition1_Norm  bin_HouseStyle_1Story  bin_RoofStyle_Gable  \\\n",
       "338                     1                      1                    1   \n",
       "1067                    1                      0                    1   \n",
       "1443                    1                      0                    1   \n",
       "939                     1                      0                    1   \n",
       "923                     1                      1                    1   \n",
       "\n",
       "      bin_MasVnrType_None  bin_Electrical_SBrkr  bin_Functional_Typ  \\\n",
       "338                     1                     1                   1   \n",
       "1067                    0                     1                   1   \n",
       "1443                    1                     0                   1   \n",
       "939                     1                     1                   1   \n",
       "923                     1                     1                   1   \n",
       "\n",
       "      bin_GarageType_Attchd  bin_SaleType_WD  bin_SaleCondition_Normal  \\\n",
       "338                       1                1                         1   \n",
       "1067                      1                1                         1   \n",
       "1443                      0                1                         1   \n",
       "939                       1                0                         1   \n",
       "923                       1                1                         1   \n",
       "\n",
       "      Exterior1st_HdBoard  Exterior1st_MetalSd  Exterior1st_Others  \\\n",
       "338                     0                    0                   0   \n",
       "1067                    1                    0                   0   \n",
       "1443                    0                    0                   0   \n",
       "939                     0                    1                   0   \n",
       "923                     0                    0                   1   \n",
       "\n",
       "      Exterior1st_VinylSd  Exterior1st_Wd Sdng  Exterior2nd_HdBoard  \\\n",
       "338                     0                    1                    0   \n",
       "1067                    0                    0                    1   \n",
       "1443                    0                    1                    0   \n",
       "939                     0                    0                    0   \n",
       "923                     0                    0                    0   \n",
       "\n",
       "      Exterior2nd_MetalSd  Exterior2nd_Others  Exterior2nd_VinylSd  \\\n",
       "338                     0                   0                    0   \n",
       "1067                    0                   0                    0   \n",
       "1443                    0                   0                    0   \n",
       "939                     1                   0                    0   \n",
       "923                     0                   1                    0   \n",
       "\n",
       "      Exterior2nd_Wd Sdng  Foundation_CBlock  Foundation_Others  \\\n",
       "338                     1                  1                  0   \n",
       "1067                    0                  1                  0   \n",
       "1443                    1                  0                  1   \n",
       "939                     0                  1                  0   \n",
       "923                     0                  0                  0   \n",
       "\n",
       "      Foundation_PConc  \n",
       "338                  0  \n",
       "1067                 0  \n",
       "1443                 0  \n",
       "939                  0  \n",
       "923                  1  "
      ],
      "text/html": "<div>\n<style scoped>\n    .dataframe tbody tr th:only-of-type {\n        vertical-align: middle;\n    }\n\n    .dataframe tbody tr th {\n        vertical-align: top;\n    }\n\n    .dataframe thead th {\n        text-align: right;\n    }\n</style>\n<table border=\"1\" class=\"dataframe\">\n  <thead>\n    <tr style=\"text-align: right;\">\n      <th></th>\n      <th>MSSubClass</th>\n      <th>LotFrontage</th>\n      <th>LotArea</th>\n      <th>Street</th>\n      <th>LotShape</th>\n      <th>Utilities</th>\n      <th>LandSlope</th>\n      <th>BldgType</th>\n      <th>OverallQual</th>\n      <th>OverallCond</th>\n      <th>YearBuilt</th>\n      <th>YearRemodAdd</th>\n      <th>MasVnrArea</th>\n      <th>ExterQual</th>\n      <th>ExterCond</th>\n      <th>BsmtQual</th>\n      <th>BsmtCond</th>\n      <th>BsmtExposure</th>\n      <th>BsmtFinType1</th>\n      <th>BsmtFinSF1</th>\n      <th>BsmtFinType2</th>\n      <th>BsmtFinSF2</th>\n      <th>BsmtUnfSF</th>\n      <th>TotalBsmtSF</th>\n      <th>HeatingQC</th>\n      <th>CentralAir</th>\n      <th>1stFlrSF</th>\n      <th>2ndFlrSF</th>\n      <th>LowQualFinSF</th>\n      <th>GrLivArea</th>\n      <th>BsmtFullBath</th>\n      <th>BsmtHalfBath</th>\n      <th>FullBath</th>\n      <th>HalfBath</th>\n      <th>BedroomAbvGr</th>\n      <th>KitchenAbvGr</th>\n      <th>KitchenQual</th>\n      <th>TotRmsAbvGrd</th>\n      <th>Fireplaces</th>\n      <th>FireplaceQu</th>\n      <th>GarageYrBlt</th>\n      <th>GarageFinish</th>\n      <th>GarageCars</th>\n      <th>GarageArea</th>\n      <th>GarageQual</th>\n      <th>GarageCond</th>\n      <th>PavedDrive</th>\n      <th>WoodDeckSF</th>\n      <th>OpenPorchSF</th>\n      <th>EnclosedPorch</th>\n      <th>3SsnPorch</th>\n      <th>ScreenPorch</th>\n      <th>PoolArea</th>\n      <th>PoolQC</th>\n      <th>Fence</th>\n      <th>MiscVal</th>\n      <th>MoSold</th>\n      <th>YrSold</th>\n      <th>TotalBath</th>\n      <th>TotalSqrFootage</th>\n      <th>TotalPorch</th>\n      <th>bin_MSZoning_RL</th>\n      <th>bin_LandContour_Lvl</th>\n      <th>bin_LotConfig_Inside</th>\n      <th>bin_Neighborhood_Others</th>\n      <th>bin_Condition1_Norm</th>\n      <th>bin_HouseStyle_1Story</th>\n      <th>bin_RoofStyle_Gable</th>\n      <th>bin_MasVnrType_None</th>\n      <th>bin_Electrical_SBrkr</th>\n      <th>bin_Functional_Typ</th>\n      <th>bin_GarageType_Attchd</th>\n      <th>bin_SaleType_WD</th>\n      <th>bin_SaleCondition_Normal</th>\n      <th>Exterior1st_HdBoard</th>\n      <th>Exterior1st_MetalSd</th>\n      <th>Exterior1st_Others</th>\n      <th>Exterior1st_VinylSd</th>\n      <th>Exterior1st_Wd Sdng</th>\n      <th>Exterior2nd_HdBoard</th>\n      <th>Exterior2nd_MetalSd</th>\n      <th>Exterior2nd_Others</th>\n      <th>Exterior2nd_VinylSd</th>\n      <th>Exterior2nd_Wd Sdng</th>\n      <th>Foundation_CBlock</th>\n      <th>Foundation_Others</th>\n      <th>Foundation_PConc</th>\n    </tr>\n  </thead>\n  <tbody>\n    <tr>\n      <th>338</th>\n      <td>20</td>\n      <td>91.000000</td>\n      <td>14145</td>\n      <td>1</td>\n      <td>0</td>\n      <td>0</td>\n      <td>0</td>\n      <td>0</td>\n      <td>7</td>\n      <td>7</td>\n      <td>1984</td>\n      <td>1998</td>\n      <td>0.0</td>\n      <td>1</td>\n      <td>2</td>\n      <td>1</td>\n      <td>2</td>\n      <td>2</td>\n      <td>1</td>\n      <td>213</td>\n      <td>5</td>\n      <td>0</td>\n      <td>995</td>\n      <td>1208</td>\n      <td>0</td>\n      <td>1</td>\n      <td>1621</td>\n      <td>0</td>\n      <td>0</td>\n      <td>1621</td>\n      <td>1</td>\n      <td>0</td>\n      <td>2</td>\n      <td>0</td>\n      <td>3</td>\n      <td>1</td>\n      <td>1</td>\n      <td>8</td>\n      <td>0</td>\n      <td>5</td>\n      <td>1984.0</td>\n      <td>1</td>\n      <td>2</td>\n      <td>440</td>\n      <td>2</td>\n      <td>2</td>\n      <td>0</td>\n      <td>108</td>\n      <td>45</td>\n      <td>0</td>\n      <td>0</td>\n      <td>0</td>\n      <td>0</td>\n      <td>4</td>\n      <td>4</td>\n      <td>400</td>\n      <td>5</td>\n      <td>2006</td>\n      <td>3.0</td>\n      <td>1834</td>\n      <td>153</td>\n      <td>1</td>\n      <td>1</td>\n      <td>0</td>\n      <td>1</td>\n      <td>1</td>\n      <td>1</td>\n      <td>1</td>\n      <td>1</td>\n      <td>1</td>\n      <td>1</td>\n      <td>1</td>\n      <td>1</td>\n      <td>1</td>\n      <td>0</td>\n      <td>0</td>\n      <td>0</td>\n      <td>0</td>\n      <td>1</td>\n      <td>0</td>\n      <td>0</td>\n      <td>0</td>\n      <td>0</td>\n      <td>1</td>\n      <td>1</td>\n      <td>0</td>\n      <td>0</td>\n    </tr>\n    <tr>\n      <th>1067</th>\n      <td>60</td>\n      <td>80.000000</td>\n      <td>9760</td>\n      <td>1</td>\n      <td>0</td>\n      <td>0</td>\n      <td>1</td>\n      <td>0</td>\n      <td>6</td>\n      <td>6</td>\n      <td>1964</td>\n      <td>1964</td>\n      <td>360.0</td>\n      <td>2</td>\n      <td>2</td>\n      <td>2</td>\n      <td>2</td>\n      <td>0</td>\n      <td>0</td>\n      <td>674</td>\n      <td>4</td>\n      <td>106</td>\n      <td>0</td>\n      <td>780</td>\n      <td>2</td>\n      <td>1</td>\n      <td>798</td>\n      <td>813</td>\n      <td>0</td>\n      <td>1611</td>\n      <td>1</td>\n      <td>0</td>\n      <td>1</td>\n      <td>1</td>\n      <td>4</td>\n      <td>1</td>\n      <td>2</td>\n      <td>7</td>\n      <td>0</td>\n      <td>5</td>\n      <td>1964.0</td>\n      <td>1</td>\n      <td>2</td>\n      <td>442</td>\n      <td>2</td>\n      <td>2</td>\n      <td>0</td>\n      <td>328</td>\n      <td>128</td>\n      <td>0</td>\n      <td>0</td>\n      <td>189</td>\n      <td>0</td>\n      <td>4</td>\n      <td>4</td>\n      <td>0</td>\n      <td>6</td>\n      <td>2008</td>\n      <td>2.5</td>\n      <td>2391</td>\n      <td>645</td>\n      <td>1</td>\n      <td>1</td>\n      <td>1</td>\n      <td>0</td>\n      <td>1</td>\n      <td>0</td>\n      <td>1</td>\n      <td>0</td>\n      <td>1</td>\n      <td>1</td>\n      <td>1</td>\n      <td>1</td>\n      <td>1</td>\n      <td>1</td>\n      <td>0</td>\n      <td>0</td>\n      <td>0</td>\n      <td>0</td>\n      <td>1</td>\n      <td>0</td>\n      <td>0</td>\n      <td>0</td>\n      <td>0</td>\n      <td>1</td>\n      <td>0</td>\n      <td>0</td>\n    </tr>\n    <tr>\n      <th>1443</th>\n      <td>30</td>\n      <td>54.583333</td>\n      <td>8854</td>\n      <td>1</td>\n      <td>0</td>\n      <td>0</td>\n      <td>0</td>\n      <td>0</td>\n      <td>6</td>\n      <td>6</td>\n      <td>1916</td>\n      <td>1950</td>\n      <td>0.0</td>\n      <td>2</td>\n      <td>2</td>\n      <td>2</td>\n      <td>2</td>\n      <td>3</td>\n      <td>5</td>\n      <td>0</td>\n      <td>5</td>\n      <td>0</td>\n      <td>952</td>\n      <td>952</td>\n      <td>3</td>\n      <td>0</td>\n      <td>952</td>\n      <td>0</td>\n      <td>0</td>\n      <td>952</td>\n      <td>0</td>\n      <td>0</td>\n      <td>1</td>\n      <td>0</td>\n      <td>2</td>\n      <td>1</td>\n      <td>3</td>\n      <td>4</td>\n      <td>1</td>\n      <td>1</td>\n      <td>1916.0</td>\n      <td>2</td>\n      <td>1</td>\n      <td>192</td>\n      <td>3</td>\n      <td>4</td>\n      <td>1</td>\n      <td>0</td>\n      <td>98</td>\n      <td>0</td>\n      <td>0</td>\n      <td>40</td>\n      <td>0</td>\n      <td>4</td>\n      <td>4</td>\n      <td>0</td>\n      <td>5</td>\n      <td>2009</td>\n      <td>1.0</td>\n      <td>952</td>\n      <td>138</td>\n      <td>1</td>\n      <td>1</td>\n      <td>1</td>\n      <td>1</td>\n      <td>1</td>\n      <td>0</td>\n      <td>1</td>\n      <td>1</td>\n      <td>0</td>\n      <td>1</td>\n      <td>0</td>\n      <td>1</td>\n      <td>1</td>\n      <td>0</td>\n      <td>0</td>\n      <td>0</td>\n      <td>0</td>\n      <td>1</td>\n      <td>0</td>\n      <td>0</td>\n      <td>0</td>\n      <td>0</td>\n      <td>1</td>\n      <td>0</td>\n      <td>1</td>\n      <td>0</td>\n    </tr>\n    <tr>\n      <th>939</th>\n      <td>70</td>\n      <td>87.000000</td>\n      <td>24090</td>\n      <td>1</td>\n      <td>0</td>\n      <td>0</td>\n      <td>0</td>\n      <td>0</td>\n      <td>7</td>\n      <td>7</td>\n      <td>1940</td>\n      <td>1950</td>\n      <td>0.0</td>\n      <td>2</td>\n      <td>1</td>\n      <td>2</td>\n      <td>2</td>\n      <td>2</td>\n      <td>5</td>\n      <td>0</td>\n      <td>5</td>\n      <td>0</td>\n      <td>1032</td>\n      <td>1032</td>\n      <td>0</td>\n      <td>1</td>\n      <td>1207</td>\n      <td>1196</td>\n      <td>0</td>\n      <td>2403</td>\n      <td>0</td>\n      <td>0</td>\n      <td>2</td>\n      <td>0</td>\n      <td>4</td>\n      <td>1</td>\n      <td>2</td>\n      <td>10</td>\n      <td>2</td>\n      <td>2</td>\n      <td>1940.0</td>\n      <td>2</td>\n      <td>1</td>\n      <td>349</td>\n      <td>2</td>\n      <td>2</td>\n      <td>0</td>\n      <td>56</td>\n      <td>0</td>\n      <td>318</td>\n      <td>0</td>\n      <td>0</td>\n      <td>0</td>\n      <td>4</td>\n      <td>4</td>\n      <td>0</td>\n      <td>6</td>\n      <td>2010</td>\n      <td>2.0</td>\n      <td>2403</td>\n      <td>374</td>\n      <td>1</td>\n      <td>1</td>\n      <td>1</td>\n      <td>1</td>\n      <td>1</td>\n      <td>0</td>\n      <td>1</td>\n      <td>1</td>\n      <td>1</td>\n      <td>1</td>\n      <td>1</td>\n      <td>0</td>\n      <td>1</td>\n      <td>0</td>\n      <td>1</td>\n      <td>0</td>\n      <td>0</td>\n      <td>0</td>\n      <td>0</td>\n      <td>1</td>\n      <td>0</td>\n      <td>0</td>\n      <td>0</td>\n      <td>1</td>\n      <td>0</td>\n      <td>0</td>\n    </tr>\n    <tr>\n      <th>923</th>\n      <td>120</td>\n      <td>50.000000</td>\n      <td>8012</td>\n      <td>1</td>\n      <td>0</td>\n      <td>0</td>\n      <td>0</td>\n      <td>4</td>\n      <td>6</td>\n      <td>5</td>\n      <td>1993</td>\n      <td>1994</td>\n      <td>0.0</td>\n      <td>1</td>\n      <td>2</td>\n      <td>1</td>\n      <td>2</td>\n      <td>3</td>\n      <td>4</td>\n      <td>165</td>\n      <td>0</td>\n      <td>841</td>\n      <td>598</td>\n      <td>1604</td>\n      <td>0</td>\n      <td>1</td>\n      <td>1617</td>\n      <td>0</td>\n      <td>0</td>\n      <td>1617</td>\n      <td>1</td>\n      <td>0</td>\n      <td>2</td>\n      <td>0</td>\n      <td>2</td>\n      <td>1</td>\n      <td>1</td>\n      <td>5</td>\n      <td>1</td>\n      <td>3</td>\n      <td>1993.0</td>\n      <td>1</td>\n      <td>2</td>\n      <td>533</td>\n      <td>2</td>\n      <td>2</td>\n      <td>0</td>\n      <td>0</td>\n      <td>69</td>\n      <td>0</td>\n      <td>0</td>\n      <td>0</td>\n      <td>0</td>\n      <td>4</td>\n      <td>4</td>\n      <td>0</td>\n      <td>7</td>\n      <td>2008</td>\n      <td>3.0</td>\n      <td>2623</td>\n      <td>69</td>\n      <td>1</td>\n      <td>1</td>\n      <td>1</td>\n      <td>1</td>\n      <td>1</td>\n      <td>1</td>\n      <td>1</td>\n      <td>1</td>\n      <td>1</td>\n      <td>1</td>\n      <td>1</td>\n      <td>1</td>\n      <td>1</td>\n      <td>0</td>\n      <td>0</td>\n      <td>1</td>\n      <td>0</td>\n      <td>0</td>\n      <td>0</td>\n      <td>0</td>\n      <td>1</td>\n      <td>0</td>\n      <td>0</td>\n      <td>0</td>\n      <td>0</td>\n      <td>1</td>\n    </tr>\n  </tbody>\n</table>\n</div>"
     },
     "metadata": {},
     "execution_count": 35
    }
   ],
   "source": [
    "X_train = pd.get_dummies(X_train)\n",
    "X_train.head(5)"
   ]
  },
  {
   "cell_type": "code",
   "execution_count": 36,
   "metadata": {},
   "outputs": [
    {
     "output_type": "execute_result",
     "data": {
      "text/plain": [
       "Pipeline(pre_process=[TransformImputer(auto_input=True,\n",
       "                                       mapping={'1stFlrSF': <function amin at 0x7f0f8eda2a60>,\n",
       "                                                '2ndFlrSF': <function amin at 0x7f0f8eda2a60>,\n",
       "                                                '3SsnPorch': <function amin at 0x7f0f8eda2a60>,\n",
       "                                                'BedroomAbvGr': <function amin at 0x7f0f8eda2a60>,\n",
       "                                                'BsmtFinSF1': <function amin at 0x7f0f8eda2a60>,\n",
       "                                                'BsmtFinSF2': <function amin at 0x7f0f8eda2a60>,\n",
       "                                                'BsmtFullBath': <function a...\n",
       "                                                            '0.5*X[\"BsmtHalfBath\"] '\n",
       "                                                            '+ X[\"FullBath\"] + '\n",
       "                                                            '0.5*X[\"HalfBath\"]',\n",
       "                                               'TotalPorch': 'X[\"OpenPorchSF\"] '\n",
       "                                                             '+ X[\"3SsnPorch\"] '\n",
       "                                                             '+ '\n",
       "                                                             'X[\"EnclosedPorch\"] '\n",
       "                                                             '+ '\n",
       "                                                             'X[\"ScreenPorch\"] '\n",
       "                                                             '+ '\n",
       "                                                             'X[\"WoodDeckSF\"]',\n",
       "                                               'TotalSqrFootage': 'X[\"BsmtFinSF1\"] '\n",
       "                                                                  '+ '\n",
       "                                                                  'X[\"BsmtFinSF2\"] '\n",
       "                                                                  '+ '\n",
       "                                                                  'X[\"1stFlrSF\"] '\n",
       "                                                                  '+ '\n",
       "                                                                  'X[\"2ndFlrSF\"]'}),\n",
       "                      TransformBinary(drop=None, threshold_max=None,\n",
       "                                      threshold_min=None),\n",
       "                      <function get_dummies at 0x7f0f7eb65ca0>])"
      ]
     },
     "metadata": {},
     "execution_count": 36
    }
   ],
   "source": [
    "pipe.append(pd.get_dummies)"
   ]
  },
  {
   "cell_type": "markdown",
   "metadata": {},
   "source": [
    "# Model"
   ]
  },
  {
   "cell_type": "code",
   "execution_count": 37,
   "metadata": {},
   "outputs": [],
   "source": [
    "import xgboost as xgb\n",
    "from sklearn.metrics import mean_squared_error"
   ]
  },
  {
   "cell_type": "code",
   "execution_count": 38,
   "metadata": {},
   "outputs": [],
   "source": [
    "def rmse(y_true, y_pred):       \n",
    "    return np.sqrt(mean_squared_error(y_true, y_pred))"
   ]
  },
  {
   "cell_type": "code",
   "execution_count": 39,
   "metadata": {},
   "outputs": [],
   "source": [
    "xg = xgb.XGBRegressor(objective='reg:squarederror')"
   ]
  },
  {
   "cell_type": "code",
   "execution_count": 40,
   "metadata": {
    "scrolled": true
   },
   "outputs": [
    {
     "output_type": "execute_result",
     "data": {
      "text/plain": [
       "XGBRegressor(base_score=0.5, booster='gbtree', colsample_bylevel=1,\n",
       "             colsample_bynode=1, colsample_bytree=1, gamma=0, gpu_id=-1,\n",
       "             importance_type='gain', interaction_constraints='',\n",
       "             learning_rate=0.300000012, max_delta_step=0, max_depth=6,\n",
       "             min_child_weight=1, missing=nan, monotone_constraints='()',\n",
       "             n_estimators=100, n_jobs=0, num_parallel_tree=1, random_state=0,\n",
       "             reg_alpha=0, reg_lambda=1, scale_pos_weight=1, subsample=1,\n",
       "             tree_method='exact', validate_parameters=1, verbosity=None)"
      ]
     },
     "metadata": {},
     "execution_count": 40
    }
   ],
   "source": [
    "xg.fit(X_train, y_train)"
   ]
  },
  {
   "cell_type": "code",
   "execution_count": 41,
   "metadata": {},
   "outputs": [
    {
     "output_type": "execute_result",
     "data": {
      "text/plain": [
       "947.7288637444095"
      ]
     },
     "metadata": {},
     "execution_count": 41
    }
   ],
   "source": [
    "rmse(np.expm1(xg.predict(X_train)), np.expm1(y_train))"
   ]
  },
  {
   "cell_type": "code",
   "execution_count": 42,
   "metadata": {},
   "outputs": [
    {
     "output_type": "execute_result",
     "data": {
      "text/plain": [
       "Pipeline(model=XGBRegressor(base_score=0.5, booster='gbtree',\n",
       "                            colsample_bylevel=1, colsample_bynode=1,\n",
       "                            colsample_bytree=1, gamma=0, gpu_id=-1,\n",
       "                            importance_type='gain', interaction_constraints='',\n",
       "                            learning_rate=0.300000012, max_delta_step=0,\n",
       "                            max_depth=6, min_child_weight=1, missing=nan,\n",
       "                            monotone_constraints='()', n_estimators=100,\n",
       "                            n_jobs=0, num_parallel_tree=1, random...\n",
       "                                                            '0.5*X[\"BsmtHalfBath\"] '\n",
       "                                                            '+ X[\"FullBath\"] + '\n",
       "                                                            '0.5*X[\"HalfBath\"]',\n",
       "                                               'TotalPorch': 'X[\"OpenPorchSF\"] '\n",
       "                                                             '+ X[\"3SsnPorch\"] '\n",
       "                                                             '+ '\n",
       "                                                             'X[\"EnclosedPorch\"] '\n",
       "                                                             '+ '\n",
       "                                                             'X[\"ScreenPorch\"] '\n",
       "                                                             '+ '\n",
       "                                                             'X[\"WoodDeckSF\"]',\n",
       "                                               'TotalSqrFootage': 'X[\"BsmtFinSF1\"] '\n",
       "                                                                  '+ '\n",
       "                                                                  'X[\"BsmtFinSF2\"] '\n",
       "                                                                  '+ '\n",
       "                                                                  'X[\"1stFlrSF\"] '\n",
       "                                                                  '+ '\n",
       "                                                                  'X[\"2ndFlrSF\"]'}),\n",
       "                      TransformBinary(drop=None, threshold_max=None,\n",
       "                                      threshold_min=None),\n",
       "                      <function get_dummies at 0x7f0f7eb65ca0>])"
      ]
     },
     "metadata": {},
     "execution_count": 42
    }
   ],
   "source": [
    "pipe.append(xg, \"model\").append(np.expm1, \"pos_process\")"
   ]
  },
  {
   "cell_type": "code",
   "execution_count": 43,
   "metadata": {},
   "outputs": [],
   "source": [
    "pipe.save(\"pipeline.pkl\")"
   ]
  },
  {
   "cell_type": "code",
   "execution_count": 44,
   "metadata": {},
   "outputs": [],
   "source": [
    "X_test_t, y_pred = pipe(X_test)"
   ]
  },
  {
   "cell_type": "code",
   "execution_count": 45,
   "metadata": {
    "scrolled": true
   },
   "outputs": [
    {
     "output_type": "execute_result",
     "data": {
      "text/plain": [
       "24488.442973880658"
      ]
     },
     "metadata": {},
     "execution_count": 45
    }
   ],
   "source": [
    "rmse(y_pred, y_test)"
   ]
  },
  {
   "cell_type": "code",
   "execution_count": 46,
   "metadata": {},
   "outputs": [
    {
     "output_type": "execute_result",
     "data": {
      "text/plain": [
       "      MSSubClass  LotFrontage  LotArea  Street  LotShape  Utilities  \\\n",
       "873           40    60.000000    12144       1         0          0   \n",
       "719           20    69.000000     9920       1         1          0   \n",
       "1409          60    46.000000    20544       1         1          0   \n",
       "518           60    71.861111     9531       1         1          0   \n",
       "867           20    85.000000     6970       1         0          0   \n",
       "\n",
       "      LandSlope  BldgType  OverallQual  OverallCond  YearBuilt  YearRemodAdd  \\\n",
       "873           0         0            5            7       1949          1950   \n",
       "719           0         0            5            6       1969          1969   \n",
       "1409          0         0            7            6       1986          1991   \n",
       "518           0         0            6            5       1998          1998   \n",
       "867           0         0            4            5       1961          1961   \n",
       "\n",
       "      MasVnrArea  ExterQual  ExterCond  BsmtQual  BsmtCond  BsmtExposure  \\\n",
       "873          0.0          1          2         2         2             3   \n",
       "719          0.0          2          2         1         2             0   \n",
       "1409       123.0          2          1         1         2             3   \n",
       "518          0.0          2          2         1         2             2   \n",
       "867          0.0          2          2         2         2             3   \n",
       "\n",
       "      BsmtFinType1  BsmtFinSF1  BsmtFinType2  BsmtFinSF2  BsmtUnfSF  \\\n",
       "873              3         375             5           0        457   \n",
       "719              1         523             5           0        448   \n",
       "1409             5           0             5           0        791   \n",
       "518              0         706             5           0         88   \n",
       "867              1         932             5           0        108   \n",
       "\n",
       "      TotalBsmtSF  HeatingQC  CentralAir  1stFlrSF  2ndFlrSF  LowQualFinSF  \\\n",
       "873           832          1           1      1036         0           232   \n",
       "719           971          2           1       971         0             0   \n",
       "1409          791          1           1      1236       857             0   \n",
       "518           794          0           1       882       914             0   \n",
       "867          1040          2           1      1120         0             0   \n",
       "\n",
       "      GrLivArea  BsmtFullBath  BsmtHalfBath  FullBath  HalfBath  BedroomAbvGr  \\\n",
       "873        1268             0             0         1         0             3   \n",
       "719         971             0             0         1         1             3   \n",
       "1409       2093             0             0         2         1             3   \n",
       "518        1796             1             0         2         1             3   \n",
       "867        1120             1             0         1         1             3   \n",
       "\n",
       "      KitchenAbvGr  KitchenQual  TotRmsAbvGrd  Fireplaces  FireplaceQu  \\\n",
       "873              1            2             6           1            1   \n",
       "719              1            2             5           1            4   \n",
       "1409             1            2             7           1            2   \n",
       "518              1            2             7           0            5   \n",
       "867              1            3             5           0            5   \n",
       "\n",
       "      GarageYrBlt  GarageFinish  GarageCars  GarageArea  GarageQual  \\\n",
       "873        1949.0             2           1         288           2   \n",
       "719        1969.0             2           1         300           2   \n",
       "1409       1986.0             0           2         542           2   \n",
       "518        1998.0             1           2         546           2   \n",
       "867        1961.0             1           2         544           2   \n",
       "\n",
       "      GarageCond  PavedDrive  WoodDeckSF  OpenPorchSF  EnclosedPorch  \\\n",
       "873            2           0           0           28              0   \n",
       "719            2           0           0            0              0   \n",
       "1409           2           0         364           63              0   \n",
       "518            2           0           0           36              0   \n",
       "867            2           0         168            0              0   \n",
       "\n",
       "      3SsnPorch  ScreenPorch  PoolArea  PoolQC  Fence  MiscVal  MoSold  \\\n",
       "873           0            0         0       4      4        0       9   \n",
       "719           0            0         0       4      4        0       5   \n",
       "1409          0            0         0       4      1        0      11   \n",
       "518           0            0         0       4      1        0       5   \n",
       "867           0            0         0       4      4      400       5   \n",
       "\n",
       "      YrSold  TotalBath  TotalSqrFootage  TotalPorch  bin_MSZoning_RL  \\\n",
       "873     2009        1.0             1411          28                1   \n",
       "719     2006        1.5             1494           0                1   \n",
       "1409    2008        2.5             2093         427                1   \n",
       "518     2007        3.5             2502          36                1   \n",
       "867     2007        2.5             2052         168                1   \n",
       "\n",
       "      bin_LandContour_Lvl  bin_LotConfig_Inside  bin_Neighborhood_Others  \\\n",
       "873                     1                     1                        0   \n",
       "719                     1                     1                        1   \n",
       "1409                    1                     0                        1   \n",
       "518                     1                     0                        1   \n",
       "867                     1                     0                        1   \n",
       "\n",
       "      bin_Condition1_Norm  bin_HouseStyle_1Story  bin_RoofStyle_Gable  \\\n",
       "873                     1                      1                    1   \n",
       "719                     1                      1                    1   \n",
       "1409                    1                      0                    1   \n",
       "518                     1                      0                    1   \n",
       "867                     0                      1                    1   \n",
       "\n",
       "      bin_MasVnrType_None  bin_Electrical_SBrkr  bin_Functional_Typ  \\\n",
       "873                     1                     1                   1   \n",
       "719                     1                     1                   1   \n",
       "1409                    0                     1                   1   \n",
       "518                     1                     1                   1   \n",
       "867                     1                     1                   1   \n",
       "\n",
       "      bin_GarageType_Attchd  bin_SaleType_WD  bin_SaleCondition_Normal  \\\n",
       "873                       1                1                         1   \n",
       "719                       1                1                         1   \n",
       "1409                      1                1                         1   \n",
       "518                       1                1                         1   \n",
       "867                       1                1                         1   \n",
       "\n",
       "      Exterior1st_HdBoard  Exterior1st_MetalSd  Exterior1st_Others  \\\n",
       "873                     1                    0                   0   \n",
       "719                     1                    0                   0   \n",
       "1409                    0                    0                   1   \n",
       "518                     0                    0                   0   \n",
       "867                     0                    0                   0   \n",
       "\n",
       "      Exterior1st_VinylSd  Exterior1st_Wd Sdng  Exterior2nd_HdBoard  \\\n",
       "873                     0                    0                    1   \n",
       "719                     0                    0                    0   \n",
       "1409                    0                    0                    0   \n",
       "518                     1                    0                    0   \n",
       "867                     1                    0                    0   \n",
       "\n",
       "      Exterior2nd_MetalSd  Exterior2nd_Others  Exterior2nd_VinylSd  \\\n",
       "873                     0                   0                    0   \n",
       "719                     0                   1                    0   \n",
       "1409                    0                   1                    0   \n",
       "518                     0                   0                    1   \n",
       "867                     0                   0                    1   \n",
       "\n",
       "      Exterior2nd_Wd Sdng  Foundation_CBlock  Foundation_Others  \\\n",
       "873                     0                  1                  0   \n",
       "719                     0                  1                  0   \n",
       "1409                    0                  1                  0   \n",
       "518                     0                  0                  0   \n",
       "867                     0                  1                  0   \n",
       "\n",
       "      Foundation_PConc  \n",
       "873                  0  \n",
       "719                  0  \n",
       "1409                 0  \n",
       "518                  1  \n",
       "867                  0  "
      ],
      "text/html": "<div>\n<style scoped>\n    .dataframe tbody tr th:only-of-type {\n        vertical-align: middle;\n    }\n\n    .dataframe tbody tr th {\n        vertical-align: top;\n    }\n\n    .dataframe thead th {\n        text-align: right;\n    }\n</style>\n<table border=\"1\" class=\"dataframe\">\n  <thead>\n    <tr style=\"text-align: right;\">\n      <th></th>\n      <th>MSSubClass</th>\n      <th>LotFrontage</th>\n      <th>LotArea</th>\n      <th>Street</th>\n      <th>LotShape</th>\n      <th>Utilities</th>\n      <th>LandSlope</th>\n      <th>BldgType</th>\n      <th>OverallQual</th>\n      <th>OverallCond</th>\n      <th>YearBuilt</th>\n      <th>YearRemodAdd</th>\n      <th>MasVnrArea</th>\n      <th>ExterQual</th>\n      <th>ExterCond</th>\n      <th>BsmtQual</th>\n      <th>BsmtCond</th>\n      <th>BsmtExposure</th>\n      <th>BsmtFinType1</th>\n      <th>BsmtFinSF1</th>\n      <th>BsmtFinType2</th>\n      <th>BsmtFinSF2</th>\n      <th>BsmtUnfSF</th>\n      <th>TotalBsmtSF</th>\n      <th>HeatingQC</th>\n      <th>CentralAir</th>\n      <th>1stFlrSF</th>\n      <th>2ndFlrSF</th>\n      <th>LowQualFinSF</th>\n      <th>GrLivArea</th>\n      <th>BsmtFullBath</th>\n      <th>BsmtHalfBath</th>\n      <th>FullBath</th>\n      <th>HalfBath</th>\n      <th>BedroomAbvGr</th>\n      <th>KitchenAbvGr</th>\n      <th>KitchenQual</th>\n      <th>TotRmsAbvGrd</th>\n      <th>Fireplaces</th>\n      <th>FireplaceQu</th>\n      <th>GarageYrBlt</th>\n      <th>GarageFinish</th>\n      <th>GarageCars</th>\n      <th>GarageArea</th>\n      <th>GarageQual</th>\n      <th>GarageCond</th>\n      <th>PavedDrive</th>\n      <th>WoodDeckSF</th>\n      <th>OpenPorchSF</th>\n      <th>EnclosedPorch</th>\n      <th>3SsnPorch</th>\n      <th>ScreenPorch</th>\n      <th>PoolArea</th>\n      <th>PoolQC</th>\n      <th>Fence</th>\n      <th>MiscVal</th>\n      <th>MoSold</th>\n      <th>YrSold</th>\n      <th>TotalBath</th>\n      <th>TotalSqrFootage</th>\n      <th>TotalPorch</th>\n      <th>bin_MSZoning_RL</th>\n      <th>bin_LandContour_Lvl</th>\n      <th>bin_LotConfig_Inside</th>\n      <th>bin_Neighborhood_Others</th>\n      <th>bin_Condition1_Norm</th>\n      <th>bin_HouseStyle_1Story</th>\n      <th>bin_RoofStyle_Gable</th>\n      <th>bin_MasVnrType_None</th>\n      <th>bin_Electrical_SBrkr</th>\n      <th>bin_Functional_Typ</th>\n      <th>bin_GarageType_Attchd</th>\n      <th>bin_SaleType_WD</th>\n      <th>bin_SaleCondition_Normal</th>\n      <th>Exterior1st_HdBoard</th>\n      <th>Exterior1st_MetalSd</th>\n      <th>Exterior1st_Others</th>\n      <th>Exterior1st_VinylSd</th>\n      <th>Exterior1st_Wd Sdng</th>\n      <th>Exterior2nd_HdBoard</th>\n      <th>Exterior2nd_MetalSd</th>\n      <th>Exterior2nd_Others</th>\n      <th>Exterior2nd_VinylSd</th>\n      <th>Exterior2nd_Wd Sdng</th>\n      <th>Foundation_CBlock</th>\n      <th>Foundation_Others</th>\n      <th>Foundation_PConc</th>\n    </tr>\n  </thead>\n  <tbody>\n    <tr>\n      <th>873</th>\n      <td>40</td>\n      <td>60.000000</td>\n      <td>12144</td>\n      <td>1</td>\n      <td>0</td>\n      <td>0</td>\n      <td>0</td>\n      <td>0</td>\n      <td>5</td>\n      <td>7</td>\n      <td>1949</td>\n      <td>1950</td>\n      <td>0.0</td>\n      <td>1</td>\n      <td>2</td>\n      <td>2</td>\n      <td>2</td>\n      <td>3</td>\n      <td>3</td>\n      <td>375</td>\n      <td>5</td>\n      <td>0</td>\n      <td>457</td>\n      <td>832</td>\n      <td>1</td>\n      <td>1</td>\n      <td>1036</td>\n      <td>0</td>\n      <td>232</td>\n      <td>1268</td>\n      <td>0</td>\n      <td>0</td>\n      <td>1</td>\n      <td>0</td>\n      <td>3</td>\n      <td>1</td>\n      <td>2</td>\n      <td>6</td>\n      <td>1</td>\n      <td>1</td>\n      <td>1949.0</td>\n      <td>2</td>\n      <td>1</td>\n      <td>288</td>\n      <td>2</td>\n      <td>2</td>\n      <td>0</td>\n      <td>0</td>\n      <td>28</td>\n      <td>0</td>\n      <td>0</td>\n      <td>0</td>\n      <td>0</td>\n      <td>4</td>\n      <td>4</td>\n      <td>0</td>\n      <td>9</td>\n      <td>2009</td>\n      <td>1.0</td>\n      <td>1411</td>\n      <td>28</td>\n      <td>1</td>\n      <td>1</td>\n      <td>1</td>\n      <td>0</td>\n      <td>1</td>\n      <td>1</td>\n      <td>1</td>\n      <td>1</td>\n      <td>1</td>\n      <td>1</td>\n      <td>1</td>\n      <td>1</td>\n      <td>1</td>\n      <td>1</td>\n      <td>0</td>\n      <td>0</td>\n      <td>0</td>\n      <td>0</td>\n      <td>1</td>\n      <td>0</td>\n      <td>0</td>\n      <td>0</td>\n      <td>0</td>\n      <td>1</td>\n      <td>0</td>\n      <td>0</td>\n    </tr>\n    <tr>\n      <th>719</th>\n      <td>20</td>\n      <td>69.000000</td>\n      <td>9920</td>\n      <td>1</td>\n      <td>1</td>\n      <td>0</td>\n      <td>0</td>\n      <td>0</td>\n      <td>5</td>\n      <td>6</td>\n      <td>1969</td>\n      <td>1969</td>\n      <td>0.0</td>\n      <td>2</td>\n      <td>2</td>\n      <td>1</td>\n      <td>2</td>\n      <td>0</td>\n      <td>1</td>\n      <td>523</td>\n      <td>5</td>\n      <td>0</td>\n      <td>448</td>\n      <td>971</td>\n      <td>2</td>\n      <td>1</td>\n      <td>971</td>\n      <td>0</td>\n      <td>0</td>\n      <td>971</td>\n      <td>0</td>\n      <td>0</td>\n      <td>1</td>\n      <td>1</td>\n      <td>3</td>\n      <td>1</td>\n      <td>2</td>\n      <td>5</td>\n      <td>1</td>\n      <td>4</td>\n      <td>1969.0</td>\n      <td>2</td>\n      <td>1</td>\n      <td>300</td>\n      <td>2</td>\n      <td>2</td>\n      <td>0</td>\n      <td>0</td>\n      <td>0</td>\n      <td>0</td>\n      <td>0</td>\n      <td>0</td>\n      <td>0</td>\n      <td>4</td>\n      <td>4</td>\n      <td>0</td>\n      <td>5</td>\n      <td>2006</td>\n      <td>1.5</td>\n      <td>1494</td>\n      <td>0</td>\n      <td>1</td>\n      <td>1</td>\n      <td>1</td>\n      <td>1</td>\n      <td>1</td>\n      <td>1</td>\n      <td>1</td>\n      <td>1</td>\n      <td>1</td>\n      <td>1</td>\n      <td>1</td>\n      <td>1</td>\n      <td>1</td>\n      <td>1</td>\n      <td>0</td>\n      <td>0</td>\n      <td>0</td>\n      <td>0</td>\n      <td>0</td>\n      <td>0</td>\n      <td>1</td>\n      <td>0</td>\n      <td>0</td>\n      <td>1</td>\n      <td>0</td>\n      <td>0</td>\n    </tr>\n    <tr>\n      <th>1409</th>\n      <td>60</td>\n      <td>46.000000</td>\n      <td>20544</td>\n      <td>1</td>\n      <td>1</td>\n      <td>0</td>\n      <td>0</td>\n      <td>0</td>\n      <td>7</td>\n      <td>6</td>\n      <td>1986</td>\n      <td>1991</td>\n      <td>123.0</td>\n      <td>2</td>\n      <td>1</td>\n      <td>1</td>\n      <td>2</td>\n      <td>3</td>\n      <td>5</td>\n      <td>0</td>\n      <td>5</td>\n      <td>0</td>\n      <td>791</td>\n      <td>791</td>\n      <td>1</td>\n      <td>1</td>\n      <td>1236</td>\n      <td>857</td>\n      <td>0</td>\n      <td>2093</td>\n      <td>0</td>\n      <td>0</td>\n      <td>2</td>\n      <td>1</td>\n      <td>3</td>\n      <td>1</td>\n      <td>2</td>\n      <td>7</td>\n      <td>1</td>\n      <td>2</td>\n      <td>1986.0</td>\n      <td>0</td>\n      <td>2</td>\n      <td>542</td>\n      <td>2</td>\n      <td>2</td>\n      <td>0</td>\n      <td>364</td>\n      <td>63</td>\n      <td>0</td>\n      <td>0</td>\n      <td>0</td>\n      <td>0</td>\n      <td>4</td>\n      <td>1</td>\n      <td>0</td>\n      <td>11</td>\n      <td>2008</td>\n      <td>2.5</td>\n      <td>2093</td>\n      <td>427</td>\n      <td>1</td>\n      <td>1</td>\n      <td>0</td>\n      <td>1</td>\n      <td>1</td>\n      <td>0</td>\n      <td>1</td>\n      <td>0</td>\n      <td>1</td>\n      <td>1</td>\n      <td>1</td>\n      <td>1</td>\n      <td>1</td>\n      <td>0</td>\n      <td>0</td>\n      <td>1</td>\n      <td>0</td>\n      <td>0</td>\n      <td>0</td>\n      <td>0</td>\n      <td>1</td>\n      <td>0</td>\n      <td>0</td>\n      <td>1</td>\n      <td>0</td>\n      <td>0</td>\n    </tr>\n    <tr>\n      <th>518</th>\n      <td>60</td>\n      <td>71.861111</td>\n      <td>9531</td>\n      <td>1</td>\n      <td>1</td>\n      <td>0</td>\n      <td>0</td>\n      <td>0</td>\n      <td>6</td>\n      <td>5</td>\n      <td>1998</td>\n      <td>1998</td>\n      <td>0.0</td>\n      <td>2</td>\n      <td>2</td>\n      <td>1</td>\n      <td>2</td>\n      <td>2</td>\n      <td>0</td>\n      <td>706</td>\n      <td>5</td>\n      <td>0</td>\n      <td>88</td>\n      <td>794</td>\n      <td>0</td>\n      <td>1</td>\n      <td>882</td>\n      <td>914</td>\n      <td>0</td>\n      <td>1796</td>\n      <td>1</td>\n      <td>0</td>\n      <td>2</td>\n      <td>1</td>\n      <td>3</td>\n      <td>1</td>\n      <td>2</td>\n      <td>7</td>\n      <td>0</td>\n      <td>5</td>\n      <td>1998.0</td>\n      <td>1</td>\n      <td>2</td>\n      <td>546</td>\n      <td>2</td>\n      <td>2</td>\n      <td>0</td>\n      <td>0</td>\n      <td>36</td>\n      <td>0</td>\n      <td>0</td>\n      <td>0</td>\n      <td>0</td>\n      <td>4</td>\n      <td>1</td>\n      <td>0</td>\n      <td>5</td>\n      <td>2007</td>\n      <td>3.5</td>\n      <td>2502</td>\n      <td>36</td>\n      <td>1</td>\n      <td>1</td>\n      <td>0</td>\n      <td>1</td>\n      <td>1</td>\n      <td>0</td>\n      <td>1</td>\n      <td>1</td>\n      <td>1</td>\n      <td>1</td>\n      <td>1</td>\n      <td>1</td>\n      <td>1</td>\n      <td>0</td>\n      <td>0</td>\n      <td>0</td>\n      <td>1</td>\n      <td>0</td>\n      <td>0</td>\n      <td>0</td>\n      <td>0</td>\n      <td>1</td>\n      <td>0</td>\n      <td>0</td>\n      <td>0</td>\n      <td>1</td>\n    </tr>\n    <tr>\n      <th>867</th>\n      <td>20</td>\n      <td>85.000000</td>\n      <td>6970</td>\n      <td>1</td>\n      <td>0</td>\n      <td>0</td>\n      <td>0</td>\n      <td>0</td>\n      <td>4</td>\n      <td>5</td>\n      <td>1961</td>\n      <td>1961</td>\n      <td>0.0</td>\n      <td>2</td>\n      <td>2</td>\n      <td>2</td>\n      <td>2</td>\n      <td>3</td>\n      <td>1</td>\n      <td>932</td>\n      <td>5</td>\n      <td>0</td>\n      <td>108</td>\n      <td>1040</td>\n      <td>2</td>\n      <td>1</td>\n      <td>1120</td>\n      <td>0</td>\n      <td>0</td>\n      <td>1120</td>\n      <td>1</td>\n      <td>0</td>\n      <td>1</td>\n      <td>1</td>\n      <td>3</td>\n      <td>1</td>\n      <td>3</td>\n      <td>5</td>\n      <td>0</td>\n      <td>5</td>\n      <td>1961.0</td>\n      <td>1</td>\n      <td>2</td>\n      <td>544</td>\n      <td>2</td>\n      <td>2</td>\n      <td>0</td>\n      <td>168</td>\n      <td>0</td>\n      <td>0</td>\n      <td>0</td>\n      <td>0</td>\n      <td>0</td>\n      <td>4</td>\n      <td>4</td>\n      <td>400</td>\n      <td>5</td>\n      <td>2007</td>\n      <td>2.5</td>\n      <td>2052</td>\n      <td>168</td>\n      <td>1</td>\n      <td>1</td>\n      <td>0</td>\n      <td>1</td>\n      <td>0</td>\n      <td>1</td>\n      <td>1</td>\n      <td>1</td>\n      <td>1</td>\n      <td>1</td>\n      <td>1</td>\n      <td>1</td>\n      <td>1</td>\n      <td>0</td>\n      <td>0</td>\n      <td>0</td>\n      <td>1</td>\n      <td>0</td>\n      <td>0</td>\n      <td>0</td>\n      <td>0</td>\n      <td>1</td>\n      <td>0</td>\n      <td>1</td>\n      <td>0</td>\n      <td>0</td>\n    </tr>\n  </tbody>\n</table>\n</div>"
     },
     "metadata": {},
     "execution_count": 46
    }
   ],
   "source": [
    "X_test_t.head(5)"
   ]
  },
  {
   "cell_type": "code",
   "execution_count": null,
   "metadata": {},
   "outputs": [],
   "source": []
  }
 ],
 "metadata": {
  "file_extension": ".py",
  "kernelspec": {
   "display_name": "Python 3",
   "language": "python",
   "name": "python3"
  },
  "language_info": {
   "codemirror_mode": {
    "name": "ipython",
    "version": 3
   },
   "file_extension": ".py",
   "mimetype": "text/x-python",
   "name": "python",
   "nbconvert_exporter": "python",
   "pygments_lexer": "ipython3",
   "version": "3.8.3-final"
  },
  "mimetype": "text/x-python",
  "name": "python",
  "npconvert_exporter": "python",
  "pygments_lexer": "ipython3",
  "toc": {
   "base_numbering": 1,
   "nav_menu": {
    "height": "185.99px",
    "width": "218.993px"
   },
   "number_sections": true,
   "sideBar": true,
   "skip_h1_title": false,
   "title_cell": "Table of Contents",
   "title_sidebar": "Contents",
   "toc_cell": false,
   "toc_position": {
    "height": "calc(100% - 180px)",
    "left": "10px",
    "top": "150px",
    "width": "193.172px"
   },
   "toc_section_display": true,
   "toc_window_display": true
  },
  "version": 3
 },
 "nbformat": 4,
 "nbformat_minor": 4
}